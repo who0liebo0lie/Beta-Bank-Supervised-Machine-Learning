{
 "cells": [
  {
   "cell_type": "markdown",
   "metadata": {},
   "source": [
    "# Beta Bank Supervised Machine Learning"
   ]
  },
  {
   "cell_type": "markdown",
   "metadata": {},
   "source": [
    "Project on Supervised Machine Learning\n",
    "\n",
    "Beta Bank customers have been gradually leaving.  Managment know it’s cheaper to retain existing customers rather than to attract new ones. Project below will predict whether a customer will leave the bank soon. The projected information will be based on other clients’ past behavior and termination of contracts with the bank.A model with the maximum possible F1 score (at least 0.59 for the test set) will be created.  A compasrision between the F1 and AUC-ROC metric and compare it with the F1.\n",
    "\n",
    "Previous customer history will be dowloaded and examined. The balance of classes will be examined. Initial model will be trained without taking into account the imbalance. Model will then be improved. Two approaches will be utilized to fixing class imbalance. Training set will enable us to pick the best parameters. The different models will be trained on training and validation sets to determine the best one. \n",
    "\n",
    "Following is a description of the file being examined:\n",
    "\n",
    "Features:\n",
    "RowNumber — data string index\n",
    "CustomerId — unique customer identifier\n",
    "Surname — surname\n",
    "CreditScore — credit score\n",
    "Geography — country of residence\n",
    "Gender — gender\n",
    "Age — age\n",
    "Tenure — period of maturation for a customer’s fixed deposit (years)\n",
    "Balance — account balance\n",
    "NumOfProducts — number of banking products used by the customer\n",
    "HasCrCard — customer has a credit card\n",
    "IsActiveMember — customer’s activeness\n",
    "EstimatedSalary — estimated salary\n",
    "\n",
    "Target:\n",
    "Exited — сustomer has left"
   ]
  },
  {
   "cell_type": "code",
   "execution_count": 1,
   "metadata": {},
   "outputs": [],
   "source": [
    "#import all needed libraries \n",
    "import pandas as pd\n",
    "\n",
    "#import display libraries \n",
    "import seaborn as sns\n",
    "import matplotlib.pyplot as plt\n",
    "\n",
    "#import named regression models \n",
    "from sklearn.linear_model import LogisticRegression\n",
    "from sklearn.ensemble import RandomForestRegressor\n",
    "\n",
    "#import ability to split into training and testing data sets \n",
    "from sklearn.model_selection import train_test_split\n",
    "\n",
    "#import ability to evaluate accuracy of data \n",
    "from sklearn.metrics import mean_squared_error\n",
    "from sklearn.metrics import accuracy_score\n",
    "\n",
    "#import classification models \n",
    "from sklearn.tree import DecisionTreeClassifier\n",
    "from sklearn.ensemble import RandomForestClassifier\n",
    "\n",
    "\n",
    "from joblib import dump\n",
    "\n",
    "#needed to compare. \n",
    "from sklearn.utils import shuffle\n",
    "from sklearn.utils import resample\n",
    "from sklearn.metrics import f1_score\n",
    "from sklearn.metrics import roc_curve\n",
    "from sklearn.metrics import roc_auc_score\n",
    "from sklearn.model_selection import GridSearchCV\n"
   ]
  },
  {
   "cell_type": "code",
   "execution_count": 2,
   "metadata": {},
   "outputs": [],
   "source": [
    "beta=pd.read_csv('/datasets/Churn.csv')"
   ]
  },
  {
   "cell_type": "markdown",
   "metadata": {},
   "source": [
    "PreProcessing "
   ]
  },
  {
   "cell_type": "code",
   "execution_count": 3,
   "metadata": {
    "scrolled": false
   },
   "outputs": [
    {
     "name": "stdout",
     "output_type": "stream",
     "text": [
      "<class 'pandas.core.frame.DataFrame'>\n",
      "RangeIndex: 10000 entries, 0 to 9999\n",
      "Data columns (total 14 columns):\n",
      " #   Column           Non-Null Count  Dtype  \n",
      "---  ------           --------------  -----  \n",
      " 0   RowNumber        10000 non-null  int64  \n",
      " 1   CustomerId       10000 non-null  int64  \n",
      " 2   Surname          10000 non-null  object \n",
      " 3   CreditScore      10000 non-null  int64  \n",
      " 4   Geography        10000 non-null  object \n",
      " 5   Gender           10000 non-null  object \n",
      " 6   Age              10000 non-null  int64  \n",
      " 7   Tenure           9091 non-null   float64\n",
      " 8   Balance          10000 non-null  float64\n",
      " 9   NumOfProducts    10000 non-null  int64  \n",
      " 10  HasCrCard        10000 non-null  int64  \n",
      " 11  IsActiveMember   10000 non-null  int64  \n",
      " 12  EstimatedSalary  10000 non-null  float64\n",
      " 13  Exited           10000 non-null  int64  \n",
      "dtypes: float64(3), int64(8), object(3)\n",
      "memory usage: 1.1+ MB\n"
     ]
    }
   ],
   "source": [
    "#explore info\n",
    "beta.info()"
   ]
  },
  {
   "cell_type": "code",
   "execution_count": 4,
   "metadata": {},
   "outputs": [
    {
     "data": {
      "text/html": [
       "<div>\n",
       "<style scoped>\n",
       "    .dataframe tbody tr th:only-of-type {\n",
       "        vertical-align: middle;\n",
       "    }\n",
       "\n",
       "    .dataframe tbody tr th {\n",
       "        vertical-align: top;\n",
       "    }\n",
       "\n",
       "    .dataframe thead th {\n",
       "        text-align: right;\n",
       "    }\n",
       "</style>\n",
       "<table border=\"1\" class=\"dataframe\">\n",
       "  <thead>\n",
       "    <tr style=\"text-align: right;\">\n",
       "      <th></th>\n",
       "      <th>RowNumber</th>\n",
       "      <th>CustomerId</th>\n",
       "      <th>Surname</th>\n",
       "      <th>CreditScore</th>\n",
       "      <th>Geography</th>\n",
       "      <th>Gender</th>\n",
       "      <th>Age</th>\n",
       "      <th>Tenure</th>\n",
       "      <th>Balance</th>\n",
       "      <th>NumOfProducts</th>\n",
       "      <th>HasCrCard</th>\n",
       "      <th>IsActiveMember</th>\n",
       "      <th>EstimatedSalary</th>\n",
       "      <th>Exited</th>\n",
       "    </tr>\n",
       "  </thead>\n",
       "  <tbody>\n",
       "    <tr>\n",
       "      <th>0</th>\n",
       "      <td>1</td>\n",
       "      <td>15634602</td>\n",
       "      <td>Hargrave</td>\n",
       "      <td>619</td>\n",
       "      <td>France</td>\n",
       "      <td>Female</td>\n",
       "      <td>42</td>\n",
       "      <td>2.0</td>\n",
       "      <td>0.00</td>\n",
       "      <td>1</td>\n",
       "      <td>1</td>\n",
       "      <td>1</td>\n",
       "      <td>101348.88</td>\n",
       "      <td>1</td>\n",
       "    </tr>\n",
       "    <tr>\n",
       "      <th>1</th>\n",
       "      <td>2</td>\n",
       "      <td>15647311</td>\n",
       "      <td>Hill</td>\n",
       "      <td>608</td>\n",
       "      <td>Spain</td>\n",
       "      <td>Female</td>\n",
       "      <td>41</td>\n",
       "      <td>1.0</td>\n",
       "      <td>83807.86</td>\n",
       "      <td>1</td>\n",
       "      <td>0</td>\n",
       "      <td>1</td>\n",
       "      <td>112542.58</td>\n",
       "      <td>0</td>\n",
       "    </tr>\n",
       "    <tr>\n",
       "      <th>2</th>\n",
       "      <td>3</td>\n",
       "      <td>15619304</td>\n",
       "      <td>Onio</td>\n",
       "      <td>502</td>\n",
       "      <td>France</td>\n",
       "      <td>Female</td>\n",
       "      <td>42</td>\n",
       "      <td>8.0</td>\n",
       "      <td>159660.80</td>\n",
       "      <td>3</td>\n",
       "      <td>1</td>\n",
       "      <td>0</td>\n",
       "      <td>113931.57</td>\n",
       "      <td>1</td>\n",
       "    </tr>\n",
       "    <tr>\n",
       "      <th>3</th>\n",
       "      <td>4</td>\n",
       "      <td>15701354</td>\n",
       "      <td>Boni</td>\n",
       "      <td>699</td>\n",
       "      <td>France</td>\n",
       "      <td>Female</td>\n",
       "      <td>39</td>\n",
       "      <td>1.0</td>\n",
       "      <td>0.00</td>\n",
       "      <td>2</td>\n",
       "      <td>0</td>\n",
       "      <td>0</td>\n",
       "      <td>93826.63</td>\n",
       "      <td>0</td>\n",
       "    </tr>\n",
       "    <tr>\n",
       "      <th>4</th>\n",
       "      <td>5</td>\n",
       "      <td>15737888</td>\n",
       "      <td>Mitchell</td>\n",
       "      <td>850</td>\n",
       "      <td>Spain</td>\n",
       "      <td>Female</td>\n",
       "      <td>43</td>\n",
       "      <td>2.0</td>\n",
       "      <td>125510.82</td>\n",
       "      <td>1</td>\n",
       "      <td>1</td>\n",
       "      <td>1</td>\n",
       "      <td>79084.10</td>\n",
       "      <td>0</td>\n",
       "    </tr>\n",
       "  </tbody>\n",
       "</table>\n",
       "</div>"
      ],
      "text/plain": [
       "   RowNumber  CustomerId   Surname  CreditScore Geography  Gender  Age  \\\n",
       "0          1    15634602  Hargrave          619    France  Female   42   \n",
       "1          2    15647311      Hill          608     Spain  Female   41   \n",
       "2          3    15619304      Onio          502    France  Female   42   \n",
       "3          4    15701354      Boni          699    France  Female   39   \n",
       "4          5    15737888  Mitchell          850     Spain  Female   43   \n",
       "\n",
       "   Tenure    Balance  NumOfProducts  HasCrCard  IsActiveMember  \\\n",
       "0     2.0       0.00              1          1               1   \n",
       "1     1.0   83807.86              1          0               1   \n",
       "2     8.0  159660.80              3          1               0   \n",
       "3     1.0       0.00              2          0               0   \n",
       "4     2.0  125510.82              1          1               1   \n",
       "\n",
       "   EstimatedSalary  Exited  \n",
       "0        101348.88       1  \n",
       "1        112542.58       0  \n",
       "2        113931.57       1  \n",
       "3         93826.63       0  \n",
       "4         79084.10       0  "
      ]
     },
     "execution_count": 4,
     "metadata": {},
     "output_type": "execute_result"
    }
   ],
   "source": [
    "#print first 5 rows \n",
    "beta.head(5)"
   ]
  },
  {
   "cell_type": "code",
   "execution_count": 5,
   "metadata": {
    "scrolled": false
   },
   "outputs": [
    {
     "data": {
      "text/plain": [
       "RowNumber            0\n",
       "CustomerId           0\n",
       "Surname              0\n",
       "CreditScore          0\n",
       "Geography            0\n",
       "Gender               0\n",
       "Age                  0\n",
       "Tenure             909\n",
       "Balance              0\n",
       "NumOfProducts        0\n",
       "HasCrCard            0\n",
       "IsActiveMember       0\n",
       "EstimatedSalary      0\n",
       "Exited               0\n",
       "dtype: int64"
      ]
     },
     "execution_count": 5,
     "metadata": {},
     "output_type": "execute_result"
    }
   ],
   "source": [
    "#check for blank cells \n",
    "beta.isna().sum()\n",
    "#there are a lot of blanks in the \"Tenure\" column. theres only 1000 rows and 90% are blank. "
   ]
  },
  {
   "cell_type": "code",
   "execution_count": 6,
   "metadata": {
    "scrolled": true
   },
   "outputs": [
    {
     "name": "stdout",
     "output_type": "stream",
     "text": [
      "<class 'pandas.core.frame.DataFrame'>\n",
      "Int64Index: 382 entries, 29 to 9919\n",
      "Data columns (total 14 columns):\n",
      " #   Column           Non-Null Count  Dtype  \n",
      "---  ------           --------------  -----  \n",
      " 0   RowNumber        382 non-null    int64  \n",
      " 1   CustomerId       382 non-null    int64  \n",
      " 2   Surname          382 non-null    object \n",
      " 3   CreditScore      382 non-null    int64  \n",
      " 4   Geography        382 non-null    object \n",
      " 5   Gender           382 non-null    object \n",
      " 6   Age              382 non-null    int64  \n",
      " 7   Tenure           382 non-null    float64\n",
      " 8   Balance          382 non-null    float64\n",
      " 9   NumOfProducts    382 non-null    int64  \n",
      " 10  HasCrCard        382 non-null    int64  \n",
      " 11  IsActiveMember   382 non-null    int64  \n",
      " 12  EstimatedSalary  382 non-null    float64\n",
      " 13  Exited           382 non-null    int64  \n",
      "dtypes: float64(3), int64(8), object(3)\n",
      "memory usage: 44.8+ KB\n"
     ]
    }
   ],
   "source": [
    "#search if any zeros are present \n",
    "tenure_zero=beta[beta['Tenure']==0]\n",
    "tenure_zero.info()\n",
    "\n"
   ]
  },
  {
   "cell_type": "code",
   "execution_count": 7,
   "metadata": {},
   "outputs": [
    {
     "data": {
      "text/plain": [
       "4.997690023099769"
      ]
     },
     "metadata": {},
     "output_type": "display_data"
    },
    {
     "data": {
      "text/html": [
       "<div>\n",
       "<style scoped>\n",
       "    .dataframe tbody tr th:only-of-type {\n",
       "        vertical-align: middle;\n",
       "    }\n",
       "\n",
       "    .dataframe tbody tr th {\n",
       "        vertical-align: top;\n",
       "    }\n",
       "\n",
       "    .dataframe thead th {\n",
       "        text-align: right;\n",
       "    }\n",
       "</style>\n",
       "<table border=\"1\" class=\"dataframe\">\n",
       "  <thead>\n",
       "    <tr style=\"text-align: right;\">\n",
       "      <th></th>\n",
       "      <th>RowNumber</th>\n",
       "      <th>CustomerId</th>\n",
       "      <th>Surname</th>\n",
       "      <th>CreditScore</th>\n",
       "      <th>Geography</th>\n",
       "      <th>Gender</th>\n",
       "      <th>Age</th>\n",
       "      <th>Tenure</th>\n",
       "      <th>Balance</th>\n",
       "      <th>NumOfProducts</th>\n",
       "      <th>HasCrCard</th>\n",
       "      <th>IsActiveMember</th>\n",
       "      <th>EstimatedSalary</th>\n",
       "      <th>Exited</th>\n",
       "    </tr>\n",
       "  </thead>\n",
       "  <tbody>\n",
       "    <tr>\n",
       "      <th>9995</th>\n",
       "      <td>9996</td>\n",
       "      <td>15606229</td>\n",
       "      <td>Obijiaku</td>\n",
       "      <td>771</td>\n",
       "      <td>France</td>\n",
       "      <td>Male</td>\n",
       "      <td>39</td>\n",
       "      <td>5.0</td>\n",
       "      <td>0.00</td>\n",
       "      <td>2</td>\n",
       "      <td>1</td>\n",
       "      <td>0</td>\n",
       "      <td>96270.64</td>\n",
       "      <td>0</td>\n",
       "    </tr>\n",
       "    <tr>\n",
       "      <th>9996</th>\n",
       "      <td>9997</td>\n",
       "      <td>15569892</td>\n",
       "      <td>Johnstone</td>\n",
       "      <td>516</td>\n",
       "      <td>France</td>\n",
       "      <td>Male</td>\n",
       "      <td>35</td>\n",
       "      <td>10.0</td>\n",
       "      <td>57369.61</td>\n",
       "      <td>1</td>\n",
       "      <td>1</td>\n",
       "      <td>1</td>\n",
       "      <td>101699.77</td>\n",
       "      <td>0</td>\n",
       "    </tr>\n",
       "    <tr>\n",
       "      <th>9997</th>\n",
       "      <td>9998</td>\n",
       "      <td>15584532</td>\n",
       "      <td>Liu</td>\n",
       "      <td>709</td>\n",
       "      <td>France</td>\n",
       "      <td>Female</td>\n",
       "      <td>36</td>\n",
       "      <td>7.0</td>\n",
       "      <td>0.00</td>\n",
       "      <td>1</td>\n",
       "      <td>0</td>\n",
       "      <td>1</td>\n",
       "      <td>42085.58</td>\n",
       "      <td>1</td>\n",
       "    </tr>\n",
       "    <tr>\n",
       "      <th>9998</th>\n",
       "      <td>9999</td>\n",
       "      <td>15682355</td>\n",
       "      <td>Sabbatini</td>\n",
       "      <td>772</td>\n",
       "      <td>Germany</td>\n",
       "      <td>Male</td>\n",
       "      <td>42</td>\n",
       "      <td>3.0</td>\n",
       "      <td>75075.31</td>\n",
       "      <td>2</td>\n",
       "      <td>1</td>\n",
       "      <td>0</td>\n",
       "      <td>92888.52</td>\n",
       "      <td>1</td>\n",
       "    </tr>\n",
       "    <tr>\n",
       "      <th>9999</th>\n",
       "      <td>10000</td>\n",
       "      <td>15628319</td>\n",
       "      <td>Walker</td>\n",
       "      <td>792</td>\n",
       "      <td>France</td>\n",
       "      <td>Female</td>\n",
       "      <td>28</td>\n",
       "      <td>NaN</td>\n",
       "      <td>130142.79</td>\n",
       "      <td>1</td>\n",
       "      <td>1</td>\n",
       "      <td>0</td>\n",
       "      <td>38190.78</td>\n",
       "      <td>0</td>\n",
       "    </tr>\n",
       "  </tbody>\n",
       "</table>\n",
       "</div>"
      ],
      "text/plain": [
       "      RowNumber  CustomerId    Surname  CreditScore Geography  Gender  Age  \\\n",
       "9995       9996    15606229   Obijiaku          771    France    Male   39   \n",
       "9996       9997    15569892  Johnstone          516    France    Male   35   \n",
       "9997       9998    15584532        Liu          709    France  Female   36   \n",
       "9998       9999    15682355  Sabbatini          772   Germany    Male   42   \n",
       "9999      10000    15628319     Walker          792    France  Female   28   \n",
       "\n",
       "      Tenure    Balance  NumOfProducts  HasCrCard  IsActiveMember  \\\n",
       "9995     5.0       0.00              2          1               0   \n",
       "9996    10.0   57369.61              1          1               1   \n",
       "9997     7.0       0.00              1          0               1   \n",
       "9998     3.0   75075.31              2          1               0   \n",
       "9999     NaN  130142.79              1          1               0   \n",
       "\n",
       "      EstimatedSalary  Exited  \n",
       "9995         96270.64       0  \n",
       "9996        101699.77       0  \n",
       "9997         42085.58       1  \n",
       "9998         92888.52       1  \n",
       "9999         38190.78       0  "
      ]
     },
     "metadata": {},
     "output_type": "display_data"
    }
   ],
   "source": [
    "#since there are 382 zeros in the Tenure column calculate the mean of the column to use as replacement for NAN\n",
    "display(beta['Tenure'].mean())\n",
    "#check a small sample of rows for sig figs being used in 'Tenure' column \n",
    "display(beta.tail(5))"
   ]
  },
  {
   "cell_type": "code",
   "execution_count": 8,
   "metadata": {},
   "outputs": [
    {
     "data": {
      "text/html": [
       "<div>\n",
       "<style scoped>\n",
       "    .dataframe tbody tr th:only-of-type {\n",
       "        vertical-align: middle;\n",
       "    }\n",
       "\n",
       "    .dataframe tbody tr th {\n",
       "        vertical-align: top;\n",
       "    }\n",
       "\n",
       "    .dataframe thead th {\n",
       "        text-align: right;\n",
       "    }\n",
       "</style>\n",
       "<table border=\"1\" class=\"dataframe\">\n",
       "  <thead>\n",
       "    <tr style=\"text-align: right;\">\n",
       "      <th></th>\n",
       "      <th>RowNumber</th>\n",
       "      <th>CustomerId</th>\n",
       "      <th>Surname</th>\n",
       "      <th>CreditScore</th>\n",
       "      <th>Geography</th>\n",
       "      <th>Gender</th>\n",
       "      <th>Age</th>\n",
       "      <th>Tenure</th>\n",
       "      <th>Balance</th>\n",
       "      <th>NumOfProducts</th>\n",
       "      <th>HasCrCard</th>\n",
       "      <th>IsActiveMember</th>\n",
       "      <th>EstimatedSalary</th>\n",
       "      <th>Exited</th>\n",
       "    </tr>\n",
       "  </thead>\n",
       "  <tbody>\n",
       "    <tr>\n",
       "      <th>0</th>\n",
       "      <td>1</td>\n",
       "      <td>15634602</td>\n",
       "      <td>Hargrave</td>\n",
       "      <td>619</td>\n",
       "      <td>France</td>\n",
       "      <td>Female</td>\n",
       "      <td>42</td>\n",
       "      <td>2.0</td>\n",
       "      <td>0.00</td>\n",
       "      <td>1</td>\n",
       "      <td>1</td>\n",
       "      <td>1</td>\n",
       "      <td>101348.88</td>\n",
       "      <td>1</td>\n",
       "    </tr>\n",
       "    <tr>\n",
       "      <th>1</th>\n",
       "      <td>2</td>\n",
       "      <td>15647311</td>\n",
       "      <td>Hill</td>\n",
       "      <td>608</td>\n",
       "      <td>Spain</td>\n",
       "      <td>Female</td>\n",
       "      <td>41</td>\n",
       "      <td>1.0</td>\n",
       "      <td>83807.86</td>\n",
       "      <td>1</td>\n",
       "      <td>0</td>\n",
       "      <td>1</td>\n",
       "      <td>112542.58</td>\n",
       "      <td>0</td>\n",
       "    </tr>\n",
       "    <tr>\n",
       "      <th>2</th>\n",
       "      <td>3</td>\n",
       "      <td>15619304</td>\n",
       "      <td>Onio</td>\n",
       "      <td>502</td>\n",
       "      <td>France</td>\n",
       "      <td>Female</td>\n",
       "      <td>42</td>\n",
       "      <td>8.0</td>\n",
       "      <td>159660.80</td>\n",
       "      <td>3</td>\n",
       "      <td>1</td>\n",
       "      <td>0</td>\n",
       "      <td>113931.57</td>\n",
       "      <td>1</td>\n",
       "    </tr>\n",
       "  </tbody>\n",
       "</table>\n",
       "</div>"
      ],
      "text/plain": [
       "   RowNumber  CustomerId   Surname  CreditScore Geography  Gender  Age  \\\n",
       "0          1    15634602  Hargrave          619    France  Female   42   \n",
       "1          2    15647311      Hill          608     Spain  Female   41   \n",
       "2          3    15619304      Onio          502    France  Female   42   \n",
       "\n",
       "   Tenure    Balance  NumOfProducts  HasCrCard  IsActiveMember  \\\n",
       "0     2.0       0.00              1          1               1   \n",
       "1     1.0   83807.86              1          0               1   \n",
       "2     8.0  159660.80              3          1               0   \n",
       "\n",
       "   EstimatedSalary  Exited  \n",
       "0        101348.88       1  \n",
       "1        112542.58       0  \n",
       "2        113931.57       1  "
      ]
     },
     "metadata": {},
     "output_type": "display_data"
    },
    {
     "data": {
      "text/html": [
       "<div>\n",
       "<style scoped>\n",
       "    .dataframe tbody tr th:only-of-type {\n",
       "        vertical-align: middle;\n",
       "    }\n",
       "\n",
       "    .dataframe tbody tr th {\n",
       "        vertical-align: top;\n",
       "    }\n",
       "\n",
       "    .dataframe thead th {\n",
       "        text-align: right;\n",
       "    }\n",
       "</style>\n",
       "<table border=\"1\" class=\"dataframe\">\n",
       "  <thead>\n",
       "    <tr style=\"text-align: right;\">\n",
       "      <th></th>\n",
       "      <th>RowNumber</th>\n",
       "      <th>CustomerId</th>\n",
       "      <th>Surname</th>\n",
       "      <th>CreditScore</th>\n",
       "      <th>Geography</th>\n",
       "      <th>Gender</th>\n",
       "      <th>Age</th>\n",
       "      <th>Tenure</th>\n",
       "      <th>Balance</th>\n",
       "      <th>NumOfProducts</th>\n",
       "      <th>HasCrCard</th>\n",
       "      <th>IsActiveMember</th>\n",
       "      <th>EstimatedSalary</th>\n",
       "      <th>Exited</th>\n",
       "    </tr>\n",
       "  </thead>\n",
       "  <tbody>\n",
       "    <tr>\n",
       "      <th>9997</th>\n",
       "      <td>9998</td>\n",
       "      <td>15584532</td>\n",
       "      <td>Liu</td>\n",
       "      <td>709</td>\n",
       "      <td>France</td>\n",
       "      <td>Female</td>\n",
       "      <td>36</td>\n",
       "      <td>7.0</td>\n",
       "      <td>0.00</td>\n",
       "      <td>1</td>\n",
       "      <td>0</td>\n",
       "      <td>1</td>\n",
       "      <td>42085.58</td>\n",
       "      <td>1</td>\n",
       "    </tr>\n",
       "    <tr>\n",
       "      <th>9998</th>\n",
       "      <td>9999</td>\n",
       "      <td>15682355</td>\n",
       "      <td>Sabbatini</td>\n",
       "      <td>772</td>\n",
       "      <td>Germany</td>\n",
       "      <td>Male</td>\n",
       "      <td>42</td>\n",
       "      <td>3.0</td>\n",
       "      <td>75075.31</td>\n",
       "      <td>2</td>\n",
       "      <td>1</td>\n",
       "      <td>0</td>\n",
       "      <td>92888.52</td>\n",
       "      <td>1</td>\n",
       "    </tr>\n",
       "    <tr>\n",
       "      <th>9999</th>\n",
       "      <td>10000</td>\n",
       "      <td>15628319</td>\n",
       "      <td>Walker</td>\n",
       "      <td>792</td>\n",
       "      <td>France</td>\n",
       "      <td>Female</td>\n",
       "      <td>28</td>\n",
       "      <td>NaN</td>\n",
       "      <td>130142.79</td>\n",
       "      <td>1</td>\n",
       "      <td>1</td>\n",
       "      <td>0</td>\n",
       "      <td>38190.78</td>\n",
       "      <td>0</td>\n",
       "    </tr>\n",
       "  </tbody>\n",
       "</table>\n",
       "</div>"
      ],
      "text/plain": [
       "      RowNumber  CustomerId    Surname  CreditScore Geography  Gender  Age  \\\n",
       "9997       9998    15584532        Liu          709    France  Female   36   \n",
       "9998       9999    15682355  Sabbatini          772   Germany    Male   42   \n",
       "9999      10000    15628319     Walker          792    France  Female   28   \n",
       "\n",
       "      Tenure    Balance  NumOfProducts  HasCrCard  IsActiveMember  \\\n",
       "9997     7.0       0.00              1          0               1   \n",
       "9998     3.0   75075.31              2          1               0   \n",
       "9999     NaN  130142.79              1          1               0   \n",
       "\n",
       "      EstimatedSalary  Exited  \n",
       "9997         42085.58       1  \n",
       "9998         92888.52       1  \n",
       "9999         38190.78       0  "
      ]
     },
     "execution_count": 8,
     "metadata": {},
     "output_type": "execute_result"
    }
   ],
   "source": [
    "# Reviewer's code 2\n",
    "\n",
    "display(beta.head(3))\n",
    "\n",
    "beta.tail(3)"
   ]
  },
  {
   "cell_type": "code",
   "execution_count": 9,
   "metadata": {},
   "outputs": [
    {
     "name": "stdout",
     "output_type": "stream",
     "text": [
      "RowNumber            int64\n",
      "CustomerId           int64\n",
      "Surname             object\n",
      "CreditScore          int64\n",
      "Geography           object\n",
      "Gender              object\n",
      "Age                  int64\n",
      "Tenure             float64\n",
      "Balance            float64\n",
      "NumOfProducts        int64\n",
      "HasCrCard            int64\n",
      "IsActiveMember       int64\n",
      "EstimatedSalary    float64\n",
      "Exited               int64\n",
      "dtype: object\n",
      "RowNumber          0\n",
      "CustomerId         0\n",
      "Surname            0\n",
      "CreditScore        0\n",
      "Geography          0\n",
      "Gender             0\n",
      "Age                0\n",
      "Tenure             0\n",
      "Balance            0\n",
      "NumOfProducts      0\n",
      "HasCrCard          0\n",
      "IsActiveMember     0\n",
      "EstimatedSalary    0\n",
      "Exited             0\n",
      "dtype: int64\n",
      "RowNumber            int64\n",
      "CustomerId           int64\n",
      "Surname             object\n",
      "CreditScore          int64\n",
      "Geography           object\n",
      "Gender              object\n",
      "Age                  int64\n",
      "Tenure             float64\n",
      "Balance            float64\n",
      "NumOfProducts        int64\n",
      "HasCrCard            int64\n",
      "IsActiveMember       int64\n",
      "EstimatedSalary    float64\n",
      "Exited               int64\n",
      "dtype: object\n"
     ]
    }
   ],
   "source": [
    "#subsitute in 5.0 instead of NAN in \"Tenure\" column since represents in full numbers.  \n",
    "#confirm datatype of column trying to replace \n",
    "print(beta.dtypes)\n",
    "#insert number \n",
    "beta['Tenure']=beta['Tenure'].fillna(value=beta['Tenure'].median())\n",
    "#confirm replacement \n",
    "print(beta.isna().sum())\n",
    "print(beta.dtypes)\n"
   ]
  },
  {
   "cell_type": "markdown",
   "metadata": {},
   "source": [
    "Replacement was successful. "
   ]
  },
  {
   "cell_type": "code",
   "execution_count": 10,
   "metadata": {},
   "outputs": [
    {
     "data": {
      "text/html": [
       "<div>\n",
       "<style scoped>\n",
       "    .dataframe tbody tr th:only-of-type {\n",
       "        vertical-align: middle;\n",
       "    }\n",
       "\n",
       "    .dataframe tbody tr th {\n",
       "        vertical-align: top;\n",
       "    }\n",
       "\n",
       "    .dataframe thead th {\n",
       "        text-align: right;\n",
       "    }\n",
       "</style>\n",
       "<table border=\"1\" class=\"dataframe\">\n",
       "  <thead>\n",
       "    <tr style=\"text-align: right;\">\n",
       "      <th></th>\n",
       "      <th>RowNumber</th>\n",
       "      <th>CustomerId</th>\n",
       "      <th>Surname</th>\n",
       "      <th>CreditScore</th>\n",
       "      <th>Geography</th>\n",
       "      <th>Gender</th>\n",
       "      <th>Age</th>\n",
       "      <th>Tenure</th>\n",
       "      <th>Balance</th>\n",
       "      <th>NumOfProducts</th>\n",
       "      <th>HasCrCard</th>\n",
       "      <th>IsActiveMember</th>\n",
       "      <th>EstimatedSalary</th>\n",
       "      <th>Exited</th>\n",
       "    </tr>\n",
       "  </thead>\n",
       "  <tbody>\n",
       "    <tr>\n",
       "      <th>0</th>\n",
       "      <td>1</td>\n",
       "      <td>15634602</td>\n",
       "      <td>Hargrave</td>\n",
       "      <td>619</td>\n",
       "      <td>France</td>\n",
       "      <td>Female</td>\n",
       "      <td>42</td>\n",
       "      <td>2.0</td>\n",
       "      <td>0.00</td>\n",
       "      <td>1</td>\n",
       "      <td>1</td>\n",
       "      <td>1</td>\n",
       "      <td>101348.88</td>\n",
       "      <td>1</td>\n",
       "    </tr>\n",
       "    <tr>\n",
       "      <th>1</th>\n",
       "      <td>2</td>\n",
       "      <td>15647311</td>\n",
       "      <td>Hill</td>\n",
       "      <td>608</td>\n",
       "      <td>Spain</td>\n",
       "      <td>Female</td>\n",
       "      <td>41</td>\n",
       "      <td>1.0</td>\n",
       "      <td>83807.86</td>\n",
       "      <td>1</td>\n",
       "      <td>0</td>\n",
       "      <td>1</td>\n",
       "      <td>112542.58</td>\n",
       "      <td>0</td>\n",
       "    </tr>\n",
       "    <tr>\n",
       "      <th>2</th>\n",
       "      <td>3</td>\n",
       "      <td>15619304</td>\n",
       "      <td>Onio</td>\n",
       "      <td>502</td>\n",
       "      <td>France</td>\n",
       "      <td>Female</td>\n",
       "      <td>42</td>\n",
       "      <td>8.0</td>\n",
       "      <td>159660.80</td>\n",
       "      <td>3</td>\n",
       "      <td>1</td>\n",
       "      <td>0</td>\n",
       "      <td>113931.57</td>\n",
       "      <td>1</td>\n",
       "    </tr>\n",
       "  </tbody>\n",
       "</table>\n",
       "</div>"
      ],
      "text/plain": [
       "   RowNumber  CustomerId   Surname  CreditScore Geography  Gender  Age  \\\n",
       "0          1    15634602  Hargrave          619    France  Female   42   \n",
       "1          2    15647311      Hill          608     Spain  Female   41   \n",
       "2          3    15619304      Onio          502    France  Female   42   \n",
       "\n",
       "   Tenure    Balance  NumOfProducts  HasCrCard  IsActiveMember  \\\n",
       "0     2.0       0.00              1          1               1   \n",
       "1     1.0   83807.86              1          0               1   \n",
       "2     8.0  159660.80              3          1               0   \n",
       "\n",
       "   EstimatedSalary  Exited  \n",
       "0        101348.88       1  \n",
       "1        112542.58       0  \n",
       "2        113931.57       1  "
      ]
     },
     "execution_count": 10,
     "metadata": {},
     "output_type": "execute_result"
    }
   ],
   "source": [
    "beta.head(3)"
   ]
  },
  {
   "cell_type": "code",
   "execution_count": 11,
   "metadata": {},
   "outputs": [
    {
     "name": "stdout",
     "output_type": "stream",
     "text": [
      "0\n",
      "0\n"
     ]
    }
   ],
   "source": [
    "#see any duplicates \n",
    "print(beta.duplicated().sum())\n",
    "print(beta['CustomerId'].duplicated().sum())\n"
   ]
  },
  {
   "cell_type": "code",
   "execution_count": 12,
   "metadata": {},
   "outputs": [
    {
     "name": "stdout",
     "output_type": "stream",
     "text": [
      "   CreditScore Geography  Gender  Age  Tenure    Balance  NumOfProducts  \\\n",
      "0          619    France  Female   42     2.0       0.00              1   \n",
      "1          608     Spain  Female   41     1.0   83807.86              1   \n",
      "2          502    France  Female   42     8.0  159660.80              3   \n",
      "\n",
      "   HasCrCard  IsActiveMember  EstimatedSalary  Exited  \n",
      "0          1               1        101348.88       1  \n",
      "1          0               1        112542.58       0  \n",
      "2          1               0        113931.57       1  \n",
      "1    5457\n",
      "2    4543\n",
      "Name: Gender, dtype: int64\n",
      "France     5014\n",
      "Germany    2509\n",
      "Spain      2477\n",
      "Name: Geography, dtype: int64\n",
      "2    5014\n",
      "3    2509\n",
      "1    2477\n",
      "Name: Geography, dtype: int64\n",
      "CreditScore          int64\n",
      "Geography            int64\n",
      "Gender               int64\n",
      "Age                  int64\n",
      "Tenure             float64\n",
      "Balance            float64\n",
      "NumOfProducts        int64\n",
      "HasCrCard            int64\n",
      "IsActiveMember       int64\n",
      "EstimatedSalary    float64\n",
      "Exited               int64\n",
      "dtype: object\n"
     ]
    }
   ],
   "source": [
    "#goal to remove object data from dataframe. \n",
    "\n",
    "#1. remove unecessary columns since memberID is present for uniqueness. \n",
    "#surname not necessary since not a number\n",
    "#RowNumber not necessary since in the dataframe already shown in distinct columns\n",
    "#CustomerID not necessary after confirming no duplicates. \n",
    "beta = beta.drop(['Surname','RowNumber','CustomerId'], axis=1)\n",
    "print(beta.head(3))\n",
    "\n",
    "#2. convert gender column onto a binary.  Male=1 and Female=2\n",
    "beta['Gender']=beta['Gender'].replace('Female','2')\n",
    "beta['Gender']=beta['Gender'].replace('Male', '1')\n",
    "print(beta['Gender'].value_counts())\n",
    "#convert the gender datatype to an integer \n",
    "beta['Gender'] = beta['Gender'].astype('int')\n",
    "\n",
    "#3. convert geography into a grouping binary\n",
    "print(beta['Geography'].value_counts())\n",
    "#geography locations are minimal.  provide conversion that Spain=1, France=2, and Germany=3 \n",
    "beta['Geography']=beta['Geography'].replace('France','2')\n",
    "beta['Geography']=beta['Geography'].replace('Spain', '1')\n",
    "beta['Geography']=beta['Geography'].replace('Germany', '3')\n",
    "print(beta['Geography'].value_counts())\n",
    "#convert the gender datatype to an integer \n",
    "beta['Geography'] = beta['Geography'].astype('int')\n",
    "\n",
    "#confirm types\n",
    "print(beta.dtypes)\n",
    "\n"
   ]
  },
  {
   "cell_type": "markdown",
   "metadata": {},
   "source": [
    "All datatypes in dataframe have been converted to numeric represntation.  This will enable the models to work. "
   ]
  },
  {
   "cell_type": "code",
   "execution_count": 13,
   "metadata": {},
   "outputs": [
    {
     "name": "stdout",
     "output_type": "stream",
     "text": [
      "0    7963\n",
      "1    2037\n",
      "Name: Exited, dtype: int64\n"
     ]
    }
   ],
   "source": [
    "#examine class balance \n",
    "print(beta['Exited'].value_counts())"
   ]
  },
  {
   "cell_type": "markdown",
   "metadata": {},
   "source": [
    "The class balance of data represented is not equal.  In the dataset the majority of users have not exited from using Beta Bank. Only around 2,000 people have left out of the 10,000 users being evaluated.  However the issue being evaluated is that people have been steadily leaving (implying there would be a higher number of ex-clientle to evaluate).  Model will initially be trained without taking into account this imbalance but it will be adjusted later.   "
   ]
  },
  {
   "cell_type": "code",
   "execution_count": 14,
   "metadata": {},
   "outputs": [
    {
     "data": {
      "image/png": "[encoded data removed]",
      "text/plain": [
       "<Figure size 640x480 with 1 Axes>"
      ]
     },
     "metadata": {},
     "output_type": "display_data"
    }
   ],
   "source": [
    "#explore distribution of other columns visually \n",
    "plt.scatter( beta.index, y=beta[\"Age\"], color='green')\n",
    "plt.xlabel('Users')\n",
    "plt.ylabel('Age')\n",
    "plt.title('Beta Bank Customer Age Distribution')\n",
    "plt.show()\n"
   ]
  },
  {
   "cell_type": "code",
   "execution_count": 15,
   "metadata": {},
   "outputs": [
    {
     "data": {
      "image/png": "[encoded data removed]",
      "text/plain": [
       "<Figure size 640x480 with 1 Axes>"
      ]
     },
     "metadata": {},
     "output_type": "display_data"
    }
   ],
   "source": [
    "#explore distribution of Age columns as historgrams  \n",
    "beta['Age'].hist(color='green')\n",
    "plt.xlabel('Users')\n",
    "plt.ylabel('Age')\n",
    "plt.title('Beta Bank Customer Age Distribution')\n",
    "plt.show()"
   ]
  },
  {
   "cell_type": "markdown",
   "metadata": {},
   "source": [
    "Beta Bank customers seem to vary.  There is a high concentration of users between 20-50 years old.  However users above age 60 are not as plentiful.  In fact there are some outliers of users above 80 and 90 years old. "
   ]
  },
  {
   "cell_type": "code",
   "execution_count": 16,
   "metadata": {},
   "outputs": [
    {
     "data": {
      "image/png": "[encoded data removed]",
      "text/plain": [
       "<Figure size 640x480 with 1 Axes>"
      ]
     },
     "metadata": {},
     "output_type": "display_data"
    }
   ],
   "source": [
    "sns.set_style(\"white\")\n",
    "sns.kdeplot(x=beta.index, y=beta['EstimatedSalary'], cmap=\"Reds\", fill=True)\n",
    "plt.xlabel('Users')\n",
    "plt.ylabel('Salary')\n",
    "plt.title('Salary Ranges of Beta Bank Customer')\n",
    "plt.show()"
   ]
  },
  {
   "cell_type": "code",
   "execution_count": 17,
   "metadata": {},
   "outputs": [
    {
     "data": {
      "image/png": "[encoded data removed]",
      "text/plain": [
       "<Figure size 640x480 with 1 Axes>"
      ]
     },
     "metadata": {},
     "output_type": "display_data"
    }
   ],
   "source": [
    "#explore distribution of Age columns as historgrams  \n",
    "beta['EstimatedSalary'].hist(color='red')\n",
    "plt.xlabel('Users')\n",
    "plt.ylabel('Salary')\n",
    "plt.title('Salary Ranges of Beta Bank Customers')\n",
    "plt.show()"
   ]
  },
  {
   "cell_type": "code",
   "execution_count": 18,
   "metadata": {},
   "outputs": [
    {
     "data": {
      "image/png": "[encoded data removed]",
      "text/plain": [
       "<Figure size 640x480 with 1 Axes>"
      ]
     },
     "metadata": {},
     "output_type": "display_data"
    }
   ],
   "source": [
    "#explore distribution of salary as scatter plot  \n",
    "plt.scatter( beta.index, y=beta[\"EstimatedSalary\"], color='red')\n",
    "plt.xlabel('Users')\n",
    "plt.ylabel('Salaries')\n",
    "plt.title('Salaries of Beta Bank Customers')\n",
    "plt.show()"
   ]
  },
  {
   "cell_type": "markdown",
   "metadata": {},
   "source": [
    "Beta Bank seems to be focused on a higher economic level.  Data is pulled from European countries (Spain, France, Germany).  The average annual salary for Europe in 2024 is 28,000 Euros.  Large concentrations of customers are around 150,000.  There is even a concenentration pocket closer to 200,000 Euros.  A large grouping also observed hovering above 50,000 Euros. To maintain clientle of this caliber it stands to reason why Beta Bank is focused on customer retention.   "
   ]
  },
  {
   "cell_type": "code",
   "execution_count": 19,
   "metadata": {},
   "outputs": [
    {
     "data": {
      "text/html": [
       "<div>\n",
       "<style scoped>\n",
       "    .dataframe tbody tr th:only-of-type {\n",
       "        vertical-align: middle;\n",
       "    }\n",
       "\n",
       "    .dataframe tbody tr th {\n",
       "        vertical-align: top;\n",
       "    }\n",
       "\n",
       "    .dataframe thead th {\n",
       "        text-align: right;\n",
       "    }\n",
       "</style>\n",
       "<table border=\"1\" class=\"dataframe\">\n",
       "  <thead>\n",
       "    <tr style=\"text-align: right;\">\n",
       "      <th></th>\n",
       "      <th>CreditScore</th>\n",
       "      <th>Geography</th>\n",
       "      <th>Gender</th>\n",
       "      <th>Age</th>\n",
       "      <th>Tenure</th>\n",
       "      <th>Balance</th>\n",
       "      <th>NumOfProducts</th>\n",
       "      <th>HasCrCard</th>\n",
       "      <th>IsActiveMember</th>\n",
       "      <th>EstimatedSalary</th>\n",
       "      <th>Exited</th>\n",
       "    </tr>\n",
       "  </thead>\n",
       "  <tbody>\n",
       "    <tr>\n",
       "      <th>5241</th>\n",
       "      <td>574</td>\n",
       "      <td>2</td>\n",
       "      <td>1</td>\n",
       "      <td>41</td>\n",
       "      <td>1.0</td>\n",
       "      <td>0.00</td>\n",
       "      <td>2</td>\n",
       "      <td>0</td>\n",
       "      <td>0</td>\n",
       "      <td>70550.00</td>\n",
       "      <td>0</td>\n",
       "    </tr>\n",
       "    <tr>\n",
       "      <th>5716</th>\n",
       "      <td>611</td>\n",
       "      <td>3</td>\n",
       "      <td>1</td>\n",
       "      <td>37</td>\n",
       "      <td>1.0</td>\n",
       "      <td>117524.72</td>\n",
       "      <td>2</td>\n",
       "      <td>0</td>\n",
       "      <td>1</td>\n",
       "      <td>161064.29</td>\n",
       "      <td>0</td>\n",
       "    </tr>\n",
       "    <tr>\n",
       "      <th>8581</th>\n",
       "      <td>585</td>\n",
       "      <td>2</td>\n",
       "      <td>2</td>\n",
       "      <td>43</td>\n",
       "      <td>2.0</td>\n",
       "      <td>0.00</td>\n",
       "      <td>2</td>\n",
       "      <td>1</td>\n",
       "      <td>0</td>\n",
       "      <td>89402.54</td>\n",
       "      <td>0</td>\n",
       "    </tr>\n",
       "    <tr>\n",
       "      <th>3808</th>\n",
       "      <td>701</td>\n",
       "      <td>3</td>\n",
       "      <td>1</td>\n",
       "      <td>41</td>\n",
       "      <td>0.0</td>\n",
       "      <td>150844.94</td>\n",
       "      <td>1</td>\n",
       "      <td>0</td>\n",
       "      <td>1</td>\n",
       "      <td>127623.36</td>\n",
       "      <td>0</td>\n",
       "    </tr>\n",
       "    <tr>\n",
       "      <th>8541</th>\n",
       "      <td>647</td>\n",
       "      <td>1</td>\n",
       "      <td>1</td>\n",
       "      <td>47</td>\n",
       "      <td>5.0</td>\n",
       "      <td>105603.21</td>\n",
       "      <td>2</td>\n",
       "      <td>1</td>\n",
       "      <td>1</td>\n",
       "      <td>157360.90</td>\n",
       "      <td>0</td>\n",
       "    </tr>\n",
       "  </tbody>\n",
       "</table>\n",
       "</div>"
      ],
      "text/plain": [
       "      CreditScore  Geography  Gender  Age  Tenure    Balance  NumOfProducts  \\\n",
       "5241          574          2       1   41     1.0       0.00              2   \n",
       "5716          611          3       1   37     1.0  117524.72              2   \n",
       "8581          585          2       2   43     2.0       0.00              2   \n",
       "3808          701          3       1   41     0.0  150844.94              1   \n",
       "8541          647          1       1   47     5.0  105603.21              2   \n",
       "\n",
       "      HasCrCard  IsActiveMember  EstimatedSalary  Exited  \n",
       "5241          0               0         70550.00       0  \n",
       "5716          0               1        161064.29       0  \n",
       "8581          1               0         89402.54       0  \n",
       "3808          0               1        127623.36       0  \n",
       "8541          1               1        157360.90       0  "
      ]
     },
     "metadata": {},
     "output_type": "display_data"
    },
    {
     "data": {
      "text/html": [
       "<div>\n",
       "<style scoped>\n",
       "    .dataframe tbody tr th:only-of-type {\n",
       "        vertical-align: middle;\n",
       "    }\n",
       "\n",
       "    .dataframe tbody tr th {\n",
       "        vertical-align: top;\n",
       "    }\n",
       "\n",
       "    .dataframe thead th {\n",
       "        text-align: right;\n",
       "    }\n",
       "</style>\n",
       "<table border=\"1\" class=\"dataframe\">\n",
       "  <thead>\n",
       "    <tr style=\"text-align: right;\">\n",
       "      <th></th>\n",
       "      <th>CreditScore</th>\n",
       "      <th>Geography</th>\n",
       "      <th>Gender</th>\n",
       "      <th>Age</th>\n",
       "      <th>Tenure</th>\n",
       "      <th>Balance</th>\n",
       "      <th>NumOfProducts</th>\n",
       "      <th>HasCrCard</th>\n",
       "      <th>IsActiveMember</th>\n",
       "      <th>EstimatedSalary</th>\n",
       "      <th>Exited</th>\n",
       "    </tr>\n",
       "  </thead>\n",
       "  <tbody>\n",
       "    <tr>\n",
       "      <th>6444</th>\n",
       "      <td>693</td>\n",
       "      <td>3</td>\n",
       "      <td>2</td>\n",
       "      <td>37</td>\n",
       "      <td>6.0</td>\n",
       "      <td>95900.04</td>\n",
       "      <td>1</td>\n",
       "      <td>1</td>\n",
       "      <td>1</td>\n",
       "      <td>38196.24</td>\n",
       "      <td>0</td>\n",
       "    </tr>\n",
       "    <tr>\n",
       "      <th>6236</th>\n",
       "      <td>553</td>\n",
       "      <td>2</td>\n",
       "      <td>1</td>\n",
       "      <td>38</td>\n",
       "      <td>3.0</td>\n",
       "      <td>99844.68</td>\n",
       "      <td>1</td>\n",
       "      <td>0</td>\n",
       "      <td>0</td>\n",
       "      <td>187915.70</td>\n",
       "      <td>0</td>\n",
       "    </tr>\n",
       "    <tr>\n",
       "      <th>521</th>\n",
       "      <td>850</td>\n",
       "      <td>2</td>\n",
       "      <td>1</td>\n",
       "      <td>56</td>\n",
       "      <td>7.0</td>\n",
       "      <td>131317.48</td>\n",
       "      <td>1</td>\n",
       "      <td>1</td>\n",
       "      <td>1</td>\n",
       "      <td>119175.45</td>\n",
       "      <td>0</td>\n",
       "    </tr>\n",
       "    <tr>\n",
       "      <th>9614</th>\n",
       "      <td>746</td>\n",
       "      <td>2</td>\n",
       "      <td>2</td>\n",
       "      <td>37</td>\n",
       "      <td>4.0</td>\n",
       "      <td>0.00</td>\n",
       "      <td>2</td>\n",
       "      <td>0</td>\n",
       "      <td>1</td>\n",
       "      <td>171039.56</td>\n",
       "      <td>0</td>\n",
       "    </tr>\n",
       "    <tr>\n",
       "      <th>1129</th>\n",
       "      <td>669</td>\n",
       "      <td>2</td>\n",
       "      <td>2</td>\n",
       "      <td>35</td>\n",
       "      <td>7.0</td>\n",
       "      <td>0.00</td>\n",
       "      <td>1</td>\n",
       "      <td>1</td>\n",
       "      <td>1</td>\n",
       "      <td>49108.23</td>\n",
       "      <td>1</td>\n",
       "    </tr>\n",
       "  </tbody>\n",
       "</table>\n",
       "</div>"
      ],
      "text/plain": [
       "      CreditScore  Geography  Gender  Age  Tenure    Balance  NumOfProducts  \\\n",
       "6444          693          3       2   37     6.0   95900.04              1   \n",
       "6236          553          2       1   38     3.0   99844.68              1   \n",
       "521           850          2       1   56     7.0  131317.48              1   \n",
       "9614          746          2       2   37     4.0       0.00              2   \n",
       "1129          669          2       2   35     7.0       0.00              1   \n",
       "\n",
       "      HasCrCard  IsActiveMember  EstimatedSalary  Exited  \n",
       "6444          1               1         38196.24       0  \n",
       "6236          0               0        187915.70       0  \n",
       "521           1               1        119175.45       0  \n",
       "9614          0               1        171039.56       0  \n",
       "1129          1               1         49108.23       1  "
      ]
     },
     "metadata": {},
     "output_type": "display_data"
    },
    {
     "data": {
      "text/html": [
       "<div>\n",
       "<style scoped>\n",
       "    .dataframe tbody tr th:only-of-type {\n",
       "        vertical-align: middle;\n",
       "    }\n",
       "\n",
       "    .dataframe tbody tr th {\n",
       "        vertical-align: top;\n",
       "    }\n",
       "\n",
       "    .dataframe thead th {\n",
       "        text-align: right;\n",
       "    }\n",
       "</style>\n",
       "<table border=\"1\" class=\"dataframe\">\n",
       "  <thead>\n",
       "    <tr style=\"text-align: right;\">\n",
       "      <th></th>\n",
       "      <th>CreditScore</th>\n",
       "      <th>Geography</th>\n",
       "      <th>Gender</th>\n",
       "      <th>Age</th>\n",
       "      <th>Tenure</th>\n",
       "      <th>Balance</th>\n",
       "      <th>NumOfProducts</th>\n",
       "      <th>HasCrCard</th>\n",
       "      <th>IsActiveMember</th>\n",
       "      <th>EstimatedSalary</th>\n",
       "      <th>Exited</th>\n",
       "    </tr>\n",
       "  </thead>\n",
       "  <tbody>\n",
       "    <tr>\n",
       "      <th>5910</th>\n",
       "      <td>481</td>\n",
       "      <td>2</td>\n",
       "      <td>2</td>\n",
       "      <td>39</td>\n",
       "      <td>6.0</td>\n",
       "      <td>0.00</td>\n",
       "      <td>1</td>\n",
       "      <td>1</td>\n",
       "      <td>1</td>\n",
       "      <td>24677.54</td>\n",
       "      <td>0</td>\n",
       "    </tr>\n",
       "    <tr>\n",
       "      <th>849</th>\n",
       "      <td>705</td>\n",
       "      <td>2</td>\n",
       "      <td>1</td>\n",
       "      <td>25</td>\n",
       "      <td>0.0</td>\n",
       "      <td>97544.29</td>\n",
       "      <td>1</td>\n",
       "      <td>0</td>\n",
       "      <td>1</td>\n",
       "      <td>59887.15</td>\n",
       "      <td>0</td>\n",
       "    </tr>\n",
       "    <tr>\n",
       "      <th>1689</th>\n",
       "      <td>595</td>\n",
       "      <td>1</td>\n",
       "      <td>1</td>\n",
       "      <td>35</td>\n",
       "      <td>8.0</td>\n",
       "      <td>0.00</td>\n",
       "      <td>1</td>\n",
       "      <td>1</td>\n",
       "      <td>0</td>\n",
       "      <td>100015.79</td>\n",
       "      <td>1</td>\n",
       "    </tr>\n",
       "    <tr>\n",
       "      <th>3129</th>\n",
       "      <td>631</td>\n",
       "      <td>3</td>\n",
       "      <td>1</td>\n",
       "      <td>37</td>\n",
       "      <td>9.0</td>\n",
       "      <td>131519.49</td>\n",
       "      <td>2</td>\n",
       "      <td>1</td>\n",
       "      <td>1</td>\n",
       "      <td>51752.18</td>\n",
       "      <td>0</td>\n",
       "    </tr>\n",
       "    <tr>\n",
       "      <th>3611</th>\n",
       "      <td>746</td>\n",
       "      <td>2</td>\n",
       "      <td>2</td>\n",
       "      <td>21</td>\n",
       "      <td>8.0</td>\n",
       "      <td>166883.07</td>\n",
       "      <td>2</td>\n",
       "      <td>0</td>\n",
       "      <td>1</td>\n",
       "      <td>194563.65</td>\n",
       "      <td>0</td>\n",
       "    </tr>\n",
       "  </tbody>\n",
       "</table>\n",
       "</div>"
      ],
      "text/plain": [
       "      CreditScore  Geography  Gender  Age  Tenure    Balance  NumOfProducts  \\\n",
       "5910          481          2       2   39     6.0       0.00              1   \n",
       "849           705          2       1   25     0.0   97544.29              1   \n",
       "1689          595          1       1   35     8.0       0.00              1   \n",
       "3129          631          3       1   37     9.0  131519.49              2   \n",
       "3611          746          2       2   21     8.0  166883.07              2   \n",
       "\n",
       "      HasCrCard  IsActiveMember  EstimatedSalary  Exited  \n",
       "5910          1               1         24677.54       0  \n",
       "849           0               1         59887.15       0  \n",
       "1689          1               0        100015.79       1  \n",
       "3129          1               1         51752.18       0  \n",
       "3611          0               1        194563.65       0  "
      ]
     },
     "metadata": {},
     "output_type": "display_data"
    }
   ],
   "source": [
    "#split source data into test, training and validation set of 6:2:2\n",
    "#create split of 60% to training and 40% assigned as temp \n",
    "beta_train, beta_temp=train_test_split(beta, test_size=0.4, random_state=54321)\n",
    "#create split from beta_temp to _validation and _test dataframes. Sources 20% of data to each. \n",
    "beta_valid, beta_test=train_test_split(beta_temp, test_size=0.5, random_state=54321)\n",
    "display(beta_train.head())\n",
    "display(beta_valid.head())\n",
    "display(beta_test.head())\n"
   ]
  },
  {
   "cell_type": "code",
   "execution_count": 20,
   "metadata": {},
   "outputs": [],
   "source": [
    "#define variables for training \n",
    "features_train = beta_train.drop(['Exited'], axis=1)\n",
    "target_train = beta_train['Exited']\n",
    "#define variables for testing\n",
    "features_test = beta_test.drop(['Exited'], axis=1)\n",
    "target_test = beta_test['Exited']\n",
    "#define variables for validation \n",
    "features_valid = beta_valid.drop(['Exited'], axis=1)\n",
    "target_valid = beta_valid['Exited']\n"
   ]
  },
  {
   "cell_type": "code",
   "execution_count": 21,
   "metadata": {},
   "outputs": [
    {
     "name": "stdout",
     "output_type": "stream",
     "text": [
      "Best depth: 7\n"
     ]
    }
   ],
   "source": [
    "#test with Decision Tree Classifier \n",
    "\n",
    "best_model = None\n",
    "best_result = 0\n",
    "best_depth = 0\n",
    "for depth in range(1, 10):\n",
    "    #tested ranges from 5 to 500.  once hit 10 and up the accuracy stayed at 0.8625 and best depth was one number before end of range. \n",
    "    model = DecisionTreeClassifier(random_state=12345, max_depth=depth) # create a model with the given depth\n",
    "    model.fit(features_train, target_train)\n",
    "    predictions = model.predict(features_valid)\n",
    "    result = f1_score(target_valid, predictions)\n",
    "    if result > best_result:\n",
    "        best_model = model\n",
    "        best_result = result\n",
    "        best_depth = depth\n",
    "print(\"Best depth:\", best_depth)\n"
   ]
  },
  {
   "cell_type": "code",
   "execution_count": 22,
   "metadata": {},
   "outputs": [
    {
     "name": "stdout",
     "output_type": "stream",
     "text": [
      "Imbalanced Decision Tress F1 Score: 0.5550660792951542\n"
     ]
    }
   ],
   "source": [
    "decision_model = DecisionTreeClassifier(random_state=54321, max_depth=7)\n",
    "decision_model.fit(features_train, target_train)\n",
    "decision_predictions_valid = model.predict(features_valid)\n",
    "\n",
    "# display f1 score\n",
    "predicted_valid = model.predict(features_valid)\n",
    "print(\"Imbalanced Decision Tress F1 Score:\",f1_score(target_valid, predicted_valid))"
   ]
  },
  {
   "cell_type": "code",
   "execution_count": 23,
   "metadata": {},
   "outputs": [],
   "source": [
    "#test with Logistic Regression \n",
    "\n",
    "#train and validate model \n",
    "logistic_model =LogisticRegression(random_state=54321, solver='liblinear') \n",
    "logistic_model.fit(features_train, target_train)\n",
    "score_train = logistic_model.score(features_train, target_train)  \n",
    "score_valid = logistic_model.score(features_valid, target_valid)  "
   ]
  },
  {
   "cell_type": "code",
   "execution_count": 24,
   "metadata": {},
   "outputs": [
    {
     "name": "stdout",
     "output_type": "stream",
     "text": [
      "Imbalanced Logistic Regression F1 Score: 0.5550660792951542\n"
     ]
    }
   ],
   "source": [
    "#test logistic regression model on validation set\n",
    "logistic_predictions_valid = logistic_model.predict(features_valid)\n",
    "\n",
    "# display f1 score\n",
    "predicted_valid = model.predict(features_valid)\n",
    "print(\"Imbalanced Logistic Regression F1 Score:\",f1_score(target_valid, predicted_valid))"
   ]
  },
  {
   "cell_type": "code",
   "execution_count": 25,
   "metadata": {},
   "outputs": [
    {
     "name": "stdout",
     "output_type": "stream",
     "text": [
      "F1 of the best model on the imbalanced Random Forest Regression validation set (n_estimators = 1): 0.5550660792951542\n"
     ]
    }
   ],
   "source": [
    "#test with Random Forest Regression \n",
    "\n",
    "best_score = 0\n",
    "best_est = 0\n",
    "for est in range(1,50): \n",
    "    # choose hyperparameter range (tried between 1-10/50/100)\n",
    "    model = RandomForestRegressor(random_state=54321, n_estimators=est) \n",
    "    model.fit(features_train, target_train) \n",
    "    score = f1_score(target_valid, predictions) \n",
    "    if score > best_score:\n",
    "        best_score = score\n",
    "        best_est = est\n",
    "\n",
    "print(\"F1 of the best model on the imbalanced Random Forest Regression validation set (n_estimators = {}): {}\".format(best_est, best_score))\n"
   ]
  },
  {
   "cell_type": "code",
   "execution_count": 26,
   "metadata": {},
   "outputs": [
    {
     "name": "stdout",
     "output_type": "stream",
     "text": [
      "Imbalanced Random Forest Best parameters: {'max_depth': 20, 'n_estimators': 200, 'random_state': 12345}\n"
     ]
    }
   ],
   "source": [
    "#find best paramaters for Random Forest Classifier for imbalanced df \n",
    "param_grid = {\n",
    "    'n_estimators': [1, 5, 20, 20, 50, 100, 200, 300],\n",
    "    'max_depth': [1, 5, 10, 20, 50, 100, None],\n",
    "    'random_state': [1, 5, 10, 20, 50, 100, 12345, 33333,54321, None]\n",
    "}\n",
    "\n",
    "grid_search = GridSearchCV(RandomForestClassifier(), param_grid, cv=3, n_jobs=-1)\n",
    "grid_search.fit(features_train,target_train)\n",
    "\n",
    "print(\"Imbalanced Random Forest Best parameters:\", grid_search.best_params_)"
   ]
  },
  {
   "cell_type": "code",
   "execution_count": 27,
   "metadata": {},
   "outputs": [
    {
     "name": "stdout",
     "output_type": "stream",
     "text": [
      "Imbalanced Random Forest AUC-ROC: 0.8508703124999999\n",
      "imbalanced Random Forest F1 Score: 0.5727699530516431\n"
     ]
    }
   ],
   "source": [
    "#test with Random Forest Classifier \n",
    "\n",
    "model = RandomForestClassifier(random_state=12345, n_estimators=200, max_depth=20) \n",
    "model.fit(features_train, target_train) \n",
    "rf_predictions_valid = model.predict(features_valid)\n",
    "\n",
    "#AUC-ROC\n",
    "probabilities_valid = model.predict_proba(features_valid)\n",
    "probabilities_one_valid = probabilities_valid[:, 1]\n",
    "auc_roc=roc_auc_score(target_valid, probabilities_one_valid)\n",
    "print(\"Imbalanced Random Forest AUC-ROC:\", auc_roc)\n",
    "\n",
    "# display f1 score\n",
    "predicted_valid = model.predict(features_valid)\n",
    "print(\"imbalanced Random Forest F1 Score:\",f1_score(target_valid, predicted_valid))"
   ]
  },
  {
   "cell_type": "markdown",
   "metadata": {},
   "source": [
    "Initial model testing was performed without altering the source data.  The following information compares the results form the test test.  \n",
    "Decision Tree Test F1 Score  was 0.555.  \n",
    "F1 Score of Logistic Regression was 0.555. \n",
    "Highest F1 score was Random Forest Classifier at 0.572."
   ]
  },
  {
   "cell_type": "markdown",
   "metadata": {},
   "source": [
    "Data will now be adjusted to accomodate the class imbalance previously observed.  "
   ]
  },
  {
   "cell_type": "code",
   "execution_count": 28,
   "metadata": {},
   "outputs": [
    {
     "data": {
      "text/html": [
       "<div>\n",
       "<style scoped>\n",
       "    .dataframe tbody tr th:only-of-type {\n",
       "        vertical-align: middle;\n",
       "    }\n",
       "\n",
       "    .dataframe tbody tr th {\n",
       "        vertical-align: top;\n",
       "    }\n",
       "\n",
       "    .dataframe thead th {\n",
       "        text-align: right;\n",
       "    }\n",
       "</style>\n",
       "<table border=\"1\" class=\"dataframe\">\n",
       "  <thead>\n",
       "    <tr style=\"text-align: right;\">\n",
       "      <th></th>\n",
       "      <th>CreditScore</th>\n",
       "      <th>Geography</th>\n",
       "      <th>Gender</th>\n",
       "      <th>Age</th>\n",
       "      <th>Tenure</th>\n",
       "      <th>Balance</th>\n",
       "      <th>NumOfProducts</th>\n",
       "      <th>HasCrCard</th>\n",
       "      <th>IsActiveMember</th>\n",
       "      <th>EstimatedSalary</th>\n",
       "      <th>Exited</th>\n",
       "    </tr>\n",
       "  </thead>\n",
       "  <tbody>\n",
       "    <tr>\n",
       "      <th>4003</th>\n",
       "      <td>750</td>\n",
       "      <td>2</td>\n",
       "      <td>2</td>\n",
       "      <td>26</td>\n",
       "      <td>1.0</td>\n",
       "      <td>151510.17</td>\n",
       "      <td>2</td>\n",
       "      <td>1</td>\n",
       "      <td>1</td>\n",
       "      <td>19921.72</td>\n",
       "      <td>0</td>\n",
       "    </tr>\n",
       "    <tr>\n",
       "      <th>2271</th>\n",
       "      <td>665</td>\n",
       "      <td>3</td>\n",
       "      <td>1</td>\n",
       "      <td>25</td>\n",
       "      <td>5.0</td>\n",
       "      <td>153611.83</td>\n",
       "      <td>2</td>\n",
       "      <td>1</td>\n",
       "      <td>0</td>\n",
       "      <td>35321.65</td>\n",
       "      <td>0</td>\n",
       "    </tr>\n",
       "    <tr>\n",
       "      <th>7182</th>\n",
       "      <td>692</td>\n",
       "      <td>3</td>\n",
       "      <td>1</td>\n",
       "      <td>49</td>\n",
       "      <td>5.0</td>\n",
       "      <td>110540.43</td>\n",
       "      <td>2</td>\n",
       "      <td>0</td>\n",
       "      <td>1</td>\n",
       "      <td>107472.99</td>\n",
       "      <td>0</td>\n",
       "    </tr>\n",
       "    <tr>\n",
       "      <th>9961</th>\n",
       "      <td>573</td>\n",
       "      <td>1</td>\n",
       "      <td>1</td>\n",
       "      <td>44</td>\n",
       "      <td>9.0</td>\n",
       "      <td>0.00</td>\n",
       "      <td>2</td>\n",
       "      <td>1</td>\n",
       "      <td>0</td>\n",
       "      <td>107124.17</td>\n",
       "      <td>0</td>\n",
       "    </tr>\n",
       "    <tr>\n",
       "      <th>1585</th>\n",
       "      <td>538</td>\n",
       "      <td>2</td>\n",
       "      <td>1</td>\n",
       "      <td>33</td>\n",
       "      <td>6.0</td>\n",
       "      <td>93791.38</td>\n",
       "      <td>1</td>\n",
       "      <td>1</td>\n",
       "      <td>1</td>\n",
       "      <td>199249.29</td>\n",
       "      <td>0</td>\n",
       "    </tr>\n",
       "  </tbody>\n",
       "</table>\n",
       "</div>"
      ],
      "text/plain": [
       "      CreditScore  Geography  Gender  Age  Tenure    Balance  NumOfProducts  \\\n",
       "4003          750          2       2   26     1.0  151510.17              2   \n",
       "2271          665          3       1   25     5.0  153611.83              2   \n",
       "7182          692          3       1   49     5.0  110540.43              2   \n",
       "9961          573          1       1   44     9.0       0.00              2   \n",
       "1585          538          2       1   33     6.0   93791.38              1   \n",
       "\n",
       "      HasCrCard  IsActiveMember  EstimatedSalary  Exited  \n",
       "4003          1               1         19921.72       0  \n",
       "2271          1               0         35321.65       0  \n",
       "7182          0               1        107472.99       0  \n",
       "9961          1               0        107124.17       0  \n",
       "1585          1               1        199249.29       0  "
      ]
     },
     "execution_count": 28,
     "metadata": {},
     "output_type": "execute_result"
    }
   ],
   "source": [
    "#1. downsample Beta customers The number of users that have remained at Beta bank in our sample almost 4x larger.\n",
    "# Separate the rows where the target column is 1\n",
    "subset = beta[beta['Exited'] == 0]\n",
    "\n",
    "# Downsample to 2,037 rows to match existing samples provided of Beta customers that have left. \n",
    "subset_downsampled = subset.sample(n=2037, random_state=40)  \n",
    "\n",
    "# Combine with the rest of the data (where target_column is not 1)\n",
    "remaining_data = beta[beta['Exited'] != 0]\n",
    "beta_downsampled = pd.concat([subset_downsampled, remaining_data])\n",
    "beta_downsampled.head(5)"
   ]
  },
  {
   "cell_type": "code",
   "execution_count": 29,
   "metadata": {},
   "outputs": [
    {
     "name": "stdout",
     "output_type": "stream",
     "text": [
      "0    2037\n",
      "1    2037\n",
      "Name: Exited, dtype: int64\n"
     ]
    }
   ],
   "source": [
    "#examine class balance after downsampling \n",
    "print(beta_downsampled['Exited'].value_counts())"
   ]
  },
  {
   "cell_type": "markdown",
   "metadata": {},
   "source": [
    "Rerun models on edited dataframe \"beta_downsampled\""
   ]
  },
  {
   "cell_type": "code",
   "execution_count": 30,
   "metadata": {},
   "outputs": [],
   "source": [
    "#define downsampled variables for training \n",
    "down_features_train = beta_downsampled.drop(['Exited'], axis=1)\n",
    "down_target_train = beta_downsampled['Exited']\n"
   ]
  },
  {
   "cell_type": "code",
   "execution_count": 31,
   "metadata": {},
   "outputs": [
    {
     "name": "stdout",
     "output_type": "stream",
     "text": [
      "Best depth: 19\n",
      "Decision Tree Downsampled F1 = 0.5727699530516431\n"
     ]
    }
   ],
   "source": [
    "#test with Decision Tree Classifier \n",
    "\n",
    "best_model = None\n",
    "best_result = 0\n",
    "best_depth = 0\n",
    "for depth in range(1, 500):\n",
    "    model = DecisionTreeClassifier(random_state=12345, max_depth=depth) # create a model with the given depth\n",
    "    model.fit(down_features_train, down_target_train)\n",
    "    predictions = model.predict(features_valid)\n",
    "    result = f1_score(target_valid, predictions)\n",
    "    if result > best_result:\n",
    "        best_model = model\n",
    "        best_result = result\n",
    "        best_depth = depth\n",
    "        \n",
    "print(\"Best depth:\", best_depth)\n",
    "print('Decision Tree Downsampled F1 =', f1_score(target_valid, predicted_valid))\n",
    "\n"
   ]
  },
  {
   "cell_type": "code",
   "execution_count": 32,
   "metadata": {},
   "outputs": [
    {
     "data": {
      "text/plain": [
       "LogisticRegression(random_state=54321, solver='liblinear')"
      ]
     },
     "execution_count": 32,
     "metadata": {},
     "output_type": "execute_result"
    }
   ],
   "source": [
    "#retest with Logistic Regression \n",
    "\n",
    "#train and validate model \n",
    "logistic_model =LogisticRegression(random_state=54321, solver='liblinear') \n",
    "logistic_model.fit(down_features_train, down_target_train)"
   ]
  },
  {
   "cell_type": "code",
   "execution_count": 33,
   "metadata": {},
   "outputs": [
    {
     "name": "stdout",
     "output_type": "stream",
     "text": [
      "Downsampled Logistic Regression AUC-ROC: 0.8937499999999999\n",
      "Downsampled Logistic Regression F1 Score: 0.7017543859649124\n"
     ]
    }
   ],
   "source": [
    "#AUC-ROC\n",
    "probabilities_valid = model.predict_proba(features_valid)\n",
    "probabilities_one_valid = probabilities_valid[:, 1]\n",
    "\n",
    "# create auc_roc\n",
    "auc_roc=roc_auc_score(target_valid, probabilities_one_valid)\n",
    "print(\"Downsampled Logistic Regression AUC-ROC:\", auc_roc)\n",
    "\n",
    "# display f1 score\n",
    "predicted_valid = model.predict(features_valid)\n",
    "print(\"Downsampled Logistic Regression F1 Score:\",f1_score(target_valid, predicted_valid))"
   ]
  },
  {
   "cell_type": "code",
   "execution_count": 34,
   "metadata": {},
   "outputs": [
    {
     "name": "stdout",
     "output_type": "stream",
     "text": [
      "Downsampled Random Forest Best parameters: {'max_depth': 10, 'n_estimators': 300, 'random_state': 100}\n"
     ]
    }
   ],
   "source": [
    "#find best paramaters for Random Forest Classifier for downsampled \n",
    "param_grid = {\n",
    "    'n_estimators': [1, 5, 20, 20, 50, 100, 200, 300],\n",
    "    'max_depth': [1, 5, 10, 20, 50, 100, None],\n",
    "    'random_state': [1, 5, 10, 20, 50, 100, 12345, 33333,54321, None]\n",
    "}\n",
    "\n",
    "grid_search = GridSearchCV(RandomForestClassifier(), param_grid, cv=3, n_jobs=-1)\n",
    "grid_search.fit(down_features_train,down_target_train)\n",
    "\n",
    "print(\"Downsampled Random Forest Best parameters:\", grid_search.best_params_)"
   ]
  },
  {
   "cell_type": "code",
   "execution_count": 35,
   "metadata": {},
   "outputs": [
    {
     "name": "stdout",
     "output_type": "stream",
     "text": [
      "Downsampled Random Forest AUC-ROC: 0.938828125\n",
      "Downsampled Random Forest F1 Score: 0.6775431861804223\n"
     ]
    }
   ],
   "source": [
    "#test with Random Forest Classifier \n",
    "\n",
    "model = RandomForestClassifier(random_state=100, n_estimators=300, max_depth=10) \n",
    "model.fit(down_features_train, down_target_train) \n",
    "rf_predictions_valid = model.predict(features_valid)\n",
    "\n",
    "#AUC-ROC\n",
    "probabilities_valid = model.predict_proba(features_valid)\n",
    "probabilities_one_valid = probabilities_valid[:, 1]\n",
    "auc_roc=roc_auc_score(target_valid, probabilities_one_valid)\n",
    "print(\"Downsampled Random Forest AUC-ROC:\", auc_roc)\n",
    "\n",
    "# display f1 score\n",
    "predicted_valid = model.predict(features_valid)\n",
    "print(\"Downsampled Random Forest F1 Score:\",f1_score(target_valid, predicted_valid))"
   ]
  },
  {
   "cell_type": "markdown",
   "metadata": {},
   "source": [
    "Downsample Summary:\n",
    "Downsampled Decision Tress F1 Score: 0.57. \n",
    "Downsampled Logistic Regression F1 Score: 0.70. \n",
    "Downsampled Random Forest F1 Score: 0.68. "
   ]
  },
  {
   "cell_type": "code",
   "execution_count": 36,
   "metadata": {},
   "outputs": [
    {
     "data": {
      "text/html": [
       "<div>\n",
       "<style scoped>\n",
       "    .dataframe tbody tr th:only-of-type {\n",
       "        vertical-align: middle;\n",
       "    }\n",
       "\n",
       "    .dataframe tbody tr th {\n",
       "        vertical-align: top;\n",
       "    }\n",
       "\n",
       "    .dataframe thead th {\n",
       "        text-align: right;\n",
       "    }\n",
       "</style>\n",
       "<table border=\"1\" class=\"dataframe\">\n",
       "  <thead>\n",
       "    <tr style=\"text-align: right;\">\n",
       "      <th></th>\n",
       "      <th>CreditScore</th>\n",
       "      <th>Geography</th>\n",
       "      <th>Gender</th>\n",
       "      <th>Age</th>\n",
       "      <th>Tenure</th>\n",
       "      <th>Balance</th>\n",
       "      <th>NumOfProducts</th>\n",
       "      <th>HasCrCard</th>\n",
       "      <th>IsActiveMember</th>\n",
       "      <th>EstimatedSalary</th>\n",
       "      <th>Exited</th>\n",
       "    </tr>\n",
       "  </thead>\n",
       "  <tbody>\n",
       "    <tr>\n",
       "      <th>5241</th>\n",
       "      <td>574</td>\n",
       "      <td>2</td>\n",
       "      <td>1</td>\n",
       "      <td>41</td>\n",
       "      <td>1.0</td>\n",
       "      <td>0.00</td>\n",
       "      <td>2</td>\n",
       "      <td>0</td>\n",
       "      <td>0</td>\n",
       "      <td>70550.00</td>\n",
       "      <td>0</td>\n",
       "    </tr>\n",
       "    <tr>\n",
       "      <th>5716</th>\n",
       "      <td>611</td>\n",
       "      <td>3</td>\n",
       "      <td>1</td>\n",
       "      <td>37</td>\n",
       "      <td>1.0</td>\n",
       "      <td>117524.72</td>\n",
       "      <td>2</td>\n",
       "      <td>0</td>\n",
       "      <td>1</td>\n",
       "      <td>161064.29</td>\n",
       "      <td>0</td>\n",
       "    </tr>\n",
       "    <tr>\n",
       "      <th>8581</th>\n",
       "      <td>585</td>\n",
       "      <td>2</td>\n",
       "      <td>2</td>\n",
       "      <td>43</td>\n",
       "      <td>2.0</td>\n",
       "      <td>0.00</td>\n",
       "      <td>2</td>\n",
       "      <td>1</td>\n",
       "      <td>0</td>\n",
       "      <td>89402.54</td>\n",
       "      <td>0</td>\n",
       "    </tr>\n",
       "    <tr>\n",
       "      <th>3808</th>\n",
       "      <td>701</td>\n",
       "      <td>3</td>\n",
       "      <td>1</td>\n",
       "      <td>41</td>\n",
       "      <td>0.0</td>\n",
       "      <td>150844.94</td>\n",
       "      <td>1</td>\n",
       "      <td>0</td>\n",
       "      <td>1</td>\n",
       "      <td>127623.36</td>\n",
       "      <td>0</td>\n",
       "    </tr>\n",
       "    <tr>\n",
       "      <th>8541</th>\n",
       "      <td>647</td>\n",
       "      <td>1</td>\n",
       "      <td>1</td>\n",
       "      <td>47</td>\n",
       "      <td>5.0</td>\n",
       "      <td>105603.21</td>\n",
       "      <td>2</td>\n",
       "      <td>1</td>\n",
       "      <td>1</td>\n",
       "      <td>157360.90</td>\n",
       "      <td>0</td>\n",
       "    </tr>\n",
       "  </tbody>\n",
       "</table>\n",
       "</div>"
      ],
      "text/plain": [
       "      CreditScore  Geography  Gender  Age  Tenure    Balance  NumOfProducts  \\\n",
       "5241          574          2       1   41     1.0       0.00              2   \n",
       "5716          611          3       1   37     1.0  117524.72              2   \n",
       "8581          585          2       2   43     2.0       0.00              2   \n",
       "3808          701          3       1   41     0.0  150844.94              1   \n",
       "8541          647          1       1   47     5.0  105603.21              2   \n",
       "\n",
       "      HasCrCard  IsActiveMember  EstimatedSalary  Exited  \n",
       "5241          0               0         70550.00       0  \n",
       "5716          0               1        161064.29       0  \n",
       "8581          1               0         89402.54       0  \n",
       "3808          0               1        127623.36       0  \n",
       "8541          1               1        157360.90       0  "
      ]
     },
     "execution_count": 36,
     "metadata": {},
     "output_type": "execute_result"
    }
   ],
   "source": [
    "#2. upsample customers who have left Beta Bank from original dataframe beta. \n",
    "# Separate majority and minority classes\n",
    "beta_customers = beta_train[beta_train['Exited'] == 0]\n",
    "beta_departed_customers = beta_train[beta_train['Exited'] == 1]\n",
    "\n",
    "# Upsample minority class\n",
    "departed_customers_upsampled = resample(beta_departed_customers, \n",
    "                                 replace=True,  # Sample with replacement\n",
    "                                 n_samples=len(beta_customers),  # Match majority class size, should be 5k\n",
    "                                 random_state=40)  # For reproducibility\n",
    "\n",
    "# Combine majority and upsampled minority class\n",
    "beta_upsampled = pd.concat([beta_customers, departed_customers_upsampled])\n",
    "beta_upsampled.head(5)"
   ]
  },
  {
   "cell_type": "code",
   "execution_count": 37,
   "metadata": {},
   "outputs": [
    {
     "name": "stdout",
     "output_type": "stream",
     "text": [
      "0    4788\n",
      "1    4788\n",
      "Name: Exited, dtype: int64\n"
     ]
    }
   ],
   "source": [
    "#examine class balance after upsampling  \n",
    "print(beta_upsampled['Exited'].value_counts())"
   ]
  },
  {
   "cell_type": "markdown",
   "metadata": {},
   "source": [
    "Rerun models on edited dataframe \"beta_upsampled\""
   ]
  },
  {
   "cell_type": "code",
   "execution_count": 38,
   "metadata": {},
   "outputs": [],
   "source": [
    "#define Upsampled variables for training \n",
    "up_features_train = beta_upsampled.drop(['Exited'], axis=1)\n",
    "up_target_train = beta_upsampled['Exited']\n"
   ]
  },
  {
   "cell_type": "markdown",
   "metadata": {},
   "source": [
    "<div class=\"info\" style=\"border-radius: 15px; box-shadow: 4px 4px 4px; border: 1px solid \">\n",
    "<h2>   Student's comment 3 </h2>\n",
    "    \n",
    "Removed 4 variables (up_feature/target_valid/test).  will use validation and test from initial beta df. \n",
    "\n",
    "</div>"
   ]
  },
  {
   "cell_type": "code",
   "execution_count": 39,
   "metadata": {},
   "outputs": [
    {
     "name": "stdout",
     "output_type": "stream",
     "text": [
      "Upsampled Decision Tree Best depth: 9\n"
     ]
    }
   ],
   "source": [
    "#test with Decision Tree Classifier \n",
    "best_model = None\n",
    "best_result = 0\n",
    "for depth in range(1, 10):\n",
    "    #tested ranges from 5 to 500.  once hit 10 and up the accuracy stayed at 0.8625 and best depth was one number before end of range. \n",
    "\tmodel = DecisionTreeClassifier(random_state=12345, max_depth=depth) # create a model with the given depth\n",
    "\tmodel.fit(up_features_train, up_target_train)\n",
    "\tpredictions = model.predict(features_valid)\n",
    "\tresult = f1_score(target_valid,predictions)\n",
    "\tif result > best_result:\n",
    "\t\tbest_model = model\n",
    "\t\tbest_result = result\n",
    "print(\"Upsampled Decision Tree Best depth:\", depth)\n"
   ]
  },
  {
   "cell_type": "code",
   "execution_count": 40,
   "metadata": {},
   "outputs": [
    {
     "name": "stdout",
     "output_type": "stream",
     "text": [
      "Upsampled Decision Tree AUC-ROC: 0.79705546875\n",
      "Upsampled Decision Tress F1 Score: 0.5741728922091782\n"
     ]
    }
   ],
   "source": [
    "#upsampled decission tree classifier \n",
    "decision_model = DecisionTreeClassifier(random_state=54321, max_depth=9)\n",
    "decision_model.fit(up_features_train, up_target_train)\n",
    "decision_predictions_valid = model.predict(features_valid)\n",
    "\n",
    "#AUC-ROC\n",
    "probabilities_valid = model.predict_proba(features_valid)\n",
    "probabilities_one_valid = probabilities_valid[:, 1]\n",
    "\n",
    "# create auc_roc\n",
    "auc_roc=roc_auc_score(target_valid, probabilities_one_valid)\n",
    "print(\"Upsampled Decision Tree AUC-ROC:\", auc_roc)\n",
    "\n",
    "# display f1 score\n",
    "predicted_valid = model.predict(features_valid)\n",
    "print(\"Upsampled Decision Tress F1 Score:\",f1_score(target_valid, predicted_valid))"
   ]
  },
  {
   "cell_type": "code",
   "execution_count": 41,
   "metadata": {},
   "outputs": [
    {
     "name": "stdout",
     "output_type": "stream",
     "text": [
      "Upsampled Logistic Regression AUC-ROC: 0.79705546875\n",
      "Upsampled Logistic Regression F1 Score: 0.5741728922091782\n"
     ]
    }
   ],
   "source": [
    "#retest upsampled df on Logistic Regression \n",
    "\n",
    "#train and validate model \n",
    "logistic_model =LogisticRegression(random_state=54321, solver='liblinear') \n",
    "logistic_model.fit(up_features_train, up_target_train) \n",
    "\n",
    "#AUC-ROC\n",
    "probabilities_valid = model.predict_proba(features_valid)\n",
    "probabilities_one_valid = probabilities_valid[:, 1]\n",
    "\n",
    "# create auc_roc\n",
    "auc_roc=roc_auc_score(target_valid, probabilities_one_valid)\n",
    "print(\"Upsampled Logistic Regression AUC-ROC:\", auc_roc)\n",
    "\n",
    "# display f1 score\n",
    "predicted_valid = model.predict(features_valid)\n",
    "print(\"Upsampled Logistic Regression F1 Score:\",f1_score(target_valid, predicted_valid))\n"
   ]
  },
  {
   "cell_type": "code",
   "execution_count": 42,
   "metadata": {},
   "outputs": [
    {
     "name": "stdout",
     "output_type": "stream",
     "text": [
      "Best parameters: {'max_depth': 50, 'n_estimators': 100, 'random_state': None}\n"
     ]
    }
   ],
   "source": [
    "#find best parameters for upsampled RandomForest Classifier \n",
    "param_grid = {\n",
    "    'n_estimators': [1, 5, 20, 20, 50, 100, 200, 300],\n",
    "    'max_depth': [1, 5, 10, 20, 50, 100, None],\n",
    "    'random_state': [1, 5, 10, 20, 50, 100, 12345, 33333,54321, None]\n",
    "}\n",
    "\n",
    "grid_search = GridSearchCV(RandomForestClassifier(), param_grid, cv=3, n_jobs=-1)\n",
    "grid_search.fit(up_features_train,up_target_train)\n",
    "\n",
    "print(\"Best parameters:\", grid_search.best_params_)\n"
   ]
  },
  {
   "cell_type": "code",
   "execution_count": 43,
   "metadata": {},
   "outputs": [
    {
     "name": "stdout",
     "output_type": "stream",
     "text": [
      "Upsampled Random Forest AUC-ROC: 0.8453101562499998\n",
      "Upsampled Random Forest F1 Score: 0.5966386554621849\n"
     ]
    }
   ],
   "source": [
    "#test with Random Forest Classifier \n",
    "\n",
    "model = RandomForestClassifier(random_state=50, n_estimators=50, max_depth=50) \n",
    "model.fit(up_features_train, up_target_train) \n",
    "rf_predictions_valid = model.predict(features_valid)\n",
    "\n",
    "#AUC-ROC\n",
    "probabilities_valid = model.predict_proba(features_valid)\n",
    "probabilities_one_valid = probabilities_valid[:, 1]\n",
    "auc_roc=roc_auc_score(target_valid, probabilities_one_valid)\n",
    "print(\"Upsampled Random Forest AUC-ROC:\", auc_roc)\n",
    "\n",
    "# display f1 score\n",
    "predicted_valid = model.predict(features_valid)\n",
    "print(\"Upsampled Random Forest F1 Score:\",f1_score(target_valid, predicted_valid))\n",
    "\n"
   ]
  },
  {
   "cell_type": "markdown",
   "metadata": {},
   "source": [
    "Upsampled Summary:\n",
    "Upsampled Decision Tress F1 Score: 0.574. \n",
    "Upsampled Logistic Regression F1 Score: 0.574. \n",
    "Upsampled Random Forest F1 Score: 0.60\n",
    "The Upsampled Random Foest achieved the highest F1 score.  The model will now be run on the test data set. \n"
   ]
  },
  {
   "cell_type": "code",
   "execution_count": 44,
   "metadata": {},
   "outputs": [
    {
     "name": "stdout",
     "output_type": "stream",
     "text": [
      "Supervised Final Model Random Forest on Test Data F1 Score using Downsampled parameters: 0.6157826649417852\n"
     ]
    }
   ],
   "source": [
    "supervised_final_model = RandomForestClassifier(random_state=100, n_estimators=300, max_depth=10)\n",
    "# change n_estimators to get best model\n",
    "supervised_final_model.fit(features_test, target_test)\n",
    "\n",
    "# display f1 score\n",
    "predicted_valid = model.predict(features_test)\n",
    "print(\"Supervised Final Model Random Forest on Test Data F1 Score using Downsampled parameters:\",f1_score(target_test, predicted_valid))"
   ]
  },
  {
   "cell_type": "markdown",
   "metadata": {},
   "source": [
    "Editing the data to be examined had an intense shift in the data analysis. \n",
    "\n",
    "Initial model testing was performed without altering the source data.  The following information compares the results form the test test.  \n",
    "Decision Tree Test F1 Score  was 0.555.  \n",
    "F1 Score of Logistic Regression was 0.555. \n",
    "Highest F1 score was Random Forest Classifier Test Accuracy at 0.556.\n",
    "\n",
    "Downsample Summary:\n",
    "Downsampled Decision Tress F1 Score: 0.70. \n",
    "Downsampled Logistic Regression F1 Score: 0.70. \n",
    "Downsampled Random Forest F1 Score: 0.68. \n",
    "Decision Tree and Logistic Regression maintain same pattern of equal scores.  Downsampling scores achieved higher f1 scores so performed on test data.  \n",
    "\n",
    "Upsampled Summary:\n",
    "Upsampled Decision Tress F1 Score: 0.57. \n",
    "Upsampled Logistic Regression F1 Score: 0.57. \n",
    "Upsampled Random Forest F1 Score: 0.60. \n",
    "Decision Tree and Logistic Regression maintain same pattern of equal scores. \n",
    "\n",
    "Final model computed was the Downsampled Random Forest on Test Data since the training and validation data achieved the highest F1.  Final F1 Score is 0.62.  \n",
    "\n",
    "Interestingly the Decision Tree and Logistic Regression F1 score was the same through unbalanced, downsampled, and upsampled testing.  Random Forest remained the best model. The best F1 score was achieved of 0.615 when the test data was run on the upsampled data set.  The closer the F1 score is to 1 is an indication of how accurately the prediction of exiting customers has been.  \n",
    "\n",
    "Beta Bank indeed should develop more strategies to retain their current clients.    "
   ]
  }
 ],
 "metadata": {
  "ExecuteTimeLog": [
   {
    "duration": 809,
    "start_time": "2024-11-22T14:52:11.289Z"
   },
   {
    "duration": 223,
    "start_time": "2024-11-22T14:52:12.100Z"
   },
   {
    "duration": 0,
    "start_time": "2024-11-22T14:52:12.325Z"
   },
   {
    "duration": 0,
    "start_time": "2024-11-22T14:52:12.325Z"
   },
   {
    "duration": 0,
    "start_time": "2024-11-22T14:52:12.327Z"
   },
   {
    "duration": 0,
    "start_time": "2024-11-22T14:52:12.328Z"
   },
   {
    "duration": 20,
    "start_time": "2024-11-22T14:53:20.627Z"
   },
   {
    "duration": 3,
    "start_time": "2024-11-22T14:53:30.432Z"
   },
   {
    "duration": 14,
    "start_time": "2024-11-22T14:53:30.438Z"
   },
   {
    "duration": 13,
    "start_time": "2024-11-22T14:53:30.454Z"
   },
   {
    "duration": 11,
    "start_time": "2024-11-22T14:53:30.468Z"
   },
   {
    "duration": 6,
    "start_time": "2024-11-22T14:53:30.481Z"
   },
   {
    "duration": 12,
    "start_time": "2024-11-22T14:53:30.488Z"
   },
   {
    "duration": 5,
    "start_time": "2024-11-22T14:56:48.996Z"
   },
   {
    "duration": 3,
    "start_time": "2024-11-22T14:57:01.755Z"
   },
   {
    "duration": 27,
    "start_time": "2024-11-22T15:00:38.100Z"
   },
   {
    "duration": 13,
    "start_time": "2024-11-22T15:01:58.671Z"
   },
   {
    "duration": 12,
    "start_time": "2024-11-22T15:02:09.478Z"
   },
   {
    "duration": 4,
    "start_time": "2024-11-22T15:02:34.840Z"
   },
   {
    "duration": 5,
    "start_time": "2024-11-22T15:03:39.826Z"
   },
   {
    "duration": 165,
    "start_time": "2024-11-22T15:06:08.256Z"
   },
   {
    "duration": 80,
    "start_time": "2024-11-22T15:06:23.926Z"
   },
   {
    "duration": 26,
    "start_time": "2024-11-22T15:08:52.642Z"
   },
   {
    "duration": 29,
    "start_time": "2024-11-22T15:10:16.196Z"
   },
   {
    "duration": 27,
    "start_time": "2024-11-22T15:11:18.975Z"
   },
   {
    "duration": 761,
    "start_time": "2024-11-22T15:11:31.668Z"
   },
   {
    "duration": 15,
    "start_time": "2024-11-22T15:11:32.431Z"
   },
   {
    "duration": 13,
    "start_time": "2024-11-22T15:11:32.447Z"
   },
   {
    "duration": 10,
    "start_time": "2024-11-22T15:11:32.470Z"
   },
   {
    "duration": 6,
    "start_time": "2024-11-22T15:11:32.482Z"
   },
   {
    "duration": 4,
    "start_time": "2024-11-22T15:11:32.490Z"
   },
   {
    "duration": 4,
    "start_time": "2024-11-22T15:11:32.496Z"
   },
   {
    "duration": 369,
    "start_time": "2024-11-22T15:11:32.502Z"
   },
   {
    "duration": 26,
    "start_time": "2024-11-22T15:12:03.256Z"
   },
   {
    "duration": 3,
    "start_time": "2024-11-22T15:15:48.138Z"
   },
   {
    "duration": 12,
    "start_time": "2024-11-22T15:16:10.832Z"
   },
   {
    "duration": 74,
    "start_time": "2024-11-22T15:16:22.915Z"
   },
   {
    "duration": 15,
    "start_time": "2024-11-22T15:17:53.929Z"
   },
   {
    "duration": 3,
    "start_time": "2024-11-22T15:22:33.479Z"
   },
   {
    "duration": 25,
    "start_time": "2024-11-22T15:22:41.854Z"
   },
   {
    "duration": 783,
    "start_time": "2024-11-22T15:23:37.805Z"
   },
   {
    "duration": 16,
    "start_time": "2024-11-22T15:23:38.590Z"
   },
   {
    "duration": 12,
    "start_time": "2024-11-22T15:23:38.607Z"
   },
   {
    "duration": 10,
    "start_time": "2024-11-22T15:23:38.622Z"
   },
   {
    "duration": 7,
    "start_time": "2024-11-22T15:23:38.634Z"
   },
   {
    "duration": 28,
    "start_time": "2024-11-22T15:23:38.642Z"
   },
   {
    "duration": 5,
    "start_time": "2024-11-22T15:23:38.671Z"
   },
   {
    "duration": 352,
    "start_time": "2024-11-22T15:23:38.678Z"
   },
   {
    "duration": 0,
    "start_time": "2024-11-22T15:23:39.032Z"
   },
   {
    "duration": 27,
    "start_time": "2024-11-22T15:24:47.487Z"
   },
   {
    "duration": 6,
    "start_time": "2024-11-22T15:27:19.713Z"
   },
   {
    "duration": 4,
    "start_time": "2024-11-22T15:27:37.196Z"
   },
   {
    "duration": 5,
    "start_time": "2024-11-22T15:28:48.927Z"
   },
   {
    "duration": 6,
    "start_time": "2024-11-22T15:29:10.027Z"
   },
   {
    "duration": 6,
    "start_time": "2024-11-22T15:31:21.924Z"
   },
   {
    "duration": 85,
    "start_time": "2024-11-22T15:33:36.085Z"
   },
   {
    "duration": 39,
    "start_time": "2024-11-22T15:33:48.310Z"
   },
   {
    "duration": 4,
    "start_time": "2024-11-22T15:39:21.163Z"
   },
   {
    "duration": 42,
    "start_time": "2024-11-22T15:42:25.335Z"
   },
   {
    "duration": 753,
    "start_time": "2024-11-22T15:42:58.223Z"
   },
   {
    "duration": 16,
    "start_time": "2024-11-22T15:42:58.980Z"
   },
   {
    "duration": 14,
    "start_time": "2024-11-22T15:42:58.997Z"
   },
   {
    "duration": 10,
    "start_time": "2024-11-22T15:42:59.015Z"
   },
   {
    "duration": 5,
    "start_time": "2024-11-22T15:42:59.028Z"
   },
   {
    "duration": 6,
    "start_time": "2024-11-22T15:42:59.035Z"
   },
   {
    "duration": 32,
    "start_time": "2024-11-22T15:42:59.043Z"
   },
   {
    "duration": 2,
    "start_time": "2024-11-22T15:42:59.077Z"
   },
   {
    "duration": 275,
    "start_time": "2024-11-22T15:42:59.081Z"
   },
   {
    "duration": 10,
    "start_time": "2024-11-22T15:44:31.779Z"
   },
   {
    "duration": 4,
    "start_time": "2024-11-22T15:44:55.863Z"
   },
   {
    "duration": 4,
    "start_time": "2024-11-22T15:45:10.677Z"
   },
   {
    "duration": 36,
    "start_time": "2024-11-22T16:37:48.876Z"
   },
   {
    "duration": 24,
    "start_time": "2024-11-22T16:39:59.437Z"
   },
   {
    "duration": 3,
    "start_time": "2024-11-22T16:43:57.613Z"
   },
   {
    "duration": 20,
    "start_time": "2024-11-22T16:43:57.619Z"
   },
   {
    "duration": 11,
    "start_time": "2024-11-22T16:43:57.641Z"
   },
   {
    "duration": 11,
    "start_time": "2024-11-22T16:43:57.654Z"
   },
   {
    "duration": 6,
    "start_time": "2024-11-22T16:43:57.668Z"
   },
   {
    "duration": 6,
    "start_time": "2024-11-22T16:43:57.677Z"
   },
   {
    "duration": 9,
    "start_time": "2024-11-22T16:43:57.685Z"
   },
   {
    "duration": 3,
    "start_time": "2024-11-22T16:43:57.696Z"
   },
   {
    "duration": 6,
    "start_time": "2024-11-22T16:43:57.701Z"
   },
   {
    "duration": 62,
    "start_time": "2024-11-22T16:43:57.708Z"
   },
   {
    "duration": 0,
    "start_time": "2024-11-22T16:43:57.772Z"
   },
   {
    "duration": 0,
    "start_time": "2024-11-22T16:43:57.773Z"
   },
   {
    "duration": 34,
    "start_time": "2024-11-22T16:47:17.747Z"
   },
   {
    "duration": 2,
    "start_time": "2024-11-22T16:53:57.973Z"
   },
   {
    "duration": 15,
    "start_time": "2024-11-22T16:53:57.978Z"
   },
   {
    "duration": 13,
    "start_time": "2024-11-22T16:53:57.995Z"
   },
   {
    "duration": 13,
    "start_time": "2024-11-22T16:53:58.010Z"
   },
   {
    "duration": 7,
    "start_time": "2024-11-22T16:53:58.025Z"
   },
   {
    "duration": 7,
    "start_time": "2024-11-22T16:53:58.033Z"
   },
   {
    "duration": 42,
    "start_time": "2024-11-22T16:53:58.041Z"
   },
   {
    "duration": 5,
    "start_time": "2024-11-22T16:53:58.084Z"
   },
   {
    "duration": 7,
    "start_time": "2024-11-22T16:53:58.092Z"
   },
   {
    "duration": 4,
    "start_time": "2024-11-22T16:54:19.971Z"
   },
   {
    "duration": 16,
    "start_time": "2024-11-22T16:54:19.978Z"
   },
   {
    "duration": 11,
    "start_time": "2024-11-22T16:54:19.996Z"
   },
   {
    "duration": 10,
    "start_time": "2024-11-22T16:54:20.010Z"
   },
   {
    "duration": 7,
    "start_time": "2024-11-22T16:54:20.022Z"
   },
   {
    "duration": 7,
    "start_time": "2024-11-22T16:54:20.031Z"
   },
   {
    "duration": 37,
    "start_time": "2024-11-22T16:54:20.040Z"
   },
   {
    "duration": 4,
    "start_time": "2024-11-22T16:54:20.079Z"
   },
   {
    "duration": 6,
    "start_time": "2024-11-22T16:54:20.086Z"
   },
   {
    "duration": 18,
    "start_time": "2024-11-22T16:55:27.198Z"
   },
   {
    "duration": 4,
    "start_time": "2024-11-22T16:56:49.068Z"
   },
   {
    "duration": 4,
    "start_time": "2024-11-22T16:57:06.075Z"
   },
   {
    "duration": 2,
    "start_time": "2024-11-22T16:58:28.429Z"
   },
   {
    "duration": 15,
    "start_time": "2024-11-22T16:58:28.433Z"
   },
   {
    "duration": 13,
    "start_time": "2024-11-22T16:58:28.776Z"
   },
   {
    "duration": 14,
    "start_time": "2024-11-22T16:58:28.792Z"
   },
   {
    "duration": 8,
    "start_time": "2024-11-22T16:58:28.808Z"
   },
   {
    "duration": 8,
    "start_time": "2024-11-22T16:58:28.817Z"
   },
   {
    "duration": 9,
    "start_time": "2024-11-22T16:58:28.827Z"
   },
   {
    "duration": 3,
    "start_time": "2024-11-22T16:58:28.837Z"
   },
   {
    "duration": 7,
    "start_time": "2024-11-22T16:58:28.870Z"
   },
   {
    "duration": 6,
    "start_time": "2024-11-22T16:58:38.443Z"
   },
   {
    "duration": 43,
    "start_time": "2024-11-22T17:00:04.886Z"
   },
   {
    "duration": 7,
    "start_time": "2024-11-22T17:08:24.485Z"
   },
   {
    "duration": 683,
    "start_time": "2024-11-22T17:31:37.372Z"
   },
   {
    "duration": 3,
    "start_time": "2024-11-22T17:32:08.363Z"
   },
   {
    "duration": 15,
    "start_time": "2024-11-22T17:32:08.369Z"
   },
   {
    "duration": 9,
    "start_time": "2024-11-22T17:32:08.386Z"
   },
   {
    "duration": 10,
    "start_time": "2024-11-22T17:32:08.397Z"
   },
   {
    "duration": 6,
    "start_time": "2024-11-22T17:32:08.408Z"
   },
   {
    "duration": 7,
    "start_time": "2024-11-22T17:32:08.415Z"
   },
   {
    "duration": 8,
    "start_time": "2024-11-22T17:32:08.424Z"
   },
   {
    "duration": 12,
    "start_time": "2024-11-22T17:32:17.489Z"
   },
   {
    "duration": 36,
    "start_time": "2024-11-22T17:33:04.949Z"
   },
   {
    "duration": 3,
    "start_time": "2024-11-22T17:33:11.209Z"
   },
   {
    "duration": 15,
    "start_time": "2024-11-22T17:33:11.214Z"
   },
   {
    "duration": 10,
    "start_time": "2024-11-22T17:33:11.230Z"
   },
   {
    "duration": 10,
    "start_time": "2024-11-22T17:33:11.242Z"
   },
   {
    "duration": 6,
    "start_time": "2024-11-22T17:33:11.255Z"
   },
   {
    "duration": 6,
    "start_time": "2024-11-22T17:33:11.262Z"
   },
   {
    "duration": 9,
    "start_time": "2024-11-22T17:33:11.270Z"
   },
   {
    "duration": 11,
    "start_time": "2024-11-22T17:33:14.073Z"
   },
   {
    "duration": 5,
    "start_time": "2024-11-22T17:34:10.337Z"
   },
   {
    "duration": 36,
    "start_time": "2024-11-22T17:36:32.091Z"
   },
   {
    "duration": 3,
    "start_time": "2024-11-22T17:36:36.521Z"
   },
   {
    "duration": 27,
    "start_time": "2024-11-22T17:36:36.526Z"
   },
   {
    "duration": 11,
    "start_time": "2024-11-22T17:36:36.559Z"
   },
   {
    "duration": 11,
    "start_time": "2024-11-22T17:36:36.572Z"
   },
   {
    "duration": 7,
    "start_time": "2024-11-22T17:36:36.585Z"
   },
   {
    "duration": 7,
    "start_time": "2024-11-22T17:36:36.593Z"
   },
   {
    "duration": 9,
    "start_time": "2024-11-22T17:36:36.601Z"
   },
   {
    "duration": 11,
    "start_time": "2024-11-22T17:36:40.631Z"
   },
   {
    "duration": 3,
    "start_time": "2024-11-22T17:40:02.225Z"
   },
   {
    "duration": 14,
    "start_time": "2024-11-22T17:40:02.231Z"
   },
   {
    "duration": 10,
    "start_time": "2024-11-22T17:40:02.247Z"
   },
   {
    "duration": 10,
    "start_time": "2024-11-22T17:40:02.259Z"
   },
   {
    "duration": 6,
    "start_time": "2024-11-22T17:40:02.272Z"
   },
   {
    "duration": 7,
    "start_time": "2024-11-22T17:40:02.279Z"
   },
   {
    "duration": 8,
    "start_time": "2024-11-22T17:40:02.288Z"
   },
   {
    "duration": 13,
    "start_time": "2024-11-22T17:40:08.300Z"
   },
   {
    "duration": 3,
    "start_time": "2024-11-22T17:42:47.294Z"
   },
   {
    "duration": 15,
    "start_time": "2024-11-22T17:42:47.299Z"
   },
   {
    "duration": 11,
    "start_time": "2024-11-22T17:42:47.316Z"
   },
   {
    "duration": 9,
    "start_time": "2024-11-22T17:42:47.329Z"
   },
   {
    "duration": 6,
    "start_time": "2024-11-22T17:42:47.340Z"
   },
   {
    "duration": 7,
    "start_time": "2024-11-22T17:42:47.348Z"
   },
   {
    "duration": 18,
    "start_time": "2024-11-22T17:42:47.356Z"
   },
   {
    "duration": 20,
    "start_time": "2024-11-22T17:42:51.361Z"
   },
   {
    "duration": 3,
    "start_time": "2024-11-22T17:48:19.740Z"
   },
   {
    "duration": 15,
    "start_time": "2024-11-22T17:48:19.744Z"
   },
   {
    "duration": 10,
    "start_time": "2024-11-22T17:48:19.761Z"
   },
   {
    "duration": 9,
    "start_time": "2024-11-22T17:48:19.773Z"
   },
   {
    "duration": 7,
    "start_time": "2024-11-22T17:48:19.783Z"
   },
   {
    "duration": 6,
    "start_time": "2024-11-22T17:48:19.791Z"
   },
   {
    "duration": 8,
    "start_time": "2024-11-22T17:48:19.799Z"
   },
   {
    "duration": 18,
    "start_time": "2024-11-22T17:48:23.043Z"
   },
   {
    "duration": 3,
    "start_time": "2024-11-22T18:13:03.679Z"
   },
   {
    "duration": 17,
    "start_time": "2024-11-22T18:13:03.684Z"
   },
   {
    "duration": 10,
    "start_time": "2024-11-22T18:13:03.703Z"
   },
   {
    "duration": 9,
    "start_time": "2024-11-22T18:13:03.715Z"
   },
   {
    "duration": 6,
    "start_time": "2024-11-22T18:13:03.727Z"
   },
   {
    "duration": 6,
    "start_time": "2024-11-22T18:13:03.735Z"
   },
   {
    "duration": 32,
    "start_time": "2024-11-22T18:13:03.744Z"
   },
   {
    "duration": 23,
    "start_time": "2024-11-22T18:13:03.778Z"
   },
   {
    "duration": 4,
    "start_time": "2024-11-22T18:13:03.803Z"
   },
   {
    "duration": 6,
    "start_time": "2024-11-22T18:13:03.809Z"
   },
   {
    "duration": 5,
    "start_time": "2024-11-22T18:13:11.429Z"
   },
   {
    "duration": 3689,
    "start_time": "2024-11-22T18:13:14.323Z"
   },
   {
    "duration": 5,
    "start_time": "2024-11-22T18:13:33.779Z"
   },
   {
    "duration": 3662,
    "start_time": "2024-11-22T18:13:40.136Z"
   },
   {
    "duration": 7587,
    "start_time": "2024-11-22T18:13:58.409Z"
   },
   {
    "duration": 19357,
    "start_time": "2024-11-22T18:14:24.073Z"
   },
   {
    "duration": 1710,
    "start_time": "2024-11-22T18:14:54.699Z"
   },
   {
    "duration": 172,
    "start_time": "2024-11-22T18:15:03.412Z"
   },
   {
    "duration": 51,
    "start_time": "2024-11-22T18:15:11.660Z"
   },
   {
    "duration": 184,
    "start_time": "2024-11-22T18:15:24.709Z"
   },
   {
    "duration": 217,
    "start_time": "2024-11-22T18:17:23.312Z"
   },
   {
    "duration": 169,
    "start_time": "2024-11-22T18:18:19.984Z"
   },
   {
    "duration": 43,
    "start_time": "2024-11-22T18:18:22.519Z"
   },
   {
    "duration": 35,
    "start_time": "2024-11-22T18:21:54.387Z"
   },
   {
    "duration": 21,
    "start_time": "2024-11-22T18:22:06.750Z"
   },
   {
    "duration": 5,
    "start_time": "2024-11-22T18:23:03.579Z"
   },
   {
    "duration": 94686,
    "start_time": "2024-11-22T18:23:08.534Z"
   },
   {
    "duration": 5,
    "start_time": "2024-11-22T18:25:19.375Z"
   },
   {
    "duration": 23580,
    "start_time": "2024-11-22T18:25:54.575Z"
   },
   {
    "duration": 790,
    "start_time": "2024-11-22T18:41:33.899Z"
   },
   {
    "duration": 15,
    "start_time": "2024-11-22T18:41:34.697Z"
   },
   {
    "duration": 13,
    "start_time": "2024-11-22T18:41:34.714Z"
   },
   {
    "duration": 11,
    "start_time": "2024-11-22T18:41:34.728Z"
   },
   {
    "duration": 6,
    "start_time": "2024-11-22T18:41:34.742Z"
   },
   {
    "duration": 6,
    "start_time": "2024-11-22T18:41:34.749Z"
   },
   {
    "duration": 19,
    "start_time": "2024-11-22T18:41:34.758Z"
   },
   {
    "duration": 21,
    "start_time": "2024-11-22T18:41:34.778Z"
   },
   {
    "duration": 3,
    "start_time": "2024-11-22T18:41:34.801Z"
   },
   {
    "duration": 6,
    "start_time": "2024-11-22T18:41:34.806Z"
   },
   {
    "duration": 192,
    "start_time": "2024-11-22T18:41:34.814Z"
   },
   {
    "duration": 35,
    "start_time": "2024-11-22T18:41:35.008Z"
   },
   {
    "duration": 55,
    "start_time": "2024-11-22T18:41:35.044Z"
   },
   {
    "duration": 7,
    "start_time": "2024-11-22T18:41:35.107Z"
   },
   {
    "duration": 808,
    "start_time": "2024-11-22T18:53:35.583Z"
   },
   {
    "duration": 17,
    "start_time": "2024-11-22T18:53:36.392Z"
   },
   {
    "duration": 14,
    "start_time": "2024-11-22T18:53:36.410Z"
   },
   {
    "duration": 10,
    "start_time": "2024-11-22T18:53:36.427Z"
   },
   {
    "duration": 7,
    "start_time": "2024-11-22T18:53:36.438Z"
   },
   {
    "duration": 28,
    "start_time": "2024-11-22T18:53:36.446Z"
   },
   {
    "duration": 8,
    "start_time": "2024-11-22T18:53:36.477Z"
   },
   {
    "duration": 18,
    "start_time": "2024-11-22T18:53:36.486Z"
   },
   {
    "duration": 4,
    "start_time": "2024-11-22T18:53:36.505Z"
   },
   {
    "duration": 5,
    "start_time": "2024-11-22T18:53:36.512Z"
   },
   {
    "duration": 206,
    "start_time": "2024-11-22T18:53:36.518Z"
   },
   {
    "duration": 45,
    "start_time": "2024-11-22T18:53:36.726Z"
   },
   {
    "duration": 25,
    "start_time": "2024-11-22T18:53:36.773Z"
   },
   {
    "duration": 69,
    "start_time": "2024-11-22T18:53:36.801Z"
   },
   {
    "duration": 976,
    "start_time": "2024-11-22T18:53:36.875Z"
   },
   {
    "duration": 234,
    "start_time": "2024-11-22T18:53:37.852Z"
   },
   {
    "duration": 777,
    "start_time": "2024-11-22T18:54:57.008Z"
   },
   {
    "duration": 15,
    "start_time": "2024-11-22T18:54:57.788Z"
   },
   {
    "duration": 12,
    "start_time": "2024-11-22T18:54:57.805Z"
   },
   {
    "duration": 10,
    "start_time": "2024-11-22T18:54:57.819Z"
   },
   {
    "duration": 6,
    "start_time": "2024-11-22T18:54:57.830Z"
   },
   {
    "duration": 34,
    "start_time": "2024-11-22T18:54:57.838Z"
   },
   {
    "duration": 10,
    "start_time": "2024-11-22T18:54:57.873Z"
   },
   {
    "duration": 17,
    "start_time": "2024-11-22T18:54:57.884Z"
   },
   {
    "duration": 4,
    "start_time": "2024-11-22T18:54:57.903Z"
   },
   {
    "duration": 6,
    "start_time": "2024-11-22T18:54:57.910Z"
   },
   {
    "duration": 199,
    "start_time": "2024-11-22T18:54:57.917Z"
   },
   {
    "duration": 34,
    "start_time": "2024-11-22T18:54:58.118Z"
   },
   {
    "duration": 33,
    "start_time": "2024-11-22T18:54:58.153Z"
   },
   {
    "duration": 8,
    "start_time": "2024-11-22T18:54:58.189Z"
   },
   {
    "duration": 1033,
    "start_time": "2024-11-22T18:54:58.199Z"
   },
   {
    "duration": 358,
    "start_time": "2024-11-22T18:54:59.234Z"
   },
   {
    "duration": 24239,
    "start_time": "2024-11-22T18:55:17.594Z"
   },
   {
    "duration": 9288,
    "start_time": "2024-11-22T18:55:55.239Z"
   },
   {
    "duration": 18161,
    "start_time": "2024-11-22T18:56:19.455Z"
   },
   {
    "duration": 9071,
    "start_time": "2024-11-22T18:56:49.742Z"
   },
   {
    "duration": 24015,
    "start_time": "2024-11-22T18:57:17.694Z"
   },
   {
    "duration": 1319,
    "start_time": "2024-11-22T18:57:53.212Z"
   },
   {
    "duration": 949,
    "start_time": "2024-11-22T18:58:54.124Z"
   },
   {
    "duration": 370,
    "start_time": "2024-11-22T18:59:30.027Z"
   },
   {
    "duration": 759,
    "start_time": "2024-11-24T14:50:43.420Z"
   },
   {
    "duration": 25,
    "start_time": "2024-11-24T14:50:44.180Z"
   },
   {
    "duration": 12,
    "start_time": "2024-11-24T14:50:44.207Z"
   },
   {
    "duration": 11,
    "start_time": "2024-11-24T14:50:44.220Z"
   },
   {
    "duration": 14,
    "start_time": "2024-11-24T14:50:44.233Z"
   },
   {
    "duration": 7,
    "start_time": "2024-11-24T14:50:44.248Z"
   },
   {
    "duration": 8,
    "start_time": "2024-11-24T14:50:44.257Z"
   },
   {
    "duration": 18,
    "start_time": "2024-11-24T14:50:44.267Z"
   },
   {
    "duration": 4,
    "start_time": "2024-11-24T14:50:44.286Z"
   },
   {
    "duration": 6,
    "start_time": "2024-11-24T14:50:44.291Z"
   },
   {
    "duration": 210,
    "start_time": "2024-11-24T14:50:44.299Z"
   },
   {
    "duration": 42,
    "start_time": "2024-11-24T14:50:44.511Z"
   },
   {
    "duration": 21,
    "start_time": "2024-11-24T14:50:44.555Z"
   },
   {
    "duration": 5,
    "start_time": "2024-11-24T14:50:44.578Z"
   },
   {
    "duration": 24213,
    "start_time": "2024-11-24T14:50:44.585Z"
   },
   {
    "duration": 9255,
    "start_time": "2024-11-24T14:51:08.799Z"
   },
   {
    "duration": 353,
    "start_time": "2024-11-24T14:51:18.056Z"
   },
   {
    "duration": 232,
    "start_time": "2024-11-24T14:51:18.411Z"
   },
   {
    "duration": 665,
    "start_time": "2024-11-24T14:51:52.116Z"
   },
   {
    "duration": 5,
    "start_time": "2024-11-24T14:52:41.600Z"
   },
   {
    "duration": 34,
    "start_time": "2024-11-24T14:53:13.225Z"
   },
   {
    "duration": 25,
    "start_time": "2024-11-24T14:53:29.675Z"
   },
   {
    "duration": 29,
    "start_time": "2024-11-24T14:53:37.548Z"
   },
   {
    "duration": 158,
    "start_time": "2024-11-26T21:51:44.095Z"
   },
   {
    "duration": 795,
    "start_time": "2024-11-26T23:11:22.565Z"
   },
   {
    "duration": 25,
    "start_time": "2024-11-26T23:11:23.362Z"
   },
   {
    "duration": 12,
    "start_time": "2024-11-26T23:11:23.389Z"
   },
   {
    "duration": 14,
    "start_time": "2024-11-26T23:11:23.403Z"
   },
   {
    "duration": 6,
    "start_time": "2024-11-26T23:11:23.419Z"
   },
   {
    "duration": 6,
    "start_time": "2024-11-26T23:11:23.426Z"
   },
   {
    "duration": 9,
    "start_time": "2024-11-26T23:11:23.434Z"
   },
   {
    "duration": 17,
    "start_time": "2024-11-26T23:11:23.445Z"
   },
   {
    "duration": 4,
    "start_time": "2024-11-26T23:11:23.463Z"
   },
   {
    "duration": 41,
    "start_time": "2024-11-26T23:11:23.470Z"
   },
   {
    "duration": 174,
    "start_time": "2024-11-26T23:11:23.513Z"
   },
   {
    "duration": 44,
    "start_time": "2024-11-26T23:11:23.690Z"
   },
   {
    "duration": 24,
    "start_time": "2024-11-26T23:11:23.735Z"
   },
   {
    "duration": 53,
    "start_time": "2024-11-26T23:11:23.760Z"
   },
   {
    "duration": 23698,
    "start_time": "2024-11-26T23:11:23.815Z"
   },
   {
    "duration": 9143,
    "start_time": "2024-11-26T23:11:47.514Z"
   },
   {
    "duration": 353,
    "start_time": "2024-11-26T23:11:56.659Z"
   },
   {
    "duration": 29,
    "start_time": "2024-11-26T23:11:57.014Z"
   },
   {
    "duration": 471,
    "start_time": "2024-11-26T23:11:57.044Z"
   },
   {
    "duration": 18,
    "start_time": "2024-11-26T23:15:06.653Z"
   },
   {
    "duration": 4,
    "start_time": "2024-11-26T23:15:51.573Z"
   },
   {
    "duration": 4,
    "start_time": "2024-11-26T23:16:10.012Z"
   },
   {
    "duration": 16,
    "start_time": "2024-11-26T23:16:22.089Z"
   },
   {
    "duration": 6,
    "start_time": "2024-11-26T23:17:34.487Z"
   },
   {
    "duration": 4,
    "start_time": "2024-11-26T23:17:55.710Z"
   },
   {
    "duration": 856,
    "start_time": "2024-11-27T04:23:35.999Z"
   },
   {
    "duration": 29,
    "start_time": "2024-11-27T04:23:36.857Z"
   },
   {
    "duration": 13,
    "start_time": "2024-11-27T04:23:36.888Z"
   },
   {
    "duration": 11,
    "start_time": "2024-11-27T04:23:36.903Z"
   },
   {
    "duration": 7,
    "start_time": "2024-11-27T04:23:36.918Z"
   },
   {
    "duration": 8,
    "start_time": "2024-11-27T04:23:36.926Z"
   },
   {
    "duration": 11,
    "start_time": "2024-11-27T04:23:36.936Z"
   },
   {
    "duration": 20,
    "start_time": "2024-11-27T04:23:36.948Z"
   },
   {
    "duration": 35,
    "start_time": "2024-11-27T04:23:36.970Z"
   },
   {
    "duration": 6,
    "start_time": "2024-11-27T04:23:37.007Z"
   },
   {
    "duration": 186,
    "start_time": "2024-11-27T04:23:37.014Z"
   },
   {
    "duration": 37,
    "start_time": "2024-11-27T04:23:37.202Z"
   },
   {
    "duration": 20,
    "start_time": "2024-11-27T04:23:37.241Z"
   },
   {
    "duration": 43,
    "start_time": "2024-11-27T04:23:37.264Z"
   },
   {
    "duration": 23868,
    "start_time": "2024-11-27T04:23:37.309Z"
   },
   {
    "duration": 9241,
    "start_time": "2024-11-27T04:24:01.179Z"
   },
   {
    "duration": 358,
    "start_time": "2024-11-27T04:24:10.422Z"
   },
   {
    "duration": 38,
    "start_time": "2024-11-27T04:24:10.782Z"
   },
   {
    "duration": 14,
    "start_time": "2024-11-27T04:24:10.822Z"
   },
   {
    "duration": 5,
    "start_time": "2024-11-27T04:24:10.838Z"
   },
   {
    "duration": 5,
    "start_time": "2024-11-27T04:24:58.300Z"
   },
   {
    "duration": 5,
    "start_time": "2024-11-27T04:25:12.062Z"
   },
   {
    "duration": 5,
    "start_time": "2024-11-27T04:29:56.317Z"
   },
   {
    "duration": 4,
    "start_time": "2024-11-27T04:30:17.865Z"
   },
   {
    "duration": 815,
    "start_time": "2024-11-27T04:30:42.534Z"
   },
   {
    "duration": 16,
    "start_time": "2024-11-27T04:30:43.351Z"
   },
   {
    "duration": 13,
    "start_time": "2024-11-27T04:30:43.369Z"
   },
   {
    "duration": 23,
    "start_time": "2024-11-27T04:30:43.384Z"
   },
   {
    "duration": 6,
    "start_time": "2024-11-27T04:30:43.409Z"
   },
   {
    "duration": 7,
    "start_time": "2024-11-27T04:30:43.418Z"
   },
   {
    "duration": 10,
    "start_time": "2024-11-27T04:30:43.426Z"
   },
   {
    "duration": 18,
    "start_time": "2024-11-27T04:30:43.438Z"
   },
   {
    "duration": 3,
    "start_time": "2024-11-27T04:30:43.457Z"
   },
   {
    "duration": 6,
    "start_time": "2024-11-27T04:30:43.463Z"
   },
   {
    "duration": 179,
    "start_time": "2024-11-27T04:30:43.505Z"
   },
   {
    "duration": 43,
    "start_time": "2024-11-27T04:30:43.687Z"
   },
   {
    "duration": 22,
    "start_time": "2024-11-27T04:30:43.732Z"
   },
   {
    "duration": 50,
    "start_time": "2024-11-27T04:30:43.757Z"
   },
   {
    "duration": 23866,
    "start_time": "2024-11-27T04:30:43.809Z"
   },
   {
    "duration": 9509,
    "start_time": "2024-11-27T04:31:07.677Z"
   },
   {
    "duration": 358,
    "start_time": "2024-11-27T04:31:17.188Z"
   },
   {
    "duration": 29,
    "start_time": "2024-11-27T04:31:17.548Z"
   },
   {
    "duration": 30,
    "start_time": "2024-11-27T04:31:17.578Z"
   },
   {
    "duration": 4,
    "start_time": "2024-11-27T04:31:17.610Z"
   },
   {
    "duration": 4,
    "start_time": "2024-11-27T04:31:25.613Z"
   },
   {
    "duration": 222,
    "start_time": "2024-11-27T04:32:41.176Z"
   },
   {
    "duration": 18,
    "start_time": "2024-11-27T04:33:47.546Z"
   },
   {
    "duration": 4,
    "start_time": "2024-11-27T04:35:31.852Z"
   },
   {
    "duration": 13,
    "start_time": "2024-11-27T04:35:59.516Z"
   },
   {
    "duration": 4,
    "start_time": "2024-11-27T04:37:33.732Z"
   },
   {
    "duration": 7,
    "start_time": "2024-11-27T04:39:50.900Z"
   },
   {
    "duration": 163,
    "start_time": "2024-11-27T04:41:17.094Z"
   },
   {
    "duration": 33,
    "start_time": "2024-11-27T04:41:31.633Z"
   },
   {
    "duration": 35,
    "start_time": "2024-11-27T04:42:14.335Z"
   },
   {
    "duration": 7,
    "start_time": "2024-11-27T04:42:21.647Z"
   },
   {
    "duration": 8704,
    "start_time": "2024-11-27T04:42:49.824Z"
   },
   {
    "duration": 184,
    "start_time": "2024-11-27T04:43:19.246Z"
   },
   {
    "duration": 60,
    "start_time": "2024-11-27T04:46:36.012Z"
   },
   {
    "duration": 4,
    "start_time": "2024-11-27T04:48:20.300Z"
   },
   {
    "duration": 15,
    "start_time": "2024-11-27T04:48:20.316Z"
   },
   {
    "duration": 10,
    "start_time": "2024-11-27T04:48:20.333Z"
   },
   {
    "duration": 10,
    "start_time": "2024-11-27T04:48:20.345Z"
   },
   {
    "duration": 6,
    "start_time": "2024-11-27T04:48:20.356Z"
   },
   {
    "duration": 6,
    "start_time": "2024-11-27T04:48:20.364Z"
   },
   {
    "duration": 9,
    "start_time": "2024-11-27T04:48:20.372Z"
   },
   {
    "duration": 18,
    "start_time": "2024-11-27T04:48:20.655Z"
   },
   {
    "duration": 4,
    "start_time": "2024-11-27T04:48:20.675Z"
   },
   {
    "duration": 5,
    "start_time": "2024-11-27T04:48:20.951Z"
   },
   {
    "duration": 175,
    "start_time": "2024-11-27T04:48:20.959Z"
   },
   {
    "duration": 36,
    "start_time": "2024-11-27T04:48:21.136Z"
   },
   {
    "duration": 27,
    "start_time": "2024-11-27T04:48:21.214Z"
   },
   {
    "duration": 63,
    "start_time": "2024-11-27T04:48:21.244Z"
   },
   {
    "duration": 24180,
    "start_time": "2024-11-27T04:48:21.310Z"
   },
   {
    "duration": 9312,
    "start_time": "2024-11-27T04:48:45.493Z"
   },
   {
    "duration": 351,
    "start_time": "2024-11-27T04:48:54.807Z"
   },
   {
    "duration": 29,
    "start_time": "2024-11-27T04:48:55.160Z"
   },
   {
    "duration": 26,
    "start_time": "2024-11-27T04:48:55.191Z"
   },
   {
    "duration": 7,
    "start_time": "2024-11-27T04:48:55.220Z"
   },
   {
    "duration": 14,
    "start_time": "2024-11-27T04:48:55.229Z"
   },
   {
    "duration": 4,
    "start_time": "2024-11-27T04:48:55.244Z"
   },
   {
    "duration": 7,
    "start_time": "2024-11-27T04:48:55.250Z"
   },
   {
    "duration": 200,
    "start_time": "2024-11-27T04:48:55.258Z"
   },
   {
    "duration": 49,
    "start_time": "2024-11-27T04:49:23.096Z"
   },
   {
    "duration": 50,
    "start_time": "2024-11-27T04:50:35.911Z"
   },
   {
    "duration": 39,
    "start_time": "2024-11-27T04:51:14.692Z"
   },
   {
    "duration": 5,
    "start_time": "2024-11-27T04:51:36.130Z"
   },
   {
    "duration": 38,
    "start_time": "2024-11-27T04:51:47.135Z"
   },
   {
    "duration": 31,
    "start_time": "2024-11-27T04:52:52.835Z"
   },
   {
    "duration": 8,
    "start_time": "2024-11-27T04:52:59.370Z"
   },
   {
    "duration": 12,
    "start_time": "2024-11-27T04:53:29.346Z"
   },
   {
    "duration": 17,
    "start_time": "2024-11-27T04:53:54.448Z"
   },
   {
    "duration": 8735,
    "start_time": "2024-11-27T04:55:03.779Z"
   },
   {
    "duration": 8789,
    "start_time": "2024-11-27T04:55:24.566Z"
   },
   {
    "duration": 8751,
    "start_time": "2024-11-27T04:55:36.745Z"
   },
   {
    "duration": 208,
    "start_time": "2024-11-27T04:55:52.469Z"
   },
   {
    "duration": 954,
    "start_time": "2024-11-27T08:37:06.787Z"
   },
   {
    "duration": 33,
    "start_time": "2024-11-27T08:37:07.743Z"
   },
   {
    "duration": 14,
    "start_time": "2024-11-27T08:37:07.778Z"
   },
   {
    "duration": 19,
    "start_time": "2024-11-27T08:37:07.795Z"
   },
   {
    "duration": 7,
    "start_time": "2024-11-27T08:37:07.817Z"
   },
   {
    "duration": 9,
    "start_time": "2024-11-27T08:37:07.826Z"
   },
   {
    "duration": 12,
    "start_time": "2024-11-27T08:37:07.836Z"
   },
   {
    "duration": 20,
    "start_time": "2024-11-27T08:37:07.850Z"
   },
   {
    "duration": 4,
    "start_time": "2024-11-27T08:37:07.872Z"
   },
   {
    "duration": 7,
    "start_time": "2024-11-27T08:37:07.908Z"
   },
   {
    "duration": 181,
    "start_time": "2024-11-27T08:37:15.344Z"
   },
   {
    "duration": 36,
    "start_time": "2024-11-27T08:37:15.780Z"
   },
   {
    "duration": 27,
    "start_time": "2024-11-27T08:37:17.975Z"
   },
   {
    "duration": 9,
    "start_time": "2024-11-27T08:37:20.215Z"
   },
   {
    "duration": 23840,
    "start_time": "2024-11-27T08:37:20.348Z"
   },
   {
    "duration": 9267,
    "start_time": "2024-11-27T08:37:44.190Z"
   },
   {
    "duration": 356,
    "start_time": "2024-11-27T08:37:53.459Z"
   },
   {
    "duration": 30,
    "start_time": "2024-11-27T08:37:53.818Z"
   },
   {
    "duration": 118,
    "start_time": "2024-11-27T08:37:53.850Z"
   },
   {
    "duration": 4,
    "start_time": "2024-11-27T08:37:53.970Z"
   },
   {
    "duration": 14,
    "start_time": "2024-11-27T08:37:53.976Z"
   },
   {
    "duration": 4,
    "start_time": "2024-11-27T08:37:53.992Z"
   },
   {
    "duration": 7,
    "start_time": "2024-11-27T08:37:53.998Z"
   },
   {
    "duration": 74,
    "start_time": "2024-11-27T08:39:35.346Z"
   },
   {
    "duration": 31,
    "start_time": "2024-11-27T08:39:37.022Z"
   },
   {
    "duration": 58,
    "start_time": "2024-11-27T08:39:37.655Z"
   },
   {
    "duration": 8720,
    "start_time": "2024-11-27T08:39:37.805Z"
   },
   {
    "duration": 210,
    "start_time": "2024-11-27T08:39:46.527Z"
   },
   {
    "duration": 821,
    "start_time": "2024-11-30T13:28:36.338Z"
   },
   {
    "duration": 27,
    "start_time": "2024-11-30T13:28:37.161Z"
   },
   {
    "duration": 9,
    "start_time": "2024-11-30T13:28:37.190Z"
   },
   {
    "duration": 12,
    "start_time": "2024-11-30T13:28:37.201Z"
   },
   {
    "duration": 6,
    "start_time": "2024-11-30T13:28:37.216Z"
   },
   {
    "duration": 3,
    "start_time": "2024-11-30T13:28:42.396Z"
   },
   {
    "duration": 10,
    "start_time": "2024-11-30T13:28:53.365Z"
   },
   {
    "duration": 219,
    "start_time": "2024-11-30T13:31:28.830Z"
   },
   {
    "duration": 3,
    "start_time": "2024-11-30T13:31:42.774Z"
   },
   {
    "duration": 8,
    "start_time": "2024-11-30T13:32:01.557Z"
   },
   {
    "duration": 10,
    "start_time": "2024-11-30T13:32:52.285Z"
   },
   {
    "duration": 7,
    "start_time": "2024-11-30T13:34:23.150Z"
   },
   {
    "duration": 7,
    "start_time": "2024-11-30T13:34:53.651Z"
   },
   {
    "duration": 6,
    "start_time": "2024-11-30T13:36:03.392Z"
   },
   {
    "duration": 10,
    "start_time": "2024-11-30T13:36:52.978Z"
   },
   {
    "duration": 9,
    "start_time": "2024-11-30T13:37:10.680Z"
   },
   {
    "duration": 3,
    "start_time": "2024-11-30T13:40:20.455Z"
   },
   {
    "duration": 16,
    "start_time": "2024-11-30T13:40:20.464Z"
   },
   {
    "duration": 11,
    "start_time": "2024-11-30T13:40:20.483Z"
   },
   {
    "duration": 13,
    "start_time": "2024-11-30T13:40:20.496Z"
   },
   {
    "duration": 6,
    "start_time": "2024-11-30T13:40:20.516Z"
   },
   {
    "duration": 20,
    "start_time": "2024-11-30T13:40:20.525Z"
   },
   {
    "duration": 8,
    "start_time": "2024-11-30T13:40:20.546Z"
   },
   {
    "duration": 7,
    "start_time": "2024-11-30T13:40:20.556Z"
   },
   {
    "duration": 11,
    "start_time": "2024-11-30T13:40:20.564Z"
   },
   {
    "duration": 2017,
    "start_time": "2024-11-30T13:43:05.304Z"
   },
   {
    "duration": 118,
    "start_time": "2024-11-30T13:47:53.918Z"
   },
   {
    "duration": 18,
    "start_time": "2024-11-30T13:47:54.038Z"
   },
   {
    "duration": 12,
    "start_time": "2024-11-30T13:47:54.057Z"
   },
   {
    "duration": 13,
    "start_time": "2024-11-30T13:47:54.072Z"
   },
   {
    "duration": 5,
    "start_time": "2024-11-30T13:47:54.088Z"
   },
   {
    "duration": 9,
    "start_time": "2024-11-30T13:47:54.095Z"
   },
   {
    "duration": 37,
    "start_time": "2024-11-30T13:47:54.105Z"
   },
   {
    "duration": 6,
    "start_time": "2024-11-30T13:47:54.144Z"
   },
   {
    "duration": 8,
    "start_time": "2024-11-30T13:47:54.152Z"
   },
   {
    "duration": 653,
    "start_time": "2024-11-30T13:47:54.162Z"
   },
   {
    "duration": 0,
    "start_time": "2024-11-30T13:47:54.817Z"
   },
   {
    "duration": 10,
    "start_time": "2024-11-30T13:48:48.050Z"
   },
   {
    "duration": 18,
    "start_time": "2024-11-30T13:49:13.072Z"
   },
   {
    "duration": 5,
    "start_time": "2024-11-30T13:49:51.826Z"
   },
   {
    "duration": 103,
    "start_time": "2024-11-30T13:49:55.040Z"
   },
   {
    "duration": 8,
    "start_time": "2024-11-30T13:50:42.487Z"
   },
   {
    "duration": 14,
    "start_time": "2024-11-30T13:55:45.923Z"
   },
   {
    "duration": 4,
    "start_time": "2024-11-30T13:56:28.979Z"
   },
   {
    "duration": 15,
    "start_time": "2024-11-30T13:56:28.985Z"
   },
   {
    "duration": 10,
    "start_time": "2024-11-30T13:56:29.002Z"
   },
   {
    "duration": 9,
    "start_time": "2024-11-30T13:56:29.013Z"
   },
   {
    "duration": 6,
    "start_time": "2024-11-30T13:56:29.024Z"
   },
   {
    "duration": 8,
    "start_time": "2024-11-30T13:56:29.032Z"
   },
   {
    "duration": 7,
    "start_time": "2024-11-30T13:56:29.042Z"
   },
   {
    "duration": 6,
    "start_time": "2024-11-30T13:56:29.050Z"
   },
   {
    "duration": 9,
    "start_time": "2024-11-30T13:56:29.058Z"
   },
   {
    "duration": 17,
    "start_time": "2024-11-30T13:56:29.069Z"
   },
   {
    "duration": 3,
    "start_time": "2024-11-30T13:56:29.088Z"
   },
   {
    "duration": 137,
    "start_time": "2024-11-30T13:56:33.426Z"
   },
   {
    "duration": 92,
    "start_time": "2024-11-30T14:04:15.797Z"
   },
   {
    "duration": 13,
    "start_time": "2024-11-30T14:04:45.243Z"
   },
   {
    "duration": 4,
    "start_time": "2024-11-30T14:05:17.550Z"
   },
   {
    "duration": 16,
    "start_time": "2024-11-30T14:05:17.560Z"
   },
   {
    "duration": 9,
    "start_time": "2024-11-30T14:05:17.578Z"
   },
   {
    "duration": 10,
    "start_time": "2024-11-30T14:05:17.602Z"
   },
   {
    "duration": 7,
    "start_time": "2024-11-30T14:05:17.614Z"
   },
   {
    "duration": 10,
    "start_time": "2024-11-30T14:05:17.622Z"
   },
   {
    "duration": 7,
    "start_time": "2024-11-30T14:05:17.643Z"
   },
   {
    "duration": 7,
    "start_time": "2024-11-30T14:05:17.652Z"
   },
   {
    "duration": 9,
    "start_time": "2024-11-30T14:05:17.920Z"
   },
   {
    "duration": 51,
    "start_time": "2024-11-30T14:05:22.224Z"
   },
   {
    "duration": 9,
    "start_time": "2024-11-30T14:05:35.843Z"
   },
   {
    "duration": 47,
    "start_time": "2024-11-30T14:05:52.723Z"
   },
   {
    "duration": 8,
    "start_time": "2024-11-30T14:08:15.834Z"
   },
   {
    "duration": 6,
    "start_time": "2024-11-30T14:17:54.276Z"
   },
   {
    "duration": 3,
    "start_time": "2024-12-01T00:15:11.277Z"
   },
   {
    "duration": 16,
    "start_time": "2024-12-01T00:15:11.284Z"
   },
   {
    "duration": 10,
    "start_time": "2024-12-01T00:15:11.610Z"
   },
   {
    "duration": 10,
    "start_time": "2024-12-01T00:15:11.622Z"
   },
   {
    "duration": 6,
    "start_time": "2024-12-01T00:15:11.634Z"
   },
   {
    "duration": 9,
    "start_time": "2024-12-01T00:15:11.641Z"
   },
   {
    "duration": 7,
    "start_time": "2024-12-01T00:15:11.651Z"
   },
   {
    "duration": 6,
    "start_time": "2024-12-01T00:15:11.743Z"
   },
   {
    "duration": 10,
    "start_time": "2024-12-01T00:15:11.751Z"
   },
   {
    "duration": 9,
    "start_time": "2024-12-01T00:15:11.762Z"
   },
   {
    "duration": 4,
    "start_time": "2024-12-01T00:15:11.772Z"
   },
   {
    "duration": 0,
    "start_time": "2024-12-01T00:15:11.778Z"
   },
   {
    "duration": 3,
    "start_time": "2024-12-01T00:15:11.947Z"
   },
   {
    "duration": 151,
    "start_time": "2024-12-01T00:15:11.953Z"
   },
   {
    "duration": 1043,
    "start_time": "2024-12-01T00:17:18.051Z"
   },
   {
    "duration": 17,
    "start_time": "2024-12-01T00:17:19.098Z"
   },
   {
    "duration": 11,
    "start_time": "2024-12-01T00:17:19.116Z"
   },
   {
    "duration": 20,
    "start_time": "2024-12-01T00:17:19.129Z"
   },
   {
    "duration": 6,
    "start_time": "2024-12-01T00:17:19.152Z"
   },
   {
    "duration": 9,
    "start_time": "2024-12-01T00:17:19.160Z"
   },
   {
    "duration": 7,
    "start_time": "2024-12-01T00:17:19.171Z"
   },
   {
    "duration": 6,
    "start_time": "2024-12-01T00:17:19.179Z"
   },
   {
    "duration": 9,
    "start_time": "2024-12-01T00:17:19.187Z"
   },
   {
    "duration": 45,
    "start_time": "2024-12-01T00:17:19.198Z"
   },
   {
    "duration": 4,
    "start_time": "2024-12-01T00:17:19.245Z"
   },
   {
    "duration": 0,
    "start_time": "2024-12-01T00:17:19.250Z"
   },
   {
    "duration": 0,
    "start_time": "2024-12-01T00:17:19.252Z"
   },
   {
    "duration": 0,
    "start_time": "2024-12-01T00:17:19.254Z"
   },
   {
    "duration": 146,
    "start_time": "2024-12-01T00:17:53.400Z"
   },
   {
    "duration": 0,
    "start_time": "2024-12-01T00:23:15.587Z"
   },
   {
    "duration": 4,
    "start_time": "2024-12-01T00:25:07.649Z"
   },
   {
    "duration": 15,
    "start_time": "2024-12-01T00:25:07.657Z"
   },
   {
    "duration": 10,
    "start_time": "2024-12-01T00:25:07.674Z"
   },
   {
    "duration": 10,
    "start_time": "2024-12-01T00:25:07.685Z"
   },
   {
    "duration": 6,
    "start_time": "2024-12-01T00:25:07.697Z"
   },
   {
    "duration": 10,
    "start_time": "2024-12-01T00:25:07.705Z"
   },
   {
    "duration": 32,
    "start_time": "2024-12-01T00:25:07.716Z"
   },
   {
    "duration": 7,
    "start_time": "2024-12-01T00:25:07.749Z"
   },
   {
    "duration": 9,
    "start_time": "2024-12-01T00:25:07.758Z"
   },
   {
    "duration": 9,
    "start_time": "2024-12-01T00:25:07.769Z"
   },
   {
    "duration": 5,
    "start_time": "2024-12-01T00:25:07.779Z"
   },
   {
    "duration": 18,
    "start_time": "2024-12-01T00:25:08.651Z"
   },
   {
    "duration": 4,
    "start_time": "2024-12-01T00:25:08.672Z"
   },
   {
    "duration": 142,
    "start_time": "2024-12-01T00:25:08.677Z"
   },
   {
    "duration": 285,
    "start_time": "2024-12-01T00:25:55.402Z"
   },
   {
    "duration": 5,
    "start_time": "2024-12-01T00:26:10.662Z"
   },
   {
    "duration": 18,
    "start_time": "2024-12-01T00:26:10.671Z"
   },
   {
    "duration": 12,
    "start_time": "2024-12-01T00:26:10.690Z"
   },
   {
    "duration": 11,
    "start_time": "2024-12-01T00:26:10.704Z"
   },
   {
    "duration": 6,
    "start_time": "2024-12-01T00:26:10.720Z"
   },
   {
    "duration": 19,
    "start_time": "2024-12-01T00:26:10.728Z"
   },
   {
    "duration": 7,
    "start_time": "2024-12-01T00:26:10.749Z"
   },
   {
    "duration": 7,
    "start_time": "2024-12-01T00:26:10.758Z"
   },
   {
    "duration": 9,
    "start_time": "2024-12-01T00:26:10.767Z"
   },
   {
    "duration": 9,
    "start_time": "2024-12-01T00:26:10.778Z"
   },
   {
    "duration": 17,
    "start_time": "2024-12-01T00:26:17.031Z"
   },
   {
    "duration": 4,
    "start_time": "2024-12-01T00:26:23.668Z"
   },
   {
    "duration": 134,
    "start_time": "2024-12-01T00:26:27.461Z"
   },
   {
    "duration": 42,
    "start_time": "2024-12-01T00:26:32.881Z"
   },
   {
    "duration": 44679,
    "start_time": "2024-12-01T00:28:01.542Z"
   },
   {
    "duration": 43,
    "start_time": "2024-12-01T00:29:18.917Z"
   },
   {
    "duration": 44723,
    "start_time": "2024-12-01T00:34:51.705Z"
   },
   {
    "duration": 97788,
    "start_time": "2024-12-01T00:53:34.229Z"
   },
   {
    "duration": 0,
    "start_time": "2024-12-01T00:55:12.024Z"
   },
   {
    "duration": 263,
    "start_time": "2024-12-01T01:01:17.517Z"
   },
   {
    "duration": 297,
    "start_time": "2024-12-01T01:10:17.877Z"
   },
   {
    "duration": 317,
    "start_time": "2024-12-01T01:11:07.662Z"
   },
   {
    "duration": 278,
    "start_time": "2024-12-01T01:11:48.700Z"
   },
   {
    "duration": 1003,
    "start_time": "2024-12-01T01:37:12.876Z"
   },
   {
    "duration": 16,
    "start_time": "2024-12-01T01:37:13.882Z"
   },
   {
    "duration": 10,
    "start_time": "2024-12-01T01:37:13.900Z"
   },
   {
    "duration": 12,
    "start_time": "2024-12-01T01:37:13.912Z"
   },
   {
    "duration": 17,
    "start_time": "2024-12-01T01:37:13.926Z"
   },
   {
    "duration": 9,
    "start_time": "2024-12-01T01:37:13.945Z"
   },
   {
    "duration": 8,
    "start_time": "2024-12-01T01:37:13.955Z"
   },
   {
    "duration": 11,
    "start_time": "2024-12-01T01:37:13.965Z"
   },
   {
    "duration": 12,
    "start_time": "2024-12-01T01:37:13.977Z"
   },
   {
    "duration": 10,
    "start_time": "2024-12-01T01:37:13.991Z"
   },
   {
    "duration": 52,
    "start_time": "2024-12-01T01:37:14.003Z"
   },
   {
    "duration": 5,
    "start_time": "2024-12-01T01:37:14.057Z"
   },
   {
    "duration": 155,
    "start_time": "2024-12-01T01:37:14.063Z"
   },
   {
    "duration": 1069,
    "start_time": "2024-12-01T01:49:25.757Z"
   },
   {
    "duration": 20,
    "start_time": "2024-12-01T01:49:26.829Z"
   },
   {
    "duration": 11,
    "start_time": "2024-12-01T01:49:26.851Z"
   },
   {
    "duration": 14,
    "start_time": "2024-12-01T01:49:26.864Z"
   },
   {
    "duration": 8,
    "start_time": "2024-12-01T01:49:26.880Z"
   },
   {
    "duration": 12,
    "start_time": "2024-12-01T01:49:26.889Z"
   },
   {
    "duration": 41,
    "start_time": "2024-12-01T01:49:26.902Z"
   },
   {
    "duration": 7,
    "start_time": "2024-12-01T01:49:26.945Z"
   },
   {
    "duration": 12,
    "start_time": "2024-12-01T01:49:26.954Z"
   },
   {
    "duration": 9,
    "start_time": "2024-12-01T01:49:26.969Z"
   },
   {
    "duration": 18,
    "start_time": "2024-12-01T01:49:26.980Z"
   },
   {
    "duration": 5,
    "start_time": "2024-12-01T01:49:27.000Z"
   },
   {
    "duration": 184,
    "start_time": "2024-12-01T01:49:27.008Z"
   },
   {
    "duration": 4,
    "start_time": "2024-12-01T01:49:27.196Z"
   },
   {
    "duration": 0,
    "start_time": "2024-12-01T01:52:05.367Z"
   },
   {
    "duration": 0,
    "start_time": "2024-12-01T01:52:05.368Z"
   },
   {
    "duration": 0,
    "start_time": "2024-12-01T01:52:05.370Z"
   },
   {
    "duration": 0,
    "start_time": "2024-12-01T01:52:05.372Z"
   },
   {
    "duration": 0,
    "start_time": "2024-12-01T01:52:05.373Z"
   },
   {
    "duration": 0,
    "start_time": "2024-12-01T01:52:05.375Z"
   },
   {
    "duration": 0,
    "start_time": "2024-12-01T01:52:05.376Z"
   },
   {
    "duration": 0,
    "start_time": "2024-12-01T01:52:05.378Z"
   },
   {
    "duration": 0,
    "start_time": "2024-12-01T01:52:05.379Z"
   },
   {
    "duration": 0,
    "start_time": "2024-12-01T01:52:05.380Z"
   },
   {
    "duration": 0,
    "start_time": "2024-12-01T01:52:05.382Z"
   },
   {
    "duration": 0,
    "start_time": "2024-12-01T01:52:05.383Z"
   },
   {
    "duration": 0,
    "start_time": "2024-12-01T01:52:05.385Z"
   },
   {
    "duration": 0,
    "start_time": "2024-12-01T01:52:05.386Z"
   },
   {
    "duration": 0,
    "start_time": "2024-12-01T01:52:05.388Z"
   },
   {
    "duration": 0,
    "start_time": "2024-12-01T01:52:05.389Z"
   },
   {
    "duration": 0,
    "start_time": "2024-12-01T01:52:05.391Z"
   },
   {
    "duration": 0,
    "start_time": "2024-12-01T01:52:05.392Z"
   },
   {
    "duration": 0,
    "start_time": "2024-12-01T01:52:05.393Z"
   },
   {
    "duration": 0,
    "start_time": "2024-12-01T01:52:05.395Z"
   },
   {
    "duration": 0,
    "start_time": "2024-12-01T01:52:05.396Z"
   },
   {
    "duration": 0,
    "start_time": "2024-12-01T01:52:05.444Z"
   },
   {
    "duration": 0,
    "start_time": "2024-12-01T02:15:10.699Z"
   },
   {
    "duration": 0,
    "start_time": "2024-12-01T02:15:10.701Z"
   },
   {
    "duration": 1013,
    "start_time": "2024-12-01T02:15:22.534Z"
   },
   {
    "duration": 16,
    "start_time": "2024-12-01T02:15:23.549Z"
   },
   {
    "duration": 10,
    "start_time": "2024-12-01T02:15:23.566Z"
   },
   {
    "duration": 12,
    "start_time": "2024-12-01T02:15:23.579Z"
   },
   {
    "duration": 6,
    "start_time": "2024-12-01T02:15:23.593Z"
   },
   {
    "duration": 10,
    "start_time": "2024-12-01T02:15:23.600Z"
   },
   {
    "duration": 31,
    "start_time": "2024-12-01T02:15:23.612Z"
   },
   {
    "duration": 6,
    "start_time": "2024-12-01T02:15:23.644Z"
   },
   {
    "duration": 10,
    "start_time": "2024-12-01T02:15:23.652Z"
   },
   {
    "duration": 10,
    "start_time": "2024-12-01T02:15:23.663Z"
   },
   {
    "duration": 18,
    "start_time": "2024-12-01T02:15:23.674Z"
   },
   {
    "duration": 4,
    "start_time": "2024-12-01T02:15:23.694Z"
   },
   {
    "duration": 184,
    "start_time": "2024-12-01T02:15:23.700Z"
   },
   {
    "duration": 234,
    "start_time": "2024-12-01T02:15:27.216Z"
   },
   {
    "duration": 3653,
    "start_time": "2024-12-01T02:15:42.183Z"
   },
   {
    "duration": 3660,
    "start_time": "2024-12-01T02:16:14.358Z"
   },
   {
    "duration": 3701,
    "start_time": "2024-12-01T02:17:20.062Z"
   },
   {
    "duration": 3,
    "start_time": "2024-12-01T02:20:23.094Z"
   },
   {
    "duration": 5,
    "start_time": "2024-12-01T02:21:43.208Z"
   },
   {
    "duration": 4,
    "start_time": "2024-12-01T02:21:53.975Z"
   },
   {
    "duration": 3,
    "start_time": "2024-12-01T02:22:07.921Z"
   },
   {
    "duration": 6,
    "start_time": "2024-12-01T02:30:09.028Z"
   },
   {
    "duration": 5,
    "start_time": "2024-12-01T02:30:23.826Z"
   },
   {
    "duration": 119,
    "start_time": "2024-12-01T02:30:25.008Z"
   },
   {
    "duration": 26,
    "start_time": "2024-12-01T02:32:52.357Z"
   },
   {
    "duration": 14,
    "start_time": "2024-12-01T02:37:51.218Z"
   },
   {
    "duration": 22,
    "start_time": "2024-12-01T02:38:01.468Z"
   },
   {
    "duration": 9,
    "start_time": "2024-12-01T02:38:06.557Z"
   },
   {
    "duration": 12,
    "start_time": "2024-12-01T02:38:20.845Z"
   },
   {
    "duration": 8,
    "start_time": "2024-12-01T02:41:25.337Z"
   },
   {
    "duration": 16111,
    "start_time": "2024-12-01T02:41:27.348Z"
   },
   {
    "duration": 7357,
    "start_time": "2024-12-01T02:41:58.907Z"
   },
   {
    "duration": 278,
    "start_time": "2024-12-01T02:42:06.369Z"
   },
   {
    "duration": 253,
    "start_time": "2024-12-01T02:43:03.425Z"
   },
   {
    "duration": 7427,
    "start_time": "2024-12-01T02:43:57.047Z"
   },
   {
    "duration": 13,
    "start_time": "2024-12-01T02:49:50.891Z"
   },
   {
    "duration": 4,
    "start_time": "2024-12-01T02:49:52.338Z"
   },
   {
    "duration": 12,
    "start_time": "2024-12-01T02:50:50.207Z"
   },
   {
    "duration": 4,
    "start_time": "2024-12-01T02:50:51.420Z"
   },
   {
    "duration": 14,
    "start_time": "2024-12-01T02:52:05.796Z"
   },
   {
    "duration": 4,
    "start_time": "2024-12-01T02:52:08.405Z"
   },
   {
    "duration": 15,
    "start_time": "2024-12-01T02:52:49.252Z"
   },
   {
    "duration": 4,
    "start_time": "2024-12-01T02:52:50.392Z"
   },
   {
    "duration": 13,
    "start_time": "2024-12-01T02:53:05.581Z"
   },
   {
    "duration": 3,
    "start_time": "2024-12-01T02:53:06.738Z"
   },
   {
    "duration": 3,
    "start_time": "2024-12-01T04:14:08.002Z"
   },
   {
    "duration": 16,
    "start_time": "2024-12-01T04:14:08.078Z"
   },
   {
    "duration": 9,
    "start_time": "2024-12-01T04:14:08.096Z"
   },
   {
    "duration": 10,
    "start_time": "2024-12-01T04:14:08.106Z"
   },
   {
    "duration": 5,
    "start_time": "2024-12-01T04:14:08.118Z"
   },
   {
    "duration": 10,
    "start_time": "2024-12-01T04:14:08.126Z"
   },
   {
    "duration": 6,
    "start_time": "2024-12-01T04:14:08.138Z"
   },
   {
    "duration": 6,
    "start_time": "2024-12-01T04:14:08.145Z"
   },
   {
    "duration": 9,
    "start_time": "2024-12-01T04:14:08.153Z"
   },
   {
    "duration": 8,
    "start_time": "2024-12-01T04:14:08.164Z"
   },
   {
    "duration": 17,
    "start_time": "2024-12-01T04:14:08.174Z"
   },
   {
    "duration": 3,
    "start_time": "2024-12-01T04:14:08.193Z"
   },
   {
    "duration": 194,
    "start_time": "2024-12-01T04:14:08.199Z"
   },
   {
    "duration": 3664,
    "start_time": "2024-12-01T04:14:08.395Z"
   },
   {
    "duration": 6,
    "start_time": "2024-12-01T04:14:12.061Z"
   },
   {
    "duration": 5,
    "start_time": "2024-12-01T04:14:12.068Z"
   },
   {
    "duration": 134,
    "start_time": "2024-12-01T04:14:12.074Z"
   },
   {
    "duration": 33,
    "start_time": "2024-12-01T04:14:12.211Z"
   },
   {
    "duration": 26,
    "start_time": "2024-12-01T04:14:12.245Z"
   },
   {
    "duration": 68,
    "start_time": "2024-12-01T04:14:12.275Z"
   },
   {
    "duration": 16147,
    "start_time": "2024-12-01T04:14:12.345Z"
   },
   {
    "duration": 7428,
    "start_time": "2024-12-01T04:14:28.494Z"
   },
   {
    "duration": 255,
    "start_time": "2024-12-01T04:14:35.925Z"
   },
   {
    "duration": 13,
    "start_time": "2024-12-01T04:14:36.181Z"
   },
   {
    "duration": 4,
    "start_time": "2024-12-01T04:14:36.195Z"
   },
   {
    "duration": 6,
    "start_time": "2024-12-01T04:14:36.200Z"
   },
   {
    "duration": 4,
    "start_time": "2024-12-01T04:14:36.209Z"
   },
   {
    "duration": 64,
    "start_time": "2024-12-01T04:14:36.242Z"
   },
   {
    "duration": 18,
    "start_time": "2024-12-01T04:14:42.296Z"
   },
   {
    "duration": 19,
    "start_time": "2024-12-01T04:16:41.597Z"
   },
   {
    "duration": 15,
    "start_time": "2024-12-01T04:18:00.549Z"
   },
   {
    "duration": 8,
    "start_time": "2024-12-01T04:18:49.557Z"
   },
   {
    "duration": 3403,
    "start_time": "2024-12-01T04:19:19.427Z"
   },
   {
    "duration": 120,
    "start_time": "2024-12-01T04:19:39.935Z"
   },
   {
    "duration": 3378,
    "start_time": "2024-12-01T04:21:43.743Z"
   },
   {
    "duration": 119,
    "start_time": "2024-12-01T04:22:04.439Z"
   },
   {
    "duration": 58,
    "start_time": "2024-12-01T04:24:34.385Z"
   },
   {
    "duration": 14,
    "start_time": "2024-12-01T04:24:52.986Z"
   },
   {
    "duration": 4,
    "start_time": "2024-12-01T04:24:55.445Z"
   },
   {
    "duration": 7,
    "start_time": "2024-12-01T04:25:05.982Z"
   },
   {
    "duration": 5,
    "start_time": "2024-12-01T04:25:13.130Z"
   },
   {
    "duration": 77,
    "start_time": "2024-12-01T04:25:27.871Z"
   },
   {
    "duration": 164,
    "start_time": "2024-12-01T04:27:02.522Z"
   },
   {
    "duration": 37,
    "start_time": "2024-12-01T04:27:06.727Z"
   },
   {
    "duration": 28,
    "start_time": "2024-12-01T04:28:00.005Z"
   },
   {
    "duration": 13,
    "start_time": "2024-12-01T04:28:11.020Z"
   },
   {
    "duration": 11113,
    "start_time": "2024-12-01T04:28:41.657Z"
   },
   {
    "duration": 383,
    "start_time": "2024-12-01T04:29:03.179Z"
   },
   {
    "duration": 364,
    "start_time": "2024-12-01T04:30:31.048Z"
   },
   {
    "duration": 184,
    "start_time": "2024-12-01T04:30:54.079Z"
   },
   {
    "duration": 185,
    "start_time": "2024-12-01T04:35:29.559Z"
   },
   {
    "duration": 1124,
    "start_time": "2024-12-01T05:27:09.375Z"
   },
   {
    "duration": 27,
    "start_time": "2024-12-01T05:27:10.501Z"
   },
   {
    "duration": 9,
    "start_time": "2024-12-01T05:27:10.530Z"
   },
   {
    "duration": 21,
    "start_time": "2024-12-01T05:27:10.541Z"
   },
   {
    "duration": 6,
    "start_time": "2024-12-01T05:27:10.564Z"
   },
   {
    "duration": 10,
    "start_time": "2024-12-01T05:27:10.572Z"
   },
   {
    "duration": 7,
    "start_time": "2024-12-01T05:27:10.584Z"
   },
   {
    "duration": 16,
    "start_time": "2024-12-01T05:27:10.593Z"
   },
   {
    "duration": 34,
    "start_time": "2024-12-01T05:27:10.611Z"
   },
   {
    "duration": 23,
    "start_time": "2024-12-01T05:27:10.649Z"
   },
   {
    "duration": 10,
    "start_time": "2024-12-01T05:27:10.673Z"
   },
   {
    "duration": 18,
    "start_time": "2024-12-01T05:27:10.685Z"
   },
   {
    "duration": 3,
    "start_time": "2024-12-01T05:27:10.705Z"
   },
   {
    "duration": 166,
    "start_time": "2024-12-01T05:27:10.710Z"
   },
   {
    "duration": 3990,
    "start_time": "2024-12-01T05:27:10.879Z"
   },
   {
    "duration": 6,
    "start_time": "2024-12-01T05:27:14.870Z"
   },
   {
    "duration": 5,
    "start_time": "2024-12-01T05:27:14.878Z"
   },
   {
    "duration": 130,
    "start_time": "2024-12-01T05:27:14.884Z"
   },
   {
    "duration": 33,
    "start_time": "2024-12-01T05:27:15.018Z"
   },
   {
    "duration": 23,
    "start_time": "2024-12-01T05:27:15.052Z"
   },
   {
    "duration": 8,
    "start_time": "2024-12-01T05:27:15.076Z"
   },
   {
    "duration": 16288,
    "start_time": "2024-12-01T05:27:15.085Z"
   },
   {
    "duration": 7406,
    "start_time": "2024-12-01T05:27:31.374Z"
   },
   {
    "duration": 252,
    "start_time": "2024-12-01T05:27:38.782Z"
   },
   {
    "duration": 17,
    "start_time": "2024-12-01T05:27:39.036Z"
   },
   {
    "duration": 3,
    "start_time": "2024-12-01T05:27:39.055Z"
   },
   {
    "duration": 5,
    "start_time": "2024-12-01T05:27:39.060Z"
   },
   {
    "duration": 5,
    "start_time": "2024-12-01T05:27:39.070Z"
   },
   {
    "duration": 89,
    "start_time": "2024-12-01T05:27:39.076Z"
   },
   {
    "duration": 18,
    "start_time": "2024-12-01T05:27:39.166Z"
   },
   {
    "duration": 14,
    "start_time": "2024-12-01T05:27:39.185Z"
   },
   {
    "duration": 49,
    "start_time": "2024-12-01T05:27:39.200Z"
   },
   {
    "duration": 3486,
    "start_time": "2024-12-01T05:27:39.251Z"
   },
   {
    "duration": 123,
    "start_time": "2024-12-01T05:27:42.742Z"
   },
   {
    "duration": 58,
    "start_time": "2024-12-01T05:27:42.867Z"
   },
   {
    "duration": 25,
    "start_time": "2024-12-01T05:27:42.927Z"
   },
   {
    "duration": 5,
    "start_time": "2024-12-01T05:27:42.954Z"
   },
   {
    "duration": 9,
    "start_time": "2024-12-01T05:27:42.961Z"
   },
   {
    "duration": 7,
    "start_time": "2024-12-01T05:27:42.973Z"
   },
   {
    "duration": 187,
    "start_time": "2024-12-01T05:27:42.982Z"
   },
   {
    "duration": 38,
    "start_time": "2024-12-01T05:27:43.170Z"
   },
   {
    "duration": 43,
    "start_time": "2024-12-01T05:27:43.210Z"
   },
   {
    "duration": 87,
    "start_time": "2024-12-01T05:27:43.255Z"
   },
   {
    "duration": 11222,
    "start_time": "2024-12-01T05:27:43.346Z"
   },
   {
    "duration": 393,
    "start_time": "2024-12-01T05:27:54.569Z"
   },
   {
    "duration": 193,
    "start_time": "2024-12-01T05:27:54.964Z"
   },
   {
    "duration": 2989,
    "start_time": "2024-12-03T18:41:28.779Z"
   },
   {
    "duration": 26,
    "start_time": "2024-12-03T18:41:31.770Z"
   },
   {
    "duration": 10,
    "start_time": "2024-12-03T18:41:31.798Z"
   },
   {
    "duration": 17,
    "start_time": "2024-12-03T18:41:31.810Z"
   },
   {
    "duration": 6,
    "start_time": "2024-12-03T18:41:31.829Z"
   },
   {
    "duration": 10,
    "start_time": "2024-12-03T18:41:31.837Z"
   },
   {
    "duration": 15,
    "start_time": "2024-12-03T18:41:37.614Z"
   },
   {
    "duration": 4,
    "start_time": "2024-12-03T18:44:00.030Z"
   },
   {
    "duration": 313,
    "start_time": "2024-12-03T18:48:31.555Z"
   },
   {
    "duration": 3,
    "start_time": "2024-12-03T18:48:39.028Z"
   },
   {
    "duration": 15,
    "start_time": "2024-12-03T18:48:39.034Z"
   },
   {
    "duration": 10,
    "start_time": "2024-12-03T18:48:39.051Z"
   },
   {
    "duration": 11,
    "start_time": "2024-12-03T18:48:39.063Z"
   },
   {
    "duration": 6,
    "start_time": "2024-12-03T18:48:39.076Z"
   },
   {
    "duration": 43,
    "start_time": "2024-12-03T18:48:39.085Z"
   },
   {
    "duration": 12,
    "start_time": "2024-12-03T18:48:39.130Z"
   },
   {
    "duration": 17,
    "start_time": "2024-12-03T18:48:39.144Z"
   },
   {
    "duration": 5,
    "start_time": "2024-12-03T18:48:39.162Z"
   },
   {
    "duration": 6,
    "start_time": "2024-12-03T18:48:39.169Z"
   },
   {
    "duration": 9,
    "start_time": "2024-12-03T18:48:39.178Z"
   },
   {
    "duration": 9,
    "start_time": "2024-12-03T18:48:39.226Z"
   },
   {
    "duration": 18,
    "start_time": "2024-12-03T18:48:39.237Z"
   },
   {
    "duration": 3,
    "start_time": "2024-12-03T18:48:39.259Z"
   },
   {
    "duration": 170,
    "start_time": "2024-12-03T18:48:39.263Z"
   },
   {
    "duration": 15,
    "start_time": "2024-12-03T18:48:43.068Z"
   },
   {
    "duration": 117,
    "start_time": "2024-12-03T18:52:25.322Z"
   },
   {
    "duration": 125,
    "start_time": "2024-12-03T18:52:49.499Z"
   },
   {
    "duration": 119,
    "start_time": "2024-12-03T18:54:26.473Z"
   },
   {
    "duration": 119,
    "start_time": "2024-12-03T18:55:29.182Z"
   },
   {
    "duration": 114,
    "start_time": "2024-12-03T18:58:07.088Z"
   },
   {
    "duration": 4,
    "start_time": "2024-12-03T19:19:47.824Z"
   },
   {
    "duration": 16,
    "start_time": "2024-12-03T19:19:47.831Z"
   },
   {
    "duration": 10,
    "start_time": "2024-12-03T19:19:47.849Z"
   },
   {
    "duration": 12,
    "start_time": "2024-12-03T19:19:47.860Z"
   },
   {
    "duration": 6,
    "start_time": "2024-12-03T19:19:47.874Z"
   },
   {
    "duration": 43,
    "start_time": "2024-12-03T19:19:47.882Z"
   },
   {
    "duration": 14,
    "start_time": "2024-12-03T19:19:47.929Z"
   },
   {
    "duration": 18,
    "start_time": "2024-12-03T19:19:47.945Z"
   },
   {
    "duration": 4,
    "start_time": "2024-12-03T19:19:47.966Z"
   },
   {
    "duration": 6,
    "start_time": "2024-12-03T19:19:47.972Z"
   },
   {
    "duration": 9,
    "start_time": "2024-12-03T19:19:47.981Z"
   },
   {
    "duration": 12,
    "start_time": "2024-12-03T19:19:48.027Z"
   },
   {
    "duration": 19,
    "start_time": "2024-12-03T19:19:48.040Z"
   },
   {
    "duration": 4,
    "start_time": "2024-12-03T19:19:48.061Z"
   },
   {
    "duration": 165,
    "start_time": "2024-12-03T19:19:48.067Z"
   },
   {
    "duration": 129,
    "start_time": "2024-12-03T19:19:48.234Z"
   },
   {
    "duration": 3631,
    "start_time": "2024-12-03T19:19:48.365Z"
   },
   {
    "duration": 151,
    "start_time": "2024-12-03T19:19:51.998Z"
   },
   {
    "duration": 6,
    "start_time": "2024-12-03T19:19:52.150Z"
   },
   {
    "duration": 5,
    "start_time": "2024-12-03T19:19:52.158Z"
   },
   {
    "duration": 124,
    "start_time": "2024-12-03T19:19:54.510Z"
   },
   {
    "duration": 25,
    "start_time": "2024-12-03T19:20:23.045Z"
   },
   {
    "duration": 4,
    "start_time": "2024-12-03T19:22:51.050Z"
   },
   {
    "duration": 16,
    "start_time": "2024-12-03T19:22:51.056Z"
   },
   {
    "duration": 12,
    "start_time": "2024-12-03T19:22:51.075Z"
   },
   {
    "duration": 14,
    "start_time": "2024-12-03T19:22:51.091Z"
   },
   {
    "duration": 7,
    "start_time": "2024-12-03T19:22:51.107Z"
   },
   {
    "duration": 13,
    "start_time": "2024-12-03T19:22:51.123Z"
   },
   {
    "duration": 17,
    "start_time": "2024-12-03T19:22:51.138Z"
   },
   {
    "duration": 26,
    "start_time": "2024-12-03T19:22:51.158Z"
   },
   {
    "duration": 5,
    "start_time": "2024-12-03T19:22:51.186Z"
   },
   {
    "duration": 36,
    "start_time": "2024-12-03T19:22:51.192Z"
   },
   {
    "duration": 13,
    "start_time": "2024-12-03T19:22:51.233Z"
   },
   {
    "duration": 11,
    "start_time": "2024-12-03T19:22:51.248Z"
   },
   {
    "duration": 21,
    "start_time": "2024-12-03T19:22:51.261Z"
   },
   {
    "duration": 4,
    "start_time": "2024-12-03T19:22:51.284Z"
   },
   {
    "duration": 198,
    "start_time": "2024-12-03T19:22:51.289Z"
   },
   {
    "duration": 256,
    "start_time": "2024-12-03T19:22:51.489Z"
   },
   {
    "duration": 3733,
    "start_time": "2024-12-03T19:22:51.747Z"
   },
   {
    "duration": 162,
    "start_time": "2024-12-03T19:22:55.482Z"
   },
   {
    "duration": 7,
    "start_time": "2024-12-03T19:22:55.646Z"
   },
   {
    "duration": 5,
    "start_time": "2024-12-03T19:22:55.655Z"
   },
   {
    "duration": 143,
    "start_time": "2024-12-03T19:22:55.662Z"
   },
   {
    "duration": 35,
    "start_time": "2024-12-03T19:22:55.807Z"
   },
   {
    "duration": 35,
    "start_time": "2024-12-03T19:22:55.844Z"
   },
   {
    "duration": 48,
    "start_time": "2024-12-03T19:22:55.881Z"
   },
   {
    "duration": 192,
    "start_time": "2024-12-03T19:22:57.095Z"
   },
   {
    "duration": 15753,
    "start_time": "2024-12-03T19:24:27.213Z"
   },
   {
    "duration": 15750,
    "start_time": "2024-12-03T19:25:34.674Z"
   },
   {
    "duration": 24,
    "start_time": "2024-12-03T19:27:33.814Z"
   },
   {
    "duration": 71,
    "start_time": "2024-12-03T19:27:46.011Z"
   },
   {
    "duration": 4,
    "start_time": "2024-12-03T19:27:51.199Z"
   },
   {
    "duration": 18,
    "start_time": "2024-12-03T19:27:51.205Z"
   },
   {
    "duration": 10,
    "start_time": "2024-12-03T19:27:51.225Z"
   },
   {
    "duration": 10,
    "start_time": "2024-12-03T19:27:51.238Z"
   },
   {
    "duration": 6,
    "start_time": "2024-12-03T19:27:51.249Z"
   },
   {
    "duration": 11,
    "start_time": "2024-12-03T19:27:51.257Z"
   },
   {
    "duration": 11,
    "start_time": "2024-12-03T19:27:51.270Z"
   },
   {
    "duration": 54,
    "start_time": "2024-12-03T19:27:51.283Z"
   },
   {
    "duration": 5,
    "start_time": "2024-12-03T19:27:51.341Z"
   },
   {
    "duration": 8,
    "start_time": "2024-12-03T19:27:51.347Z"
   },
   {
    "duration": 11,
    "start_time": "2024-12-03T19:27:51.357Z"
   },
   {
    "duration": 9,
    "start_time": "2024-12-03T19:27:51.370Z"
   },
   {
    "duration": 58,
    "start_time": "2024-12-03T19:27:51.381Z"
   },
   {
    "duration": 3,
    "start_time": "2024-12-03T19:27:51.441Z"
   },
   {
    "duration": 173,
    "start_time": "2024-12-03T19:27:51.446Z"
   },
   {
    "duration": 153,
    "start_time": "2024-12-03T19:27:51.620Z"
   },
   {
    "duration": 3591,
    "start_time": "2024-12-03T19:27:51.776Z"
   },
   {
    "duration": 151,
    "start_time": "2024-12-03T19:27:55.369Z"
   },
   {
    "duration": 6,
    "start_time": "2024-12-03T19:27:55.524Z"
   },
   {
    "duration": 4,
    "start_time": "2024-12-03T19:27:55.532Z"
   },
   {
    "duration": 142,
    "start_time": "2024-12-03T19:27:55.538Z"
   },
   {
    "duration": 25,
    "start_time": "2024-12-03T19:27:55.682Z"
   },
   {
    "duration": 30,
    "start_time": "2024-12-03T19:27:55.709Z"
   },
   {
    "duration": 9,
    "start_time": "2024-12-03T19:27:55.742Z"
   },
   {
    "duration": 15808,
    "start_time": "2024-12-03T19:27:55.753Z"
   },
   {
    "duration": 97,
    "start_time": "2024-12-03T19:29:19.514Z"
   },
   {
    "duration": 6971,
    "start_time": "2024-12-03T19:29:46.916Z"
   },
   {
    "duration": 17,
    "start_time": "2024-12-03T19:33:07.346Z"
   },
   {
    "duration": 3,
    "start_time": "2024-12-03T19:33:12.186Z"
   },
   {
    "duration": 16,
    "start_time": "2024-12-03T19:33:12.192Z"
   },
   {
    "duration": 11,
    "start_time": "2024-12-03T19:33:12.209Z"
   },
   {
    "duration": 11,
    "start_time": "2024-12-03T19:33:12.222Z"
   },
   {
    "duration": 7,
    "start_time": "2024-12-03T19:33:12.235Z"
   },
   {
    "duration": 10,
    "start_time": "2024-12-03T19:33:12.243Z"
   },
   {
    "duration": 12,
    "start_time": "2024-12-03T19:33:12.254Z"
   },
   {
    "duration": 16,
    "start_time": "2024-12-03T19:33:12.268Z"
   },
   {
    "duration": 5,
    "start_time": "2024-12-03T19:33:12.323Z"
   },
   {
    "duration": 7,
    "start_time": "2024-12-03T19:33:12.330Z"
   },
   {
    "duration": 11,
    "start_time": "2024-12-03T19:33:12.339Z"
   },
   {
    "duration": 10,
    "start_time": "2024-12-03T19:33:12.351Z"
   },
   {
    "duration": 18,
    "start_time": "2024-12-03T19:33:12.362Z"
   },
   {
    "duration": 4,
    "start_time": "2024-12-03T19:33:12.382Z"
   },
   {
    "duration": 164,
    "start_time": "2024-12-03T19:33:12.424Z"
   },
   {
    "duration": 257,
    "start_time": "2024-12-03T19:33:12.590Z"
   },
   {
    "duration": 3617,
    "start_time": "2024-12-03T19:33:12.849Z"
   },
   {
    "duration": 149,
    "start_time": "2024-12-03T19:33:16.468Z"
   },
   {
    "duration": 6,
    "start_time": "2024-12-03T19:33:16.623Z"
   },
   {
    "duration": 5,
    "start_time": "2024-12-03T19:33:16.631Z"
   },
   {
    "duration": 136,
    "start_time": "2024-12-03T19:33:16.638Z"
   },
   {
    "duration": 26,
    "start_time": "2024-12-03T19:33:16.775Z"
   },
   {
    "duration": 33,
    "start_time": "2024-12-03T19:33:16.802Z"
   },
   {
    "duration": 10,
    "start_time": "2024-12-03T19:33:16.839Z"
   },
   {
    "duration": 15784,
    "start_time": "2024-12-03T19:33:16.850Z"
   },
   {
    "duration": 6979,
    "start_time": "2024-12-03T19:33:32.636Z"
   },
   {
    "duration": 253,
    "start_time": "2024-12-03T19:33:39.623Z"
   },
   {
    "duration": 14,
    "start_time": "2024-12-03T19:33:39.878Z"
   },
   {
    "duration": 4,
    "start_time": "2024-12-03T19:33:39.894Z"
   },
   {
    "duration": 24,
    "start_time": "2024-12-03T19:33:39.900Z"
   },
   {
    "duration": 6,
    "start_time": "2024-12-03T19:33:39.925Z"
   },
   {
    "duration": 81,
    "start_time": "2024-12-03T19:34:18.620Z"
   },
   {
    "duration": 67,
    "start_time": "2024-12-03T19:34:29.497Z"
   },
   {
    "duration": 19,
    "start_time": "2024-12-03T19:36:11.564Z"
   },
   {
    "duration": 15,
    "start_time": "2024-12-03T19:36:49.631Z"
   },
   {
    "duration": 19,
    "start_time": "2024-12-03T19:37:11.248Z"
   },
   {
    "duration": 70,
    "start_time": "2024-12-03T19:37:18.585Z"
   },
   {
    "duration": 66,
    "start_time": "2024-12-03T19:37:57.363Z"
   },
   {
    "duration": 9,
    "start_time": "2024-12-03T19:38:10.052Z"
   },
   {
    "duration": 64,
    "start_time": "2024-12-03T19:39:03.668Z"
   },
   {
    "duration": 3,
    "start_time": "2024-12-03T19:39:23.620Z"
   },
   {
    "duration": 18,
    "start_time": "2024-12-03T19:39:23.625Z"
   },
   {
    "duration": 10,
    "start_time": "2024-12-03T19:39:23.645Z"
   },
   {
    "duration": 10,
    "start_time": "2024-12-03T19:39:23.657Z"
   },
   {
    "duration": 6,
    "start_time": "2024-12-03T19:39:23.669Z"
   },
   {
    "duration": 9,
    "start_time": "2024-12-03T19:39:23.677Z"
   },
   {
    "duration": 47,
    "start_time": "2024-12-03T19:39:23.688Z"
   },
   {
    "duration": 19,
    "start_time": "2024-12-03T19:39:23.737Z"
   },
   {
    "duration": 5,
    "start_time": "2024-12-03T19:39:23.758Z"
   },
   {
    "duration": 7,
    "start_time": "2024-12-03T19:39:23.765Z"
   },
   {
    "duration": 48,
    "start_time": "2024-12-03T19:39:23.776Z"
   },
   {
    "duration": 9,
    "start_time": "2024-12-03T19:39:23.826Z"
   },
   {
    "duration": 19,
    "start_time": "2024-12-03T19:39:23.837Z"
   },
   {
    "duration": 4,
    "start_time": "2024-12-03T19:39:23.858Z"
   },
   {
    "duration": 185,
    "start_time": "2024-12-03T19:39:23.864Z"
   },
   {
    "duration": 148,
    "start_time": "2024-12-03T19:39:24.051Z"
   },
   {
    "duration": 3637,
    "start_time": "2024-12-03T19:39:24.201Z"
   },
   {
    "duration": 151,
    "start_time": "2024-12-03T19:39:27.840Z"
   },
   {
    "duration": 6,
    "start_time": "2024-12-03T19:39:27.993Z"
   },
   {
    "duration": 5,
    "start_time": "2024-12-03T19:39:28.001Z"
   },
   {
    "duration": 135,
    "start_time": "2024-12-03T19:39:28.024Z"
   },
   {
    "duration": 32,
    "start_time": "2024-12-03T19:39:28.161Z"
   },
   {
    "duration": 41,
    "start_time": "2024-12-03T19:39:28.196Z"
   },
   {
    "duration": 9,
    "start_time": "2024-12-03T19:39:28.239Z"
   },
   {
    "duration": 15762,
    "start_time": "2024-12-03T19:39:28.250Z"
   },
   {
    "duration": 6958,
    "start_time": "2024-12-03T19:39:44.023Z"
   },
   {
    "duration": 261,
    "start_time": "2024-12-03T19:39:50.983Z"
   },
   {
    "duration": 14,
    "start_time": "2024-12-03T19:39:51.246Z"
   },
   {
    "duration": 4,
    "start_time": "2024-12-03T19:39:51.264Z"
   },
   {
    "duration": 5,
    "start_time": "2024-12-03T19:39:51.270Z"
   },
   {
    "duration": 4,
    "start_time": "2024-12-03T19:39:51.277Z"
   },
   {
    "duration": 92,
    "start_time": "2024-12-03T19:39:51.284Z"
   },
   {
    "duration": 19,
    "start_time": "2024-12-03T19:39:51.378Z"
   },
   {
    "duration": 29,
    "start_time": "2024-12-03T19:39:51.398Z"
   },
   {
    "duration": 9,
    "start_time": "2024-12-03T19:39:51.430Z"
   },
   {
    "duration": 138,
    "start_time": "2024-12-03T19:39:51.440Z"
   },
   {
    "duration": 3239,
    "start_time": "2024-12-03T19:40:46.888Z"
   },
   {
    "duration": 21,
    "start_time": "2024-12-03T19:42:14.294Z"
   },
   {
    "duration": 38,
    "start_time": "2024-12-03T19:43:53.797Z"
   },
   {
    "duration": 249,
    "start_time": "2024-12-03T19:44:35.603Z"
   },
   {
    "duration": 13,
    "start_time": "2024-12-03T20:05:28.766Z"
   },
   {
    "duration": 5,
    "start_time": "2024-12-03T20:05:30.466Z"
   },
   {
    "duration": 16,
    "start_time": "2024-12-03T20:07:37.207Z"
   },
   {
    "duration": 4,
    "start_time": "2024-12-03T20:07:44.513Z"
   },
   {
    "duration": 23,
    "start_time": "2024-12-03T20:07:44.518Z"
   },
   {
    "duration": 11,
    "start_time": "2024-12-03T20:07:44.543Z"
   },
   {
    "duration": 11,
    "start_time": "2024-12-03T20:07:44.555Z"
   },
   {
    "duration": 6,
    "start_time": "2024-12-03T20:07:44.569Z"
   },
   {
    "duration": 10,
    "start_time": "2024-12-03T20:07:44.577Z"
   },
   {
    "duration": 40,
    "start_time": "2024-12-03T20:07:44.589Z"
   },
   {
    "duration": 16,
    "start_time": "2024-12-03T20:07:44.631Z"
   },
   {
    "duration": 5,
    "start_time": "2024-12-03T20:07:44.648Z"
   },
   {
    "duration": 7,
    "start_time": "2024-12-03T20:07:44.655Z"
   },
   {
    "duration": 9,
    "start_time": "2024-12-03T20:07:44.664Z"
   },
   {
    "duration": 49,
    "start_time": "2024-12-03T20:07:44.675Z"
   },
   {
    "duration": 19,
    "start_time": "2024-12-03T20:07:44.726Z"
   },
   {
    "duration": 3,
    "start_time": "2024-12-03T20:07:44.747Z"
   },
   {
    "duration": 173,
    "start_time": "2024-12-03T20:07:44.753Z"
   },
   {
    "duration": 155,
    "start_time": "2024-12-03T20:07:44.928Z"
   },
   {
    "duration": 3601,
    "start_time": "2024-12-03T20:07:45.085Z"
   },
   {
    "duration": 149,
    "start_time": "2024-12-03T20:07:48.688Z"
   },
   {
    "duration": 6,
    "start_time": "2024-12-03T20:07:48.838Z"
   },
   {
    "duration": 5,
    "start_time": "2024-12-03T20:07:48.846Z"
   },
   {
    "duration": 140,
    "start_time": "2024-12-03T20:07:48.852Z"
   },
   {
    "duration": 31,
    "start_time": "2024-12-03T20:07:48.994Z"
   },
   {
    "duration": 25,
    "start_time": "2024-12-03T20:07:49.027Z"
   },
   {
    "duration": 8,
    "start_time": "2024-12-03T20:07:49.053Z"
   },
   {
    "duration": 15728,
    "start_time": "2024-12-03T20:07:49.125Z"
   },
   {
    "duration": 6990,
    "start_time": "2024-12-03T20:08:04.855Z"
   },
   {
    "duration": 255,
    "start_time": "2024-12-03T20:08:11.847Z"
   },
   {
    "duration": 21,
    "start_time": "2024-12-03T20:08:12.104Z"
   },
   {
    "duration": 4,
    "start_time": "2024-12-03T20:08:12.130Z"
   },
   {
    "duration": 5,
    "start_time": "2024-12-03T20:08:12.135Z"
   },
   {
    "duration": 5,
    "start_time": "2024-12-03T20:08:12.142Z"
   },
   {
    "duration": 87,
    "start_time": "2024-12-03T20:08:12.149Z"
   },
   {
    "duration": 17,
    "start_time": "2024-12-03T20:08:12.238Z"
   },
   {
    "duration": 18,
    "start_time": "2024-12-03T20:08:12.257Z"
   },
   {
    "duration": 54,
    "start_time": "2024-12-03T20:08:12.277Z"
   },
   {
    "duration": 3281,
    "start_time": "2024-12-03T20:08:12.335Z"
   },
   {
    "duration": 248,
    "start_time": "2024-12-03T20:08:15.618Z"
   },
   {
    "duration": 13,
    "start_time": "2024-12-03T20:08:15.868Z"
   },
   {
    "duration": 4,
    "start_time": "2024-12-03T20:08:15.883Z"
   },
   {
    "duration": 37,
    "start_time": "2024-12-03T20:08:15.888Z"
   },
   {
    "duration": 0,
    "start_time": "2024-12-03T20:08:15.927Z"
   },
   {
    "duration": 68,
    "start_time": "2024-12-03T20:08:54.318Z"
   },
   {
    "duration": 15,
    "start_time": "2024-12-03T20:09:18.506Z"
   },
   {
    "duration": 6,
    "start_time": "2024-12-03T20:11:07.153Z"
   },
   {
    "duration": 177,
    "start_time": "2024-12-03T20:13:55.755Z"
   },
   {
    "duration": 39,
    "start_time": "2024-12-03T20:14:04.790Z"
   },
   {
    "duration": 150,
    "start_time": "2024-12-03T20:15:29.227Z"
   },
   {
    "duration": 28,
    "start_time": "2024-12-03T20:15:43.590Z"
   },
   {
    "duration": 18,
    "start_time": "2024-12-03T20:15:57.649Z"
   },
   {
    "duration": 11084,
    "start_time": "2024-12-03T20:16:44.562Z"
   },
   {
    "duration": 337,
    "start_time": "2024-12-03T20:17:51.067Z"
   },
   {
    "duration": 269,
    "start_time": "2024-12-03T20:18:57.689Z"
   },
   {
    "duration": 1051,
    "start_time": "2024-12-04T02:12:43.927Z"
   },
   {
    "duration": 26,
    "start_time": "2024-12-04T02:12:44.980Z"
   },
   {
    "duration": 9,
    "start_time": "2024-12-04T02:12:45.008Z"
   },
   {
    "duration": 12,
    "start_time": "2024-12-04T02:12:45.020Z"
   },
   {
    "duration": 6,
    "start_time": "2024-12-04T02:12:45.033Z"
   },
   {
    "duration": 9,
    "start_time": "2024-12-04T02:12:45.040Z"
   },
   {
    "duration": 11,
    "start_time": "2024-12-04T02:12:45.051Z"
   },
   {
    "duration": 17,
    "start_time": "2024-12-04T02:12:45.064Z"
   },
   {
    "duration": 4,
    "start_time": "2024-12-04T02:12:45.083Z"
   },
   {
    "duration": 42,
    "start_time": "2024-12-04T02:12:45.090Z"
   },
   {
    "duration": 9,
    "start_time": "2024-12-04T02:12:45.134Z"
   },
   {
    "duration": 8,
    "start_time": "2024-12-04T02:12:45.145Z"
   },
   {
    "duration": 19,
    "start_time": "2024-12-04T02:12:45.155Z"
   },
   {
    "duration": 6,
    "start_time": "2024-12-04T02:12:45.176Z"
   },
   {
    "duration": 178,
    "start_time": "2024-12-04T02:12:45.183Z"
   },
   {
    "duration": 130,
    "start_time": "2024-12-04T02:12:45.363Z"
   },
   {
    "duration": 3952,
    "start_time": "2024-12-04T02:12:45.496Z"
   },
   {
    "duration": 156,
    "start_time": "2024-12-04T02:12:49.450Z"
   },
   {
    "duration": 6,
    "start_time": "2024-12-04T02:12:49.608Z"
   },
   {
    "duration": 5,
    "start_time": "2024-12-04T02:12:49.615Z"
   },
   {
    "duration": 142,
    "start_time": "2024-12-04T02:12:49.621Z"
   },
   {
    "duration": 33,
    "start_time": "2024-12-04T02:12:49.767Z"
   },
   {
    "duration": 35,
    "start_time": "2024-12-04T02:12:49.802Z"
   },
   {
    "duration": 9,
    "start_time": "2024-12-04T02:12:49.839Z"
   },
   {
    "duration": 16073,
    "start_time": "2024-12-04T02:12:49.850Z"
   },
   {
    "duration": 6957,
    "start_time": "2024-12-04T02:13:05.925Z"
   },
   {
    "duration": 253,
    "start_time": "2024-12-04T02:13:12.884Z"
   },
   {
    "duration": 14,
    "start_time": "2024-12-04T02:13:13.143Z"
   },
   {
    "duration": 4,
    "start_time": "2024-12-04T02:13:13.159Z"
   },
   {
    "duration": 6,
    "start_time": "2024-12-04T02:13:13.165Z"
   },
   {
    "duration": 6,
    "start_time": "2024-12-04T02:13:13.173Z"
   },
   {
    "duration": 101,
    "start_time": "2024-12-04T02:13:13.181Z"
   },
   {
    "duration": 17,
    "start_time": "2024-12-04T02:13:13.284Z"
   },
   {
    "duration": 29,
    "start_time": "2024-12-04T02:13:13.302Z"
   },
   {
    "duration": 8,
    "start_time": "2024-12-04T02:13:13.333Z"
   },
   {
    "duration": 3253,
    "start_time": "2024-12-04T02:13:13.343Z"
   },
   {
    "duration": 248,
    "start_time": "2024-12-04T02:13:16.598Z"
   },
   {
    "duration": 13,
    "start_time": "2024-12-04T02:13:16.848Z"
   },
   {
    "duration": 4,
    "start_time": "2024-12-04T02:13:16.863Z"
   },
   {
    "duration": 6,
    "start_time": "2024-12-04T02:13:16.869Z"
   },
   {
    "duration": 197,
    "start_time": "2024-12-04T02:13:16.877Z"
   },
   {
    "duration": 38,
    "start_time": "2024-12-04T02:13:17.077Z"
   },
   {
    "duration": 43,
    "start_time": "2024-12-04T02:13:17.117Z"
   },
   {
    "duration": 76,
    "start_time": "2024-12-04T02:13:17.162Z"
   },
   {
    "duration": 11149,
    "start_time": "2024-12-04T02:13:17.240Z"
   },
   {
    "duration": 346,
    "start_time": "2024-12-04T02:13:28.391Z"
   },
   {
    "duration": 273,
    "start_time": "2024-12-04T02:13:28.739Z"
   },
   {
    "duration": 2689,
    "start_time": "2024-12-04T15:09:06.289Z"
   },
   {
    "duration": 26,
    "start_time": "2024-12-04T15:09:08.980Z"
   },
   {
    "duration": 10,
    "start_time": "2024-12-04T15:09:09.007Z"
   },
   {
    "duration": 11,
    "start_time": "2024-12-04T15:09:09.019Z"
   },
   {
    "duration": 5,
    "start_time": "2024-12-04T15:09:09.033Z"
   },
   {
    "duration": 9,
    "start_time": "2024-12-04T15:09:09.041Z"
   },
   {
    "duration": 12,
    "start_time": "2024-12-04T15:09:09.051Z"
   },
   {
    "duration": 44,
    "start_time": "2024-12-04T15:09:09.064Z"
   },
   {
    "duration": 5,
    "start_time": "2024-12-04T15:09:09.109Z"
   },
   {
    "duration": 9,
    "start_time": "2024-12-04T15:09:13.487Z"
   },
   {
    "duration": 8,
    "start_time": "2024-12-04T15:09:57.169Z"
   },
   {
    "duration": 2849,
    "start_time": "2024-12-04T20:26:45.782Z"
   },
   {
    "duration": 28,
    "start_time": "2024-12-04T20:26:48.633Z"
   },
   {
    "duration": 11,
    "start_time": "2024-12-04T20:26:48.663Z"
   },
   {
    "duration": 12,
    "start_time": "2024-12-04T20:26:48.676Z"
   },
   {
    "duration": 6,
    "start_time": "2024-12-04T20:26:48.689Z"
   },
   {
    "duration": 10,
    "start_time": "2024-12-04T20:26:48.696Z"
   },
   {
    "duration": 32,
    "start_time": "2024-12-04T20:26:48.707Z"
   },
   {
    "duration": 16,
    "start_time": "2024-12-04T20:26:48.741Z"
   },
   {
    "duration": 8,
    "start_time": "2024-12-04T20:26:48.760Z"
   },
   {
    "duration": 9,
    "start_time": "2024-12-04T20:26:48.772Z"
   },
   {
    "duration": 10,
    "start_time": "2024-12-04T20:26:48.783Z"
   },
   {
    "duration": 48,
    "start_time": "2024-12-04T20:26:48.794Z"
   },
   {
    "duration": 3,
    "start_time": "2024-12-04T20:26:48.844Z"
   },
   {
    "duration": 163,
    "start_time": "2024-12-04T20:26:48.849Z"
   },
   {
    "duration": 183,
    "start_time": "2024-12-04T20:26:49.013Z"
   },
   {
    "duration": 3600,
    "start_time": "2024-12-04T20:26:49.198Z"
   },
   {
    "duration": 147,
    "start_time": "2024-12-04T20:26:52.800Z"
   },
   {
    "duration": 6,
    "start_time": "2024-12-04T20:26:52.949Z"
   },
   {
    "duration": 5,
    "start_time": "2024-12-04T20:26:52.956Z"
   },
   {
    "duration": 174,
    "start_time": "2024-12-04T20:26:52.963Z"
   },
   {
    "duration": 0,
    "start_time": "2024-12-04T20:26:53.140Z"
   },
   {
    "duration": 0,
    "start_time": "2024-12-04T20:26:53.141Z"
   },
   {
    "duration": 0,
    "start_time": "2024-12-04T20:26:53.143Z"
   },
   {
    "duration": 0,
    "start_time": "2024-12-04T20:26:53.144Z"
   },
   {
    "duration": 0,
    "start_time": "2024-12-04T20:26:53.146Z"
   },
   {
    "duration": 0,
    "start_time": "2024-12-04T20:26:53.147Z"
   },
   {
    "duration": 0,
    "start_time": "2024-12-04T20:26:53.148Z"
   },
   {
    "duration": 0,
    "start_time": "2024-12-04T20:26:53.150Z"
   },
   {
    "duration": 0,
    "start_time": "2024-12-04T20:26:53.152Z"
   },
   {
    "duration": 0,
    "start_time": "2024-12-04T20:26:53.153Z"
   },
   {
    "duration": 0,
    "start_time": "2024-12-04T20:26:53.154Z"
   },
   {
    "duration": 0,
    "start_time": "2024-12-04T20:26:53.156Z"
   },
   {
    "duration": 0,
    "start_time": "2024-12-04T20:26:53.157Z"
   },
   {
    "duration": 0,
    "start_time": "2024-12-04T20:26:53.159Z"
   },
   {
    "duration": 0,
    "start_time": "2024-12-04T20:26:53.161Z"
   },
   {
    "duration": 0,
    "start_time": "2024-12-04T20:26:53.162Z"
   },
   {
    "duration": 1,
    "start_time": "2024-12-04T20:26:53.163Z"
   },
   {
    "duration": 0,
    "start_time": "2024-12-04T20:26:53.165Z"
   },
   {
    "duration": 0,
    "start_time": "2024-12-04T20:26:53.166Z"
   },
   {
    "duration": 0,
    "start_time": "2024-12-04T20:26:53.167Z"
   },
   {
    "duration": 0,
    "start_time": "2024-12-04T20:26:53.169Z"
   },
   {
    "duration": 0,
    "start_time": "2024-12-04T20:26:53.171Z"
   },
   {
    "duration": 0,
    "start_time": "2024-12-04T20:26:53.172Z"
   },
   {
    "duration": 0,
    "start_time": "2024-12-04T20:26:53.173Z"
   },
   {
    "duration": 0,
    "start_time": "2024-12-04T20:26:53.175Z"
   },
   {
    "duration": 0,
    "start_time": "2024-12-04T20:26:53.176Z"
   },
   {
    "duration": 158,
    "start_time": "2024-12-04T20:30:39.403Z"
   },
   {
    "duration": 152,
    "start_time": "2024-12-04T20:33:21.246Z"
   },
   {
    "duration": 3,
    "start_time": "2024-12-04T20:40:03.138Z"
   },
   {
    "duration": 17,
    "start_time": "2024-12-04T20:40:03.144Z"
   },
   {
    "duration": 10,
    "start_time": "2024-12-04T20:40:03.162Z"
   },
   {
    "duration": 10,
    "start_time": "2024-12-04T20:40:03.175Z"
   },
   {
    "duration": 6,
    "start_time": "2024-12-04T20:40:03.187Z"
   },
   {
    "duration": 39,
    "start_time": "2024-12-04T20:40:03.195Z"
   },
   {
    "duration": 12,
    "start_time": "2024-12-04T20:40:03.236Z"
   },
   {
    "duration": 16,
    "start_time": "2024-12-04T20:40:03.249Z"
   },
   {
    "duration": 7,
    "start_time": "2024-12-04T20:40:03.269Z"
   },
   {
    "duration": 9,
    "start_time": "2024-12-04T20:40:03.278Z"
   },
   {
    "duration": 10,
    "start_time": "2024-12-04T20:40:03.289Z"
   },
   {
    "duration": 18,
    "start_time": "2024-12-04T20:40:03.332Z"
   },
   {
    "duration": 7,
    "start_time": "2024-12-04T20:40:03.352Z"
   },
   {
    "duration": 191,
    "start_time": "2024-12-04T20:40:03.361Z"
   },
   {
    "duration": 153,
    "start_time": "2024-12-04T20:40:03.554Z"
   },
   {
    "duration": 3664,
    "start_time": "2024-12-04T20:40:03.709Z"
   },
   {
    "duration": 150,
    "start_time": "2024-12-04T20:40:07.374Z"
   },
   {
    "duration": 167,
    "start_time": "2024-12-04T20:40:07.526Z"
   },
   {
    "duration": 16,
    "start_time": "2024-12-04T20:40:15.736Z"
   },
   {
    "duration": 89,
    "start_time": "2024-12-04T20:41:15.206Z"
   },
   {
    "duration": 4,
    "start_time": "2024-12-04T20:44:09.043Z"
   },
   {
    "duration": 15,
    "start_time": "2024-12-04T20:44:09.050Z"
   },
   {
    "duration": 10,
    "start_time": "2024-12-04T20:44:09.068Z"
   },
   {
    "duration": 10,
    "start_time": "2024-12-04T20:44:09.080Z"
   },
   {
    "duration": 6,
    "start_time": "2024-12-04T20:44:09.093Z"
   },
   {
    "duration": 31,
    "start_time": "2024-12-04T20:44:09.101Z"
   },
   {
    "duration": 11,
    "start_time": "2024-12-04T20:44:09.134Z"
   },
   {
    "duration": 16,
    "start_time": "2024-12-04T20:44:09.148Z"
   },
   {
    "duration": 8,
    "start_time": "2024-12-04T20:44:09.166Z"
   },
   {
    "duration": 11,
    "start_time": "2024-12-04T20:44:09.177Z"
   },
   {
    "duration": 47,
    "start_time": "2024-12-04T20:44:09.190Z"
   },
   {
    "duration": 19,
    "start_time": "2024-12-04T20:44:09.238Z"
   },
   {
    "duration": 4,
    "start_time": "2024-12-04T20:44:09.259Z"
   },
   {
    "duration": 175,
    "start_time": "2024-12-04T20:44:09.264Z"
   },
   {
    "duration": 160,
    "start_time": "2024-12-04T20:44:09.440Z"
   },
   {
    "duration": 3877,
    "start_time": "2024-12-04T20:44:09.601Z"
   },
   {
    "duration": 155,
    "start_time": "2024-12-04T20:44:13.481Z"
   },
   {
    "duration": 173,
    "start_time": "2024-12-04T20:44:13.638Z"
   },
   {
    "duration": 8,
    "start_time": "2024-12-04T20:44:13.814Z"
   },
   {
    "duration": 6,
    "start_time": "2024-12-04T20:44:16.270Z"
   },
   {
    "duration": 29,
    "start_time": "2024-12-04T20:44:18.287Z"
   },
   {
    "duration": 30,
    "start_time": "2024-12-04T20:44:44.145Z"
   },
   {
    "duration": 29,
    "start_time": "2024-12-04T20:44:57.329Z"
   },
   {
    "duration": 30,
    "start_time": "2024-12-04T20:46:59.124Z"
   },
   {
    "duration": 15,
    "start_time": "2024-12-04T20:49:09.658Z"
   },
   {
    "duration": 16,
    "start_time": "2024-12-04T20:49:24.536Z"
   },
   {
    "duration": 4,
    "start_time": "2024-12-04T20:49:28.813Z"
   },
   {
    "duration": 6,
    "start_time": "2024-12-04T20:49:29.721Z"
   },
   {
    "duration": 6,
    "start_time": "2024-12-04T20:49:34.437Z"
   },
   {
    "duration": 30,
    "start_time": "2024-12-04T20:49:39.161Z"
   },
   {
    "duration": 29,
    "start_time": "2024-12-04T20:49:54.494Z"
   },
   {
    "duration": 31,
    "start_time": "2024-12-04T20:50:10.892Z"
   },
   {
    "duration": 56,
    "start_time": "2024-12-04T20:50:20.967Z"
   },
   {
    "duration": 2744,
    "start_time": "2024-12-04T23:03:37.194Z"
   },
   {
    "duration": 27,
    "start_time": "2024-12-04T23:03:39.941Z"
   },
   {
    "duration": 10,
    "start_time": "2024-12-04T23:03:39.970Z"
   },
   {
    "duration": 14,
    "start_time": "2024-12-04T23:03:39.981Z"
   },
   {
    "duration": 7,
    "start_time": "2024-12-04T23:03:39.998Z"
   },
   {
    "duration": 12,
    "start_time": "2024-12-04T23:03:40.007Z"
   },
   {
    "duration": 14,
    "start_time": "2024-12-04T23:03:40.021Z"
   },
   {
    "duration": 49,
    "start_time": "2024-12-04T23:03:40.037Z"
   },
   {
    "duration": 9,
    "start_time": "2024-12-04T23:03:40.088Z"
   },
   {
    "duration": 9,
    "start_time": "2024-12-04T23:03:40.099Z"
   },
   {
    "duration": 10,
    "start_time": "2024-12-04T23:03:40.110Z"
   },
   {
    "duration": 17,
    "start_time": "2024-12-04T23:03:40.122Z"
   },
   {
    "duration": 3,
    "start_time": "2024-12-04T23:03:40.141Z"
   },
   {
    "duration": 182,
    "start_time": "2024-12-04T23:03:40.148Z"
   },
   {
    "duration": 193,
    "start_time": "2024-12-04T23:03:40.332Z"
   },
   {
    "duration": 3794,
    "start_time": "2024-12-04T23:03:40.527Z"
   },
   {
    "duration": 186,
    "start_time": "2024-12-04T23:03:44.323Z"
   },
   {
    "duration": 173,
    "start_time": "2024-12-04T23:03:44.511Z"
   },
   {
    "duration": 231,
    "start_time": "2024-12-04T23:04:19.191Z"
   },
   {
    "duration": 4,
    "start_time": "2024-12-04T23:04:28.635Z"
   },
   {
    "duration": 16,
    "start_time": "2024-12-04T23:04:28.644Z"
   },
   {
    "duration": 11,
    "start_time": "2024-12-04T23:04:28.662Z"
   },
   {
    "duration": 10,
    "start_time": "2024-12-04T23:04:28.675Z"
   },
   {
    "duration": 6,
    "start_time": "2024-12-04T23:04:28.687Z"
   },
   {
    "duration": 10,
    "start_time": "2024-12-04T23:04:28.695Z"
   },
   {
    "duration": 10,
    "start_time": "2024-12-04T23:04:28.707Z"
   },
   {
    "duration": 16,
    "start_time": "2024-12-04T23:04:28.719Z"
   },
   {
    "duration": 8,
    "start_time": "2024-12-04T23:04:28.736Z"
   },
   {
    "duration": 49,
    "start_time": "2024-12-04T23:04:28.745Z"
   },
   {
    "duration": 9,
    "start_time": "2024-12-04T23:04:28.796Z"
   },
   {
    "duration": 19,
    "start_time": "2024-12-04T23:04:28.807Z"
   },
   {
    "duration": 3,
    "start_time": "2024-12-04T23:04:28.827Z"
   },
   {
    "duration": 175,
    "start_time": "2024-12-04T23:04:28.832Z"
   },
   {
    "duration": 170,
    "start_time": "2024-12-04T23:04:29.009Z"
   },
   {
    "duration": 3675,
    "start_time": "2024-12-04T23:04:29.187Z"
   },
   {
    "duration": 233,
    "start_time": "2024-12-04T23:04:32.863Z"
   },
   {
    "duration": 186,
    "start_time": "2024-12-04T23:04:33.098Z"
   },
   {
    "duration": 8,
    "start_time": "2024-12-04T23:04:33.287Z"
   },
   {
    "duration": 6,
    "start_time": "2024-12-04T23:04:40.480Z"
   },
   {
    "duration": 32,
    "start_time": "2024-12-04T23:04:44.941Z"
   },
   {
    "duration": 29,
    "start_time": "2024-12-04T23:05:42.322Z"
   },
   {
    "duration": 1008,
    "start_time": "2024-12-04T23:12:45.691Z"
   },
   {
    "duration": 16,
    "start_time": "2024-12-04T23:12:46.701Z"
   },
   {
    "duration": 10,
    "start_time": "2024-12-04T23:12:46.718Z"
   },
   {
    "duration": 12,
    "start_time": "2024-12-04T23:12:46.730Z"
   },
   {
    "duration": 6,
    "start_time": "2024-12-04T23:12:46.744Z"
   },
   {
    "duration": 34,
    "start_time": "2024-12-04T23:12:46.751Z"
   },
   {
    "duration": 12,
    "start_time": "2024-12-04T23:12:46.787Z"
   },
   {
    "duration": 16,
    "start_time": "2024-12-04T23:12:46.800Z"
   },
   {
    "duration": 7,
    "start_time": "2024-12-04T23:12:46.818Z"
   },
   {
    "duration": 8,
    "start_time": "2024-12-04T23:12:46.828Z"
   },
   {
    "duration": 9,
    "start_time": "2024-12-04T23:12:46.838Z"
   },
   {
    "duration": 52,
    "start_time": "2024-12-04T23:12:46.848Z"
   },
   {
    "duration": 4,
    "start_time": "2024-12-04T23:12:46.902Z"
   },
   {
    "duration": 171,
    "start_time": "2024-12-04T23:12:46.908Z"
   },
   {
    "duration": 125,
    "start_time": "2024-12-04T23:12:47.086Z"
   },
   {
    "duration": 3626,
    "start_time": "2024-12-04T23:12:47.213Z"
   },
   {
    "duration": 147,
    "start_time": "2024-12-04T23:12:50.841Z"
   },
   {
    "duration": 163,
    "start_time": "2024-12-04T23:12:50.990Z"
   },
   {
    "duration": 993,
    "start_time": "2024-12-04T23:14:14.715Z"
   },
   {
    "duration": 15,
    "start_time": "2024-12-04T23:14:15.710Z"
   },
   {
    "duration": 9,
    "start_time": "2024-12-04T23:14:15.727Z"
   },
   {
    "duration": 12,
    "start_time": "2024-12-04T23:14:15.738Z"
   },
   {
    "duration": 6,
    "start_time": "2024-12-04T23:14:15.751Z"
   },
   {
    "duration": 34,
    "start_time": "2024-12-04T23:14:15.758Z"
   },
   {
    "duration": 11,
    "start_time": "2024-12-04T23:14:15.793Z"
   },
   {
    "duration": 16,
    "start_time": "2024-12-04T23:14:15.806Z"
   },
   {
    "duration": 8,
    "start_time": "2024-12-04T23:14:15.823Z"
   },
   {
    "duration": 9,
    "start_time": "2024-12-04T23:14:15.833Z"
   },
   {
    "duration": 9,
    "start_time": "2024-12-04T23:14:15.843Z"
   },
   {
    "duration": 48,
    "start_time": "2024-12-04T23:14:15.853Z"
   },
   {
    "duration": 4,
    "start_time": "2024-12-04T23:14:15.902Z"
   },
   {
    "duration": 161,
    "start_time": "2024-12-04T23:14:15.908Z"
   },
   {
    "duration": 131,
    "start_time": "2024-12-04T23:14:16.071Z"
   },
   {
    "duration": 3605,
    "start_time": "2024-12-04T23:14:16.204Z"
   },
   {
    "duration": 148,
    "start_time": "2024-12-04T23:14:19.813Z"
   },
   {
    "duration": 163,
    "start_time": "2024-12-04T23:14:19.963Z"
   },
   {
    "duration": 7,
    "start_time": "2024-12-04T23:14:20.128Z"
   },
   {
    "duration": 7,
    "start_time": "2024-12-04T23:14:20.136Z"
   },
   {
    "duration": 172,
    "start_time": "2024-12-04T23:14:20.144Z"
   },
   {
    "duration": 28,
    "start_time": "2024-12-04T23:17:00.422Z"
   },
   {
    "duration": 6,
    "start_time": "2024-12-04T23:21:00.614Z"
   },
   {
    "duration": 7,
    "start_time": "2024-12-04T23:21:03.047Z"
   },
   {
    "duration": 31,
    "start_time": "2024-12-04T23:23:23.351Z"
   },
   {
    "duration": 1054,
    "start_time": "2024-12-04T23:26:17.849Z"
   },
   {
    "duration": 16,
    "start_time": "2024-12-04T23:26:18.906Z"
   },
   {
    "duration": 11,
    "start_time": "2024-12-04T23:26:18.923Z"
   },
   {
    "duration": 12,
    "start_time": "2024-12-04T23:26:18.937Z"
   },
   {
    "duration": 6,
    "start_time": "2024-12-04T23:26:18.951Z"
   },
   {
    "duration": 36,
    "start_time": "2024-12-04T23:26:18.959Z"
   },
   {
    "duration": 12,
    "start_time": "2024-12-04T23:26:18.997Z"
   },
   {
    "duration": 17,
    "start_time": "2024-12-04T23:26:19.011Z"
   },
   {
    "duration": 8,
    "start_time": "2024-12-04T23:26:19.030Z"
   },
   {
    "duration": 9,
    "start_time": "2024-12-04T23:26:19.042Z"
   },
   {
    "duration": 44,
    "start_time": "2024-12-04T23:26:19.053Z"
   },
   {
    "duration": 21,
    "start_time": "2024-12-04T23:26:19.098Z"
   },
   {
    "duration": 4,
    "start_time": "2024-12-04T23:26:19.121Z"
   },
   {
    "duration": 174,
    "start_time": "2024-12-04T23:26:19.126Z"
   },
   {
    "duration": 141,
    "start_time": "2024-12-04T23:26:19.302Z"
   },
   {
    "duration": 3585,
    "start_time": "2024-12-04T23:26:19.445Z"
   },
   {
    "duration": 177,
    "start_time": "2024-12-04T23:26:23.033Z"
   },
   {
    "duration": 168,
    "start_time": "2024-12-04T23:26:23.212Z"
   },
   {
    "duration": 10,
    "start_time": "2024-12-04T23:26:23.382Z"
   },
   {
    "duration": 1042,
    "start_time": "2024-12-04T23:26:23.394Z"
   },
   {
    "duration": 9,
    "start_time": "2024-12-04T23:30:59.351Z"
   },
   {
    "duration": 3,
    "start_time": "2024-12-04T23:34:55.585Z"
   },
   {
    "duration": 17,
    "start_time": "2024-12-04T23:34:55.590Z"
   },
   {
    "duration": 10,
    "start_time": "2024-12-04T23:34:55.609Z"
   },
   {
    "duration": 10,
    "start_time": "2024-12-04T23:34:55.621Z"
   },
   {
    "duration": 6,
    "start_time": "2024-12-04T23:34:55.633Z"
   },
   {
    "duration": 10,
    "start_time": "2024-12-04T23:34:55.640Z"
   },
   {
    "duration": 43,
    "start_time": "2024-12-04T23:34:55.652Z"
   },
   {
    "duration": 16,
    "start_time": "2024-12-04T23:34:55.697Z"
   },
   {
    "duration": 8,
    "start_time": "2024-12-04T23:34:55.715Z"
   },
   {
    "duration": 9,
    "start_time": "2024-12-04T23:34:55.724Z"
   },
   {
    "duration": 8,
    "start_time": "2024-12-04T23:34:55.735Z"
   },
   {
    "duration": 19,
    "start_time": "2024-12-04T23:34:56.584Z"
   },
   {
    "duration": 4,
    "start_time": "2024-12-04T23:34:56.605Z"
   },
   {
    "duration": 153,
    "start_time": "2024-12-04T23:34:56.611Z"
   },
   {
    "duration": 152,
    "start_time": "2024-12-04T23:34:56.765Z"
   },
   {
    "duration": 3626,
    "start_time": "2024-12-04T23:34:56.920Z"
   },
   {
    "duration": 144,
    "start_time": "2024-12-04T23:35:00.548Z"
   },
   {
    "duration": 166,
    "start_time": "2024-12-04T23:35:00.694Z"
   },
   {
    "duration": 7,
    "start_time": "2024-12-04T23:35:00.862Z"
   },
   {
    "duration": 6,
    "start_time": "2024-12-04T23:35:00.870Z"
   },
   {
    "duration": 33,
    "start_time": "2024-12-04T23:35:15.255Z"
   },
   {
    "duration": 29,
    "start_time": "2024-12-04T23:37:59.876Z"
   },
   {
    "duration": 28,
    "start_time": "2024-12-04T23:39:49.472Z"
   },
   {
    "duration": 45,
    "start_time": "2024-12-04T23:49:33.664Z"
   },
   {
    "duration": 38,
    "start_time": "2024-12-04T23:49:40.591Z"
   },
   {
    "duration": 14,
    "start_time": "2024-12-04T23:52:07.917Z"
   },
   {
    "duration": 69,
    "start_time": "2024-12-04T23:57:08.447Z"
   },
   {
    "duration": 1155,
    "start_time": "2024-12-04T23:57:28.870Z"
   },
   {
    "duration": 16,
    "start_time": "2024-12-04T23:57:30.026Z"
   },
   {
    "duration": 10,
    "start_time": "2024-12-04T23:57:30.044Z"
   },
   {
    "duration": 12,
    "start_time": "2024-12-04T23:57:30.056Z"
   },
   {
    "duration": 39,
    "start_time": "2024-12-04T23:57:30.069Z"
   },
   {
    "duration": 11,
    "start_time": "2024-12-04T23:57:30.112Z"
   },
   {
    "duration": 12,
    "start_time": "2024-12-04T23:57:30.124Z"
   },
   {
    "duration": 16,
    "start_time": "2024-12-04T23:57:30.138Z"
   },
   {
    "duration": 9,
    "start_time": "2024-12-04T23:57:30.156Z"
   },
   {
    "duration": 27,
    "start_time": "2024-12-04T23:57:30.169Z"
   },
   {
    "duration": 19,
    "start_time": "2024-12-04T23:57:30.200Z"
   },
   {
    "duration": 943,
    "start_time": "2024-12-04T23:57:35.408Z"
   },
   {
    "duration": 559,
    "start_time": "2024-12-04T23:58:53.088Z"
   },
   {
    "duration": 1129,
    "start_time": "2024-12-04T23:59:17.432Z"
   },
   {
    "duration": 22,
    "start_time": "2024-12-04T23:59:18.565Z"
   },
   {
    "duration": 13,
    "start_time": "2024-12-04T23:59:18.589Z"
   },
   {
    "duration": 16,
    "start_time": "2024-12-04T23:59:18.604Z"
   },
   {
    "duration": 7,
    "start_time": "2024-12-04T23:59:18.622Z"
   },
   {
    "duration": 13,
    "start_time": "2024-12-04T23:59:18.630Z"
   },
   {
    "duration": 43,
    "start_time": "2024-12-04T23:59:18.645Z"
   },
   {
    "duration": 16,
    "start_time": "2024-12-04T23:59:18.690Z"
   },
   {
    "duration": 12,
    "start_time": "2024-12-04T23:59:18.708Z"
   },
   {
    "duration": 11,
    "start_time": "2024-12-04T23:59:18.723Z"
   },
   {
    "duration": 10,
    "start_time": "2024-12-04T23:59:18.736Z"
   },
   {
    "duration": 894,
    "start_time": "2024-12-04T23:59:18.748Z"
   },
   {
    "duration": 1077,
    "start_time": "2024-12-05T00:02:44.751Z"
   },
   {
    "duration": 15,
    "start_time": "2024-12-05T00:02:45.831Z"
   },
   {
    "duration": 12,
    "start_time": "2024-12-05T00:02:45.848Z"
   },
   {
    "duration": 22,
    "start_time": "2024-12-05T00:02:45.869Z"
   },
   {
    "duration": 7,
    "start_time": "2024-12-05T00:02:45.894Z"
   },
   {
    "duration": 9,
    "start_time": "2024-12-05T00:02:45.904Z"
   },
   {
    "duration": 15,
    "start_time": "2024-12-05T00:02:45.916Z"
   },
   {
    "duration": 18,
    "start_time": "2024-12-05T00:02:45.933Z"
   },
   {
    "duration": 853,
    "start_time": "2024-12-05T00:02:45.953Z"
   },
   {
    "duration": 0,
    "start_time": "2024-12-05T00:02:46.808Z"
   },
   {
    "duration": 0,
    "start_time": "2024-12-05T00:02:46.809Z"
   },
   {
    "duration": 100,
    "start_time": "2024-12-05T00:02:59.959Z"
   },
   {
    "duration": 1060,
    "start_time": "2024-12-05T00:05:07.849Z"
   },
   {
    "duration": 16,
    "start_time": "2024-12-05T00:05:08.916Z"
   },
   {
    "duration": 10,
    "start_time": "2024-12-05T00:05:08.934Z"
   },
   {
    "duration": 13,
    "start_time": "2024-12-05T00:05:08.946Z"
   },
   {
    "duration": 7,
    "start_time": "2024-12-05T00:05:08.961Z"
   },
   {
    "duration": 29,
    "start_time": "2024-12-05T00:05:08.969Z"
   },
   {
    "duration": 18,
    "start_time": "2024-12-05T00:05:09.011Z"
   },
   {
    "duration": 19,
    "start_time": "2024-12-05T00:05:09.030Z"
   },
   {
    "duration": 888,
    "start_time": "2024-12-05T00:05:09.051Z"
   },
   {
    "duration": 0,
    "start_time": "2024-12-05T00:05:09.942Z"
   },
   {
    "duration": 0,
    "start_time": "2024-12-05T00:05:09.943Z"
   },
   {
    "duration": 0,
    "start_time": "2024-12-05T00:05:09.945Z"
   },
   {
    "duration": 0,
    "start_time": "2024-12-05T00:05:09.946Z"
   },
   {
    "duration": 0,
    "start_time": "2024-12-05T00:05:09.947Z"
   },
   {
    "duration": 0,
    "start_time": "2024-12-05T00:05:09.948Z"
   },
   {
    "duration": 0,
    "start_time": "2024-12-05T00:05:09.949Z"
   },
   {
    "duration": 0,
    "start_time": "2024-12-05T00:05:09.952Z"
   },
   {
    "duration": 0,
    "start_time": "2024-12-05T00:05:09.953Z"
   },
   {
    "duration": 0,
    "start_time": "2024-12-05T00:05:09.956Z"
   },
   {
    "duration": 0,
    "start_time": "2024-12-05T00:05:09.957Z"
   },
   {
    "duration": 0,
    "start_time": "2024-12-05T00:05:09.958Z"
   },
   {
    "duration": 0,
    "start_time": "2024-12-05T00:05:09.959Z"
   },
   {
    "duration": 0,
    "start_time": "2024-12-05T00:05:09.961Z"
   },
   {
    "duration": 0,
    "start_time": "2024-12-05T00:05:10.003Z"
   },
   {
    "duration": 0,
    "start_time": "2024-12-05T00:05:10.004Z"
   },
   {
    "duration": 0,
    "start_time": "2024-12-05T00:05:10.005Z"
   },
   {
    "duration": 0,
    "start_time": "2024-12-05T00:05:10.006Z"
   },
   {
    "duration": 0,
    "start_time": "2024-12-05T00:05:10.006Z"
   },
   {
    "duration": 0,
    "start_time": "2024-12-05T00:05:10.007Z"
   },
   {
    "duration": 0,
    "start_time": "2024-12-05T00:05:10.008Z"
   },
   {
    "duration": 0,
    "start_time": "2024-12-05T00:05:10.008Z"
   },
   {
    "duration": 0,
    "start_time": "2024-12-05T00:05:10.009Z"
   },
   {
    "duration": 0,
    "start_time": "2024-12-05T00:05:10.010Z"
   },
   {
    "duration": 0,
    "start_time": "2024-12-05T00:05:10.010Z"
   },
   {
    "duration": 0,
    "start_time": "2024-12-05T00:05:10.011Z"
   },
   {
    "duration": 0,
    "start_time": "2024-12-05T00:05:10.012Z"
   },
   {
    "duration": 0,
    "start_time": "2024-12-05T00:05:10.012Z"
   },
   {
    "duration": 0,
    "start_time": "2024-12-05T00:05:10.013Z"
   },
   {
    "duration": 0,
    "start_time": "2024-12-05T00:05:10.015Z"
   },
   {
    "duration": 0,
    "start_time": "2024-12-05T00:05:10.017Z"
   },
   {
    "duration": 0,
    "start_time": "2024-12-05T00:05:10.018Z"
   },
   {
    "duration": 0,
    "start_time": "2024-12-05T00:05:10.020Z"
   },
   {
    "duration": 0,
    "start_time": "2024-12-05T00:05:10.020Z"
   },
   {
    "duration": 0,
    "start_time": "2024-12-05T00:05:10.021Z"
   },
   {
    "duration": 0,
    "start_time": "2024-12-05T00:05:10.022Z"
   },
   {
    "duration": 8,
    "start_time": "2024-12-05T00:06:04.261Z"
   },
   {
    "duration": 9,
    "start_time": "2024-12-05T00:07:12.011Z"
   },
   {
    "duration": 1142,
    "start_time": "2024-12-05T00:07:56.467Z"
   },
   {
    "duration": 16,
    "start_time": "2024-12-05T00:07:57.614Z"
   },
   {
    "duration": 10,
    "start_time": "2024-12-05T00:07:57.632Z"
   },
   {
    "duration": 11,
    "start_time": "2024-12-05T00:07:57.644Z"
   },
   {
    "duration": 7,
    "start_time": "2024-12-05T00:07:57.658Z"
   },
   {
    "duration": 31,
    "start_time": "2024-12-05T00:07:57.666Z"
   },
   {
    "duration": 13,
    "start_time": "2024-12-05T00:07:57.711Z"
   },
   {
    "duration": 17,
    "start_time": "2024-12-05T00:07:57.725Z"
   },
   {
    "duration": 10,
    "start_time": "2024-12-05T00:07:57.743Z"
   },
   {
    "duration": 10,
    "start_time": "2024-12-05T00:07:57.755Z"
   },
   {
    "duration": 43,
    "start_time": "2024-12-05T00:07:57.767Z"
   },
   {
    "duration": 20,
    "start_time": "2024-12-05T00:07:57.812Z"
   },
   {
    "duration": 4,
    "start_time": "2024-12-05T00:07:57.834Z"
   },
   {
    "duration": 174,
    "start_time": "2024-12-05T00:07:57.843Z"
   },
   {
    "duration": 150,
    "start_time": "2024-12-05T00:07:58.020Z"
   },
   {
    "duration": 4569,
    "start_time": "2024-12-05T00:07:58.172Z"
   },
   {
    "duration": 178,
    "start_time": "2024-12-05T00:08:02.743Z"
   },
   {
    "duration": 193,
    "start_time": "2024-12-05T00:08:02.923Z"
   },
   {
    "duration": 16,
    "start_time": "2024-12-05T00:08:03.119Z"
   },
   {
    "duration": 7,
    "start_time": "2024-12-05T00:08:03.137Z"
   },
   {
    "duration": 206,
    "start_time": "2024-12-05T00:08:03.147Z"
   },
   {
    "duration": 0,
    "start_time": "2024-12-05T00:08:03.356Z"
   },
   {
    "duration": 0,
    "start_time": "2024-12-05T00:08:03.358Z"
   },
   {
    "duration": 0,
    "start_time": "2024-12-05T00:08:03.359Z"
   },
   {
    "duration": 0,
    "start_time": "2024-12-05T00:08:03.360Z"
   },
   {
    "duration": 0,
    "start_time": "2024-12-05T00:08:03.362Z"
   },
   {
    "duration": 0,
    "start_time": "2024-12-05T00:08:03.363Z"
   },
   {
    "duration": 0,
    "start_time": "2024-12-05T00:08:03.364Z"
   },
   {
    "duration": 0,
    "start_time": "2024-12-05T00:08:03.366Z"
   },
   {
    "duration": 0,
    "start_time": "2024-12-05T00:08:03.367Z"
   },
   {
    "duration": 0,
    "start_time": "2024-12-05T00:08:03.368Z"
   },
   {
    "duration": 0,
    "start_time": "2024-12-05T00:08:03.369Z"
   },
   {
    "duration": 0,
    "start_time": "2024-12-05T00:08:03.369Z"
   },
   {
    "duration": 0,
    "start_time": "2024-12-05T00:08:03.395Z"
   },
   {
    "duration": 0,
    "start_time": "2024-12-05T00:08:03.396Z"
   },
   {
    "duration": 0,
    "start_time": "2024-12-05T00:08:03.397Z"
   },
   {
    "duration": 0,
    "start_time": "2024-12-05T00:08:03.399Z"
   },
   {
    "duration": 0,
    "start_time": "2024-12-05T00:08:03.400Z"
   },
   {
    "duration": 0,
    "start_time": "2024-12-05T00:08:03.401Z"
   },
   {
    "duration": 0,
    "start_time": "2024-12-05T00:08:03.411Z"
   },
   {
    "duration": 0,
    "start_time": "2024-12-05T00:08:03.412Z"
   },
   {
    "duration": 0,
    "start_time": "2024-12-05T00:08:03.413Z"
   },
   {
    "duration": 0,
    "start_time": "2024-12-05T00:08:03.414Z"
   },
   {
    "duration": 0,
    "start_time": "2024-12-05T00:08:03.415Z"
   },
   {
    "duration": 0,
    "start_time": "2024-12-05T00:08:03.420Z"
   },
   {
    "duration": 717,
    "start_time": "2024-12-05T00:09:48.270Z"
   },
   {
    "duration": 1053,
    "start_time": "2024-12-05T00:10:18.003Z"
   },
   {
    "duration": 15,
    "start_time": "2024-12-05T00:10:19.059Z"
   },
   {
    "duration": 11,
    "start_time": "2024-12-05T00:10:19.076Z"
   },
   {
    "duration": 12,
    "start_time": "2024-12-05T00:10:19.090Z"
   },
   {
    "duration": 7,
    "start_time": "2024-12-05T00:10:19.103Z"
   },
   {
    "duration": 9,
    "start_time": "2024-12-05T00:10:19.112Z"
   },
   {
    "duration": 12,
    "start_time": "2024-12-05T00:10:19.122Z"
   },
   {
    "duration": 53,
    "start_time": "2024-12-05T00:10:19.135Z"
   },
   {
    "duration": 9,
    "start_time": "2024-12-05T00:10:19.190Z"
   },
   {
    "duration": 1046,
    "start_time": "2024-12-05T00:11:24.873Z"
   },
   {
    "duration": 16,
    "start_time": "2024-12-05T00:11:25.921Z"
   },
   {
    "duration": 10,
    "start_time": "2024-12-05T00:11:25.938Z"
   },
   {
    "duration": 12,
    "start_time": "2024-12-05T00:11:25.950Z"
   },
   {
    "duration": 23,
    "start_time": "2024-12-05T00:11:25.964Z"
   },
   {
    "duration": 11,
    "start_time": "2024-12-05T00:11:25.989Z"
   },
   {
    "duration": 12,
    "start_time": "2024-12-05T00:11:26.002Z"
   },
   {
    "duration": 17,
    "start_time": "2024-12-05T00:11:26.016Z"
   },
   {
    "duration": 9,
    "start_time": "2024-12-05T00:11:26.034Z"
   },
   {
    "duration": 9,
    "start_time": "2024-12-05T00:11:26.045Z"
   },
   {
    "duration": 41,
    "start_time": "2024-12-05T00:11:26.055Z"
   },
   {
    "duration": 18,
    "start_time": "2024-12-05T00:11:26.097Z"
   },
   {
    "duration": 4,
    "start_time": "2024-12-05T00:11:26.117Z"
   },
   {
    "duration": 180,
    "start_time": "2024-12-05T00:11:26.125Z"
   },
   {
    "duration": 134,
    "start_time": "2024-12-05T00:11:26.308Z"
   },
   {
    "duration": 3969,
    "start_time": "2024-12-05T00:11:26.444Z"
   },
   {
    "duration": 183,
    "start_time": "2024-12-05T00:11:30.415Z"
   },
   {
    "duration": 168,
    "start_time": "2024-12-05T00:11:30.600Z"
   },
   {
    "duration": 21,
    "start_time": "2024-12-05T00:11:30.770Z"
   },
   {
    "duration": 5,
    "start_time": "2024-12-05T00:11:30.793Z"
   },
   {
    "duration": 30,
    "start_time": "2024-12-05T00:11:30.801Z"
   },
   {
    "duration": 407,
    "start_time": "2024-12-05T00:11:30.833Z"
   },
   {
    "duration": 0,
    "start_time": "2024-12-05T00:11:31.242Z"
   },
   {
    "duration": 0,
    "start_time": "2024-12-05T00:11:31.244Z"
   },
   {
    "duration": 0,
    "start_time": "2024-12-05T00:11:31.246Z"
   },
   {
    "duration": 0,
    "start_time": "2024-12-05T00:11:31.247Z"
   },
   {
    "duration": 0,
    "start_time": "2024-12-05T00:11:31.249Z"
   },
   {
    "duration": 0,
    "start_time": "2024-12-05T00:11:31.250Z"
   },
   {
    "duration": 0,
    "start_time": "2024-12-05T00:11:31.252Z"
   },
   {
    "duration": 0,
    "start_time": "2024-12-05T00:11:31.253Z"
   },
   {
    "duration": 0,
    "start_time": "2024-12-05T00:11:31.255Z"
   },
   {
    "duration": 0,
    "start_time": "2024-12-05T00:11:31.256Z"
   },
   {
    "duration": 0,
    "start_time": "2024-12-05T00:11:31.257Z"
   },
   {
    "duration": 0,
    "start_time": "2024-12-05T00:11:31.259Z"
   },
   {
    "duration": 0,
    "start_time": "2024-12-05T00:11:31.288Z"
   },
   {
    "duration": 0,
    "start_time": "2024-12-05T00:11:31.290Z"
   },
   {
    "duration": 0,
    "start_time": "2024-12-05T00:11:31.291Z"
   },
   {
    "duration": 0,
    "start_time": "2024-12-05T00:11:31.293Z"
   },
   {
    "duration": 0,
    "start_time": "2024-12-05T00:11:31.294Z"
   },
   {
    "duration": 0,
    "start_time": "2024-12-05T00:11:31.306Z"
   },
   {
    "duration": 0,
    "start_time": "2024-12-05T00:11:31.307Z"
   },
   {
    "duration": 0,
    "start_time": "2024-12-05T00:11:31.308Z"
   },
   {
    "duration": 0,
    "start_time": "2024-12-05T00:11:31.312Z"
   },
   {
    "duration": 0,
    "start_time": "2024-12-05T00:11:31.313Z"
   },
   {
    "duration": 0,
    "start_time": "2024-12-05T00:11:31.315Z"
   },
   {
    "duration": 124,
    "start_time": "2024-12-05T00:14:14.793Z"
   },
   {
    "duration": 23,
    "start_time": "2024-12-05T00:14:44.714Z"
   },
   {
    "duration": 21,
    "start_time": "2024-12-05T00:14:50.897Z"
   },
   {
    "duration": 10,
    "start_time": "2024-12-05T00:14:57.085Z"
   },
   {
    "duration": 15746,
    "start_time": "2024-12-05T00:15:01.074Z"
   },
   {
    "duration": 4,
    "start_time": "2024-12-05T00:15:51.321Z"
   },
   {
    "duration": 15,
    "start_time": "2024-12-05T00:15:51.328Z"
   },
   {
    "duration": 10,
    "start_time": "2024-12-05T00:15:51.344Z"
   },
   {
    "duration": 11,
    "start_time": "2024-12-05T00:15:51.355Z"
   },
   {
    "duration": 7,
    "start_time": "2024-12-05T00:15:51.368Z"
   },
   {
    "duration": 10,
    "start_time": "2024-12-05T00:15:51.377Z"
   },
   {
    "duration": 13,
    "start_time": "2024-12-05T00:15:51.389Z"
   },
   {
    "duration": 18,
    "start_time": "2024-12-05T00:15:51.404Z"
   },
   {
    "duration": 8,
    "start_time": "2024-12-05T00:15:51.423Z"
   },
   {
    "duration": 10,
    "start_time": "2024-12-05T00:15:51.433Z"
   },
   {
    "duration": 49,
    "start_time": "2024-12-05T00:15:51.445Z"
   },
   {
    "duration": 18,
    "start_time": "2024-12-05T00:15:51.496Z"
   },
   {
    "duration": 3,
    "start_time": "2024-12-05T00:15:51.516Z"
   },
   {
    "duration": 253,
    "start_time": "2024-12-05T00:15:51.523Z"
   },
   {
    "duration": 153,
    "start_time": "2024-12-05T00:15:51.778Z"
   },
   {
    "duration": 3657,
    "start_time": "2024-12-05T00:15:51.933Z"
   },
   {
    "duration": 153,
    "start_time": "2024-12-05T00:15:55.592Z"
   },
   {
    "duration": 163,
    "start_time": "2024-12-05T00:15:55.749Z"
   },
   {
    "duration": 14,
    "start_time": "2024-12-05T00:15:55.914Z"
   },
   {
    "duration": 5,
    "start_time": "2024-12-05T00:15:55.929Z"
   },
   {
    "duration": 141,
    "start_time": "2024-12-05T00:15:55.935Z"
   },
   {
    "duration": 27,
    "start_time": "2024-12-05T00:15:56.078Z"
   },
   {
    "duration": 25,
    "start_time": "2024-12-05T00:15:56.107Z"
   },
   {
    "duration": 60,
    "start_time": "2024-12-05T00:15:56.134Z"
   },
   {
    "duration": 15913,
    "start_time": "2024-12-05T00:15:56.195Z"
   },
   {
    "duration": 7039,
    "start_time": "2024-12-05T00:16:12.110Z"
   },
   {
    "duration": 255,
    "start_time": "2024-12-05T00:16:19.151Z"
   },
   {
    "duration": 13,
    "start_time": "2024-12-05T00:16:19.408Z"
   },
   {
    "duration": 4,
    "start_time": "2024-12-05T00:16:19.423Z"
   },
   {
    "duration": 6,
    "start_time": "2024-12-05T00:16:19.429Z"
   },
   {
    "duration": 5,
    "start_time": "2024-12-05T00:16:19.437Z"
   },
   {
    "duration": 98,
    "start_time": "2024-12-05T00:16:19.443Z"
   },
   {
    "duration": 18,
    "start_time": "2024-12-05T00:16:19.543Z"
   },
   {
    "duration": 26,
    "start_time": "2024-12-05T00:16:19.563Z"
   },
   {
    "duration": 10,
    "start_time": "2024-12-05T00:16:19.591Z"
   },
   {
    "duration": 3263,
    "start_time": "2024-12-05T00:16:19.602Z"
   },
   {
    "duration": 252,
    "start_time": "2024-12-05T00:16:22.867Z"
   },
   {
    "duration": 5,
    "start_time": "2024-12-05T00:32:11.966Z"
   },
   {
    "duration": 22,
    "start_time": "2024-12-05T00:32:11.974Z"
   },
   {
    "duration": 12,
    "start_time": "2024-12-05T00:32:11.998Z"
   },
   {
    "duration": 13,
    "start_time": "2024-12-05T00:32:12.013Z"
   },
   {
    "duration": 8,
    "start_time": "2024-12-05T00:32:12.028Z"
   },
   {
    "duration": 12,
    "start_time": "2024-12-05T00:32:12.038Z"
   },
   {
    "duration": 45,
    "start_time": "2024-12-05T00:32:12.052Z"
   },
   {
    "duration": 22,
    "start_time": "2024-12-05T00:32:12.099Z"
   },
   {
    "duration": 10,
    "start_time": "2024-12-05T00:32:12.124Z"
   },
   {
    "duration": 11,
    "start_time": "2024-12-05T00:32:12.138Z"
   },
   {
    "duration": 45,
    "start_time": "2024-12-05T00:32:12.150Z"
   },
   {
    "duration": 23,
    "start_time": "2024-12-05T00:32:12.198Z"
   },
   {
    "duration": 4,
    "start_time": "2024-12-05T00:32:12.223Z"
   },
   {
    "duration": 194,
    "start_time": "2024-12-05T00:32:12.229Z"
   },
   {
    "duration": 197,
    "start_time": "2024-12-05T00:32:12.425Z"
   },
   {
    "duration": 3752,
    "start_time": "2024-12-05T00:32:12.624Z"
   },
   {
    "duration": 167,
    "start_time": "2024-12-05T00:32:16.378Z"
   },
   {
    "duration": 175,
    "start_time": "2024-12-05T00:32:16.547Z"
   },
   {
    "duration": 14,
    "start_time": "2024-12-05T00:32:16.726Z"
   },
   {
    "duration": 6,
    "start_time": "2024-12-05T00:32:16.742Z"
   },
   {
    "duration": 158,
    "start_time": "2024-12-05T00:32:16.750Z"
   },
   {
    "duration": 30,
    "start_time": "2024-12-05T00:32:16.911Z"
   },
   {
    "duration": 40,
    "start_time": "2024-12-05T00:32:16.947Z"
   },
   {
    "duration": 16,
    "start_time": "2024-12-05T00:32:16.992Z"
   },
   {
    "duration": 16557,
    "start_time": "2024-12-05T00:32:17.013Z"
   },
   {
    "duration": 7468,
    "start_time": "2024-12-05T00:32:33.572Z"
   },
   {
    "duration": 290,
    "start_time": "2024-12-05T00:32:41.042Z"
   },
   {
    "duration": 16,
    "start_time": "2024-12-05T00:32:41.338Z"
   },
   {
    "duration": 5,
    "start_time": "2024-12-05T00:32:41.356Z"
   },
   {
    "duration": 27,
    "start_time": "2024-12-05T00:32:41.363Z"
   },
   {
    "duration": 5,
    "start_time": "2024-12-05T00:32:41.392Z"
   },
   {
    "duration": 90,
    "start_time": "2024-12-05T00:32:41.400Z"
   },
   {
    "duration": 19,
    "start_time": "2024-12-05T00:32:41.493Z"
   },
   {
    "duration": 72,
    "start_time": "2024-12-05T00:32:41.515Z"
   },
   {
    "duration": 21,
    "start_time": "2024-12-05T00:32:41.590Z"
   },
   {
    "duration": 3508,
    "start_time": "2024-12-05T00:32:41.613Z"
   },
   {
    "duration": 291,
    "start_time": "2024-12-05T00:32:45.123Z"
   },
   {
    "duration": 16,
    "start_time": "2024-12-05T00:32:45.417Z"
   },
   {
    "duration": 4,
    "start_time": "2024-12-05T00:32:45.435Z"
   },
   {
    "duration": 6,
    "start_time": "2024-12-05T00:32:45.441Z"
   },
   {
    "duration": 173,
    "start_time": "2024-12-05T00:33:12.321Z"
   },
   {
    "duration": 45,
    "start_time": "2024-12-05T00:33:20.643Z"
   },
   {
    "duration": 46,
    "start_time": "2024-12-05T00:33:51.461Z"
   },
   {
    "duration": 37,
    "start_time": "2024-12-05T00:34:21.349Z"
   },
   {
    "duration": 52,
    "start_time": "2024-12-05T00:37:44.571Z"
   },
   {
    "duration": 12,
    "start_time": "2024-12-05T00:37:46.080Z"
   },
   {
    "duration": 7,
    "start_time": "2024-12-05T00:38:38.878Z"
   },
   {
    "duration": 12935,
    "start_time": "2024-12-05T00:39:04.031Z"
   },
   {
    "duration": 35,
    "start_time": "2024-12-05T00:40:30.307Z"
   },
   {
    "duration": 261,
    "start_time": "2024-12-05T00:40:37.411Z"
   },
   {
    "duration": 9804,
    "start_time": "2024-12-05T00:40:57.167Z"
   },
   {
    "duration": 264,
    "start_time": "2024-12-05T00:45:06.891Z"
   },
   {
    "duration": 23,
    "start_time": "2024-12-05T00:47:21.445Z"
   },
   {
    "duration": 9853,
    "start_time": "2024-12-05T00:47:29.977Z"
   },
   {
    "duration": 4,
    "start_time": "2024-12-05T01:42:04.596Z"
   },
   {
    "duration": 16,
    "start_time": "2024-12-05T01:42:05.593Z"
   },
   {
    "duration": 10,
    "start_time": "2024-12-05T01:42:05.611Z"
   },
   {
    "duration": 9,
    "start_time": "2024-12-05T01:42:05.623Z"
   },
   {
    "duration": 6,
    "start_time": "2024-12-05T01:42:05.634Z"
   },
   {
    "duration": 9,
    "start_time": "2024-12-05T01:42:05.642Z"
   },
   {
    "duration": 12,
    "start_time": "2024-12-05T01:42:06.534Z"
   },
   {
    "duration": 17,
    "start_time": "2024-12-05T01:42:06.548Z"
   },
   {
    "duration": 9,
    "start_time": "2024-12-05T01:42:06.567Z"
   },
   {
    "duration": 9,
    "start_time": "2024-12-05T01:42:06.577Z"
   },
   {
    "duration": 8,
    "start_time": "2024-12-05T01:42:06.589Z"
   },
   {
    "duration": 18,
    "start_time": "2024-12-05T01:42:06.599Z"
   },
   {
    "duration": 5,
    "start_time": "2024-12-05T01:42:06.619Z"
   },
   {
    "duration": 175,
    "start_time": "2024-12-05T01:42:06.625Z"
   },
   {
    "duration": 146,
    "start_time": "2024-12-05T01:42:06.929Z"
   },
   {
    "duration": 3648,
    "start_time": "2024-12-05T01:42:07.078Z"
   },
   {
    "duration": 145,
    "start_time": "2024-12-05T01:42:10.729Z"
   },
   {
    "duration": 170,
    "start_time": "2024-12-05T01:42:10.876Z"
   },
   {
    "duration": 15,
    "start_time": "2024-12-05T01:42:11.049Z"
   },
   {
    "duration": 5,
    "start_time": "2024-12-05T01:42:11.065Z"
   },
   {
    "duration": 141,
    "start_time": "2024-12-05T01:42:11.072Z"
   },
   {
    "duration": 22,
    "start_time": "2024-12-05T01:42:11.216Z"
   },
   {
    "duration": 48,
    "start_time": "2024-12-05T01:42:11.240Z"
   },
   {
    "duration": 11,
    "start_time": "2024-12-05T01:42:11.290Z"
   },
   {
    "duration": 15834,
    "start_time": "2024-12-05T01:42:11.303Z"
   },
   {
    "duration": 7022,
    "start_time": "2024-12-05T01:42:27.139Z"
   },
   {
    "duration": 254,
    "start_time": "2024-12-05T01:42:34.163Z"
   },
   {
    "duration": 13,
    "start_time": "2024-12-05T01:42:34.419Z"
   },
   {
    "duration": 5,
    "start_time": "2024-12-05T01:42:34.434Z"
   },
   {
    "duration": 5,
    "start_time": "2024-12-05T01:42:34.440Z"
   },
   {
    "duration": 3,
    "start_time": "2024-12-05T01:42:34.447Z"
   },
   {
    "duration": 74,
    "start_time": "2024-12-05T01:43:05.327Z"
   },
   {
    "duration": 19,
    "start_time": "2024-12-05T01:43:30.944Z"
   },
   {
    "duration": 13,
    "start_time": "2024-12-05T01:44:27.975Z"
   },
   {
    "duration": 9,
    "start_time": "2024-12-05T01:44:28.835Z"
   },
   {
    "duration": 3214,
    "start_time": "2024-12-05T01:44:47.078Z"
   },
   {
    "duration": 243,
    "start_time": "2024-12-05T01:45:06.113Z"
   },
   {
    "duration": 14,
    "start_time": "2024-12-05T01:46:02.158Z"
   },
   {
    "duration": 4,
    "start_time": "2024-12-05T01:46:08.051Z"
   },
   {
    "duration": 4,
    "start_time": "2024-12-05T01:46:23.013Z"
   },
   {
    "duration": 4,
    "start_time": "2024-12-05T01:46:33.378Z"
   },
   {
    "duration": 164,
    "start_time": "2024-12-05T01:46:43.772Z"
   },
   {
    "duration": 34,
    "start_time": "2024-12-05T01:46:49.181Z"
   },
   {
    "duration": 23,
    "start_time": "2024-12-05T01:47:06.080Z"
   },
   {
    "duration": 10,
    "start_time": "2024-12-05T01:47:07.262Z"
   },
   {
    "duration": 9573,
    "start_time": "2024-12-05T01:47:22.256Z"
   },
   {
    "duration": 21,
    "start_time": "2024-12-05T01:47:36.204Z"
   },
   {
    "duration": 71,
    "start_time": "2024-12-05T01:47:45.496Z"
   },
   {
    "duration": 62,
    "start_time": "2024-12-05T01:50:43.983Z"
   },
   {
    "duration": 99,
    "start_time": "2024-12-05T01:51:36.396Z"
   },
   {
    "duration": 21,
    "start_time": "2024-12-05T01:52:22.060Z"
   },
   {
    "duration": 102,
    "start_time": "2024-12-05T01:53:25.364Z"
   },
   {
    "duration": 11,
    "start_time": "2024-12-05T01:55:43.804Z"
   },
   {
    "duration": 101,
    "start_time": "2024-12-05T01:55:49.685Z"
   },
   {
    "duration": 1230,
    "start_time": "2024-12-05T01:58:12.782Z"
   },
   {
    "duration": 19,
    "start_time": "2024-12-05T01:58:14.015Z"
   },
   {
    "duration": 13,
    "start_time": "2024-12-05T01:58:14.037Z"
   },
   {
    "duration": 13,
    "start_time": "2024-12-05T01:58:14.052Z"
   },
   {
    "duration": 25,
    "start_time": "2024-12-05T01:58:14.068Z"
   },
   {
    "duration": 10,
    "start_time": "2024-12-05T01:58:14.096Z"
   },
   {
    "duration": 15,
    "start_time": "2024-12-05T01:58:14.109Z"
   },
   {
    "duration": 17,
    "start_time": "2024-12-05T01:58:14.127Z"
   },
   {
    "duration": 9,
    "start_time": "2024-12-05T01:58:14.146Z"
   },
   {
    "duration": 40,
    "start_time": "2024-12-05T01:58:14.157Z"
   },
   {
    "duration": 10,
    "start_time": "2024-12-05T01:58:14.200Z"
   },
   {
    "duration": 21,
    "start_time": "2024-12-05T01:58:14.212Z"
   },
   {
    "duration": 4,
    "start_time": "2024-12-05T01:58:14.235Z"
   },
   {
    "duration": 175,
    "start_time": "2024-12-05T01:58:14.244Z"
   },
   {
    "duration": 152,
    "start_time": "2024-12-05T01:58:14.422Z"
   },
   {
    "duration": 3736,
    "start_time": "2024-12-05T01:58:14.575Z"
   },
   {
    "duration": 167,
    "start_time": "2024-12-05T01:58:18.313Z"
   },
   {
    "duration": 185,
    "start_time": "2024-12-05T01:58:18.486Z"
   },
   {
    "duration": 22,
    "start_time": "2024-12-05T01:58:18.673Z"
   },
   {
    "duration": 6,
    "start_time": "2024-12-05T01:58:18.697Z"
   },
   {
    "duration": 144,
    "start_time": "2024-12-05T01:58:18.705Z"
   },
   {
    "duration": 25,
    "start_time": "2024-12-05T01:58:18.852Z"
   },
   {
    "duration": 44,
    "start_time": "2024-12-05T01:58:18.878Z"
   },
   {
    "duration": 75,
    "start_time": "2024-12-05T01:58:18.924Z"
   },
   {
    "duration": 16160,
    "start_time": "2024-12-05T01:58:19.002Z"
   },
   {
    "duration": 7201,
    "start_time": "2024-12-05T01:58:35.166Z"
   },
   {
    "duration": 265,
    "start_time": "2024-12-05T01:58:42.370Z"
   },
   {
    "duration": 14,
    "start_time": "2024-12-05T01:58:42.637Z"
   },
   {
    "duration": 7,
    "start_time": "2024-12-05T01:58:42.653Z"
   },
   {
    "duration": 27,
    "start_time": "2024-12-05T01:58:42.662Z"
   },
   {
    "duration": 5,
    "start_time": "2024-12-05T01:58:42.691Z"
   },
   {
    "duration": 114,
    "start_time": "2024-12-05T01:58:42.698Z"
   },
   {
    "duration": 16,
    "start_time": "2024-12-05T01:58:42.814Z"
   },
   {
    "duration": 10,
    "start_time": "2024-12-05T01:58:42.832Z"
   },
   {
    "duration": 3366,
    "start_time": "2024-12-05T01:58:42.844Z"
   },
   {
    "duration": 262,
    "start_time": "2024-12-05T01:58:46.212Z"
   },
   {
    "duration": 22,
    "start_time": "2024-12-05T01:58:46.478Z"
   },
   {
    "duration": 5,
    "start_time": "2024-12-05T01:58:46.503Z"
   },
   {
    "duration": 7,
    "start_time": "2024-12-05T01:58:46.510Z"
   },
   {
    "duration": 193,
    "start_time": "2024-12-05T01:58:46.519Z"
   },
   {
    "duration": 44,
    "start_time": "2024-12-05T01:58:46.717Z"
   },
   {
    "duration": 37,
    "start_time": "2024-12-05T01:58:46.765Z"
   },
   {
    "duration": 10,
    "start_time": "2024-12-05T01:58:46.804Z"
   },
   {
    "duration": 9949,
    "start_time": "2024-12-05T01:58:46.816Z"
   },
   {
    "duration": 34,
    "start_time": "2024-12-05T01:58:56.767Z"
   },
   {
    "duration": 73,
    "start_time": "2024-12-05T01:58:56.803Z"
   },
   {
    "duration": 4,
    "start_time": "2024-12-05T02:15:05.506Z"
   },
   {
    "duration": 5,
    "start_time": "2024-12-05T02:15:42.918Z"
   },
   {
    "duration": 147214,
    "start_time": "2024-12-05T02:24:00.968Z"
   },
   {
    "duration": 8,
    "start_time": "2024-12-05T02:26:28.188Z"
   },
   {
    "duration": 27,
    "start_time": "2024-12-05T02:26:28.202Z"
   },
   {
    "duration": 12,
    "start_time": "2024-12-05T02:26:28.231Z"
   },
   {
    "duration": 12,
    "start_time": "2024-12-05T02:26:28.244Z"
   },
   {
    "duration": 10,
    "start_time": "2024-12-05T02:26:28.258Z"
   },
   {
    "duration": 10,
    "start_time": "2024-12-05T02:26:28.287Z"
   },
   {
    "duration": 13,
    "start_time": "2024-12-05T02:26:28.299Z"
   },
   {
    "duration": 19,
    "start_time": "2024-12-05T02:26:28.315Z"
   },
   {
    "duration": 9,
    "start_time": "2024-12-05T02:26:28.336Z"
   },
   {
    "duration": 41,
    "start_time": "2024-12-05T02:26:28.346Z"
   },
   {
    "duration": 9,
    "start_time": "2024-12-05T02:26:28.389Z"
   },
   {
    "duration": 23,
    "start_time": "2024-12-05T02:26:28.400Z"
   },
   {
    "duration": 4,
    "start_time": "2024-12-05T02:26:28.425Z"
   },
   {
    "duration": 200,
    "start_time": "2024-12-05T02:26:28.431Z"
   },
   {
    "duration": 163,
    "start_time": "2024-12-05T02:26:28.633Z"
   },
   {
    "duration": 3682,
    "start_time": "2024-12-05T02:26:28.798Z"
   },
   {
    "duration": 237,
    "start_time": "2024-12-05T02:26:32.482Z"
   },
   {
    "duration": 209,
    "start_time": "2024-12-05T02:26:32.721Z"
   },
   {
    "duration": 17,
    "start_time": "2024-12-05T02:26:32.932Z"
   },
   {
    "duration": 6,
    "start_time": "2024-12-05T02:26:32.951Z"
   },
   {
    "duration": 142,
    "start_time": "2024-12-05T02:26:32.960Z"
   },
   {
    "duration": 31,
    "start_time": "2024-12-05T02:26:33.104Z"
   },
   {
    "duration": 50,
    "start_time": "2024-12-05T02:26:33.141Z"
   },
   {
    "duration": 11,
    "start_time": "2024-12-05T02:26:33.193Z"
   },
   {
    "duration": 16137,
    "start_time": "2024-12-05T02:26:33.206Z"
   },
   {
    "duration": 7094,
    "start_time": "2024-12-05T02:26:49.348Z"
   },
   {
    "duration": 269,
    "start_time": "2024-12-05T02:26:56.445Z"
   },
   {
    "duration": 13,
    "start_time": "2024-12-05T02:26:56.716Z"
   },
   {
    "duration": 4,
    "start_time": "2024-12-05T02:26:56.731Z"
   },
   {
    "duration": 6,
    "start_time": "2024-12-05T02:26:56.737Z"
   },
   {
    "duration": 4,
    "start_time": "2024-12-05T02:26:56.745Z"
   },
   {
    "duration": 139,
    "start_time": "2024-12-05T02:26:56.751Z"
   },
   {
    "duration": 13,
    "start_time": "2024-12-05T02:26:56.892Z"
   },
   {
    "duration": 11,
    "start_time": "2024-12-05T02:26:56.907Z"
   },
   {
    "duration": 3309,
    "start_time": "2024-12-05T02:26:56.919Z"
   },
   {
    "duration": 256,
    "start_time": "2024-12-05T02:27:00.230Z"
   },
   {
    "duration": 17,
    "start_time": "2024-12-05T02:27:00.490Z"
   },
   {
    "duration": 6,
    "start_time": "2024-12-05T02:27:00.509Z"
   },
   {
    "duration": 5,
    "start_time": "2024-12-05T02:27:00.516Z"
   },
   {
    "duration": 199,
    "start_time": "2024-12-05T02:27:00.523Z"
   },
   {
    "duration": 36,
    "start_time": "2024-12-05T02:27:00.724Z"
   },
   {
    "duration": 40,
    "start_time": "2024-12-05T02:27:00.762Z"
   },
   {
    "duration": 13,
    "start_time": "2024-12-05T02:27:00.804Z"
   },
   {
    "duration": 5,
    "start_time": "2024-12-05T02:31:50.465Z"
   },
   {
    "duration": 4,
    "start_time": "2024-12-05T02:32:16.470Z"
   },
   {
    "duration": 802,
    "start_time": "2024-12-05T02:32:24.985Z"
   },
   {
    "duration": 833,
    "start_time": "2024-12-05T02:32:51.039Z"
   },
   {
    "duration": 1126,
    "start_time": "2024-12-05T02:34:44.385Z"
   },
   {
    "duration": 289,
    "start_time": "2024-12-05T02:37:23.441Z"
   },
   {
    "duration": 19,
    "start_time": "2024-12-05T03:02:57.075Z"
   },
   {
    "duration": 3267,
    "start_time": "2024-12-05T03:06:39.108Z"
   },
   {
    "duration": 19,
    "start_time": "2024-12-05T03:06:42.378Z"
   },
   {
    "duration": 1038,
    "start_time": "2024-12-05T03:18:18.115Z"
   },
   {
    "duration": 16,
    "start_time": "2024-12-05T03:18:19.155Z"
   },
   {
    "duration": 14,
    "start_time": "2024-12-05T03:18:19.173Z"
   },
   {
    "duration": 14,
    "start_time": "2024-12-05T03:18:19.189Z"
   },
   {
    "duration": 7,
    "start_time": "2024-12-05T03:18:19.206Z"
   },
   {
    "duration": 9,
    "start_time": "2024-12-05T03:18:19.216Z"
   },
   {
    "duration": 12,
    "start_time": "2024-12-05T03:18:19.227Z"
   },
   {
    "duration": 49,
    "start_time": "2024-12-05T03:18:19.241Z"
   },
   {
    "duration": 11,
    "start_time": "2024-12-05T03:18:19.292Z"
   },
   {
    "duration": 9,
    "start_time": "2024-12-05T03:18:19.305Z"
   },
   {
    "duration": 9,
    "start_time": "2024-12-05T03:18:19.316Z"
   },
   {
    "duration": 21,
    "start_time": "2024-12-05T03:18:19.327Z"
   },
   {
    "duration": 5,
    "start_time": "2024-12-05T03:18:19.350Z"
   },
   {
    "duration": 156,
    "start_time": "2024-12-05T03:18:19.388Z"
   },
   {
    "duration": 150,
    "start_time": "2024-12-05T03:18:19.546Z"
   },
   {
    "duration": 3721,
    "start_time": "2024-12-05T03:18:19.697Z"
   },
   {
    "duration": 183,
    "start_time": "2024-12-05T03:18:23.420Z"
   },
   {
    "duration": 182,
    "start_time": "2024-12-05T03:18:23.605Z"
   },
   {
    "duration": 16,
    "start_time": "2024-12-05T03:18:23.789Z"
   },
   {
    "duration": 8,
    "start_time": "2024-12-05T03:18:23.806Z"
   },
   {
    "duration": 164,
    "start_time": "2024-12-05T03:18:23.816Z"
   },
   {
    "duration": 27,
    "start_time": "2024-12-05T03:18:23.987Z"
   },
   {
    "duration": 27,
    "start_time": "2024-12-05T03:18:24.016Z"
   },
   {
    "duration": 43,
    "start_time": "2024-12-05T03:18:24.047Z"
   },
   {
    "duration": 15916,
    "start_time": "2024-12-05T03:18:24.092Z"
   },
   {
    "duration": 236,
    "start_time": "2024-12-05T03:18:47.323Z"
   },
   {
    "duration": 102960,
    "start_time": "2024-12-05T03:19:07.464Z"
   },
   {
    "duration": 26,
    "start_time": "2024-12-05T03:21:23.897Z"
   },
   {
    "duration": 1421,
    "start_time": "2024-12-05T03:21:37.710Z"
   },
   {
    "duration": 6,
    "start_time": "2024-12-05T03:23:54.076Z"
   },
   {
    "duration": 21,
    "start_time": "2024-12-05T03:23:54.101Z"
   },
   {
    "duration": 13,
    "start_time": "2024-12-05T03:23:54.124Z"
   },
   {
    "duration": 10,
    "start_time": "2024-12-05T03:23:54.139Z"
   },
   {
    "duration": 6,
    "start_time": "2024-12-05T03:23:54.150Z"
   },
   {
    "duration": 10,
    "start_time": "2024-12-05T03:23:54.160Z"
   },
   {
    "duration": 13,
    "start_time": "2024-12-05T03:23:54.186Z"
   },
   {
    "duration": 23,
    "start_time": "2024-12-05T03:23:54.201Z"
   },
   {
    "duration": 9,
    "start_time": "2024-12-05T03:23:54.226Z"
   },
   {
    "duration": 12,
    "start_time": "2024-12-05T03:23:54.236Z"
   },
   {
    "duration": 40,
    "start_time": "2024-12-05T03:23:54.250Z"
   },
   {
    "duration": 18,
    "start_time": "2024-12-05T03:23:54.292Z"
   },
   {
    "duration": 4,
    "start_time": "2024-12-05T03:23:54.313Z"
   },
   {
    "duration": 196,
    "start_time": "2024-12-05T03:23:54.321Z"
   },
   {
    "duration": 184,
    "start_time": "2024-12-05T03:23:54.519Z"
   },
   {
    "duration": 3705,
    "start_time": "2024-12-05T03:23:54.705Z"
   },
   {
    "duration": 150,
    "start_time": "2024-12-05T03:23:58.413Z"
   },
   {
    "duration": 195,
    "start_time": "2024-12-05T03:23:58.566Z"
   },
   {
    "duration": 24,
    "start_time": "2024-12-05T03:23:58.765Z"
   },
   {
    "duration": 6,
    "start_time": "2024-12-05T03:23:58.797Z"
   },
   {
    "duration": 143,
    "start_time": "2024-12-05T03:23:58.805Z"
   },
   {
    "duration": 23,
    "start_time": "2024-12-05T03:23:58.950Z"
   },
   {
    "duration": 32,
    "start_time": "2024-12-05T03:23:58.975Z"
   },
   {
    "duration": 9,
    "start_time": "2024-12-05T03:23:59.013Z"
   },
   {
    "duration": 16101,
    "start_time": "2024-12-05T03:23:59.024Z"
   },
   {
    "duration": 102296,
    "start_time": "2024-12-05T03:24:15.126Z"
   },
   {
    "duration": 1361,
    "start_time": "2024-12-05T03:25:57.425Z"
   },
   {
    "duration": 17,
    "start_time": "2024-12-05T03:25:58.789Z"
   },
   {
    "duration": 5,
    "start_time": "2024-12-05T03:25:58.808Z"
   },
   {
    "duration": 8,
    "start_time": "2024-12-05T03:25:58.815Z"
   },
   {
    "duration": 4,
    "start_time": "2024-12-05T03:25:58.824Z"
   },
   {
    "duration": 134,
    "start_time": "2024-12-05T03:25:58.830Z"
   },
   {
    "duration": 24,
    "start_time": "2024-12-05T03:25:58.966Z"
   },
   {
    "duration": 11,
    "start_time": "2024-12-05T03:25:58.992Z"
   },
   {
    "duration": 53886,
    "start_time": "2024-12-05T03:26:06.738Z"
   },
   {
    "duration": 69,
    "start_time": "2024-12-05T03:27:44.981Z"
   },
   {
    "duration": 56,
    "start_time": "2024-12-05T03:31:04.355Z"
   },
   {
    "duration": 66,
    "start_time": "2024-12-05T03:31:21.441Z"
   },
   {
    "duration": 69,
    "start_time": "2024-12-05T03:31:29.143Z"
   },
   {
    "duration": 58,
    "start_time": "2024-12-05T03:31:39.382Z"
   },
   {
    "duration": 69,
    "start_time": "2024-12-05T03:31:46.248Z"
   },
   {
    "duration": 19,
    "start_time": "2024-12-05T03:32:53.255Z"
   },
   {
    "duration": 5,
    "start_time": "2024-12-05T03:33:03.780Z"
   },
   {
    "duration": 27,
    "start_time": "2024-12-05T03:33:03.787Z"
   },
   {
    "duration": 11,
    "start_time": "2024-12-05T03:33:03.816Z"
   },
   {
    "duration": 10,
    "start_time": "2024-12-05T03:33:03.829Z"
   },
   {
    "duration": 7,
    "start_time": "2024-12-05T03:33:03.841Z"
   },
   {
    "duration": 39,
    "start_time": "2024-12-05T03:33:03.850Z"
   },
   {
    "duration": 12,
    "start_time": "2024-12-05T03:33:03.891Z"
   },
   {
    "duration": 16,
    "start_time": "2024-12-05T03:33:03.905Z"
   },
   {
    "duration": 8,
    "start_time": "2024-12-05T03:33:03.924Z"
   },
   {
    "duration": 10,
    "start_time": "2024-12-05T03:33:03.933Z"
   },
   {
    "duration": 49,
    "start_time": "2024-12-05T03:33:03.945Z"
   },
   {
    "duration": 31,
    "start_time": "2024-12-05T03:33:03.997Z"
   },
   {
    "duration": 4,
    "start_time": "2024-12-05T03:33:04.030Z"
   },
   {
    "duration": 173,
    "start_time": "2024-12-05T03:33:04.036Z"
   },
   {
    "duration": 178,
    "start_time": "2024-12-05T03:33:04.211Z"
   },
   {
    "duration": 3677,
    "start_time": "2024-12-05T03:33:04.392Z"
   },
   {
    "duration": 163,
    "start_time": "2024-12-05T03:33:08.071Z"
   },
   {
    "duration": 195,
    "start_time": "2024-12-05T03:33:08.236Z"
   },
   {
    "duration": 14,
    "start_time": "2024-12-05T03:33:08.433Z"
   },
   {
    "duration": 5,
    "start_time": "2024-12-05T03:33:08.449Z"
   },
   {
    "duration": 148,
    "start_time": "2024-12-05T03:33:08.455Z"
   },
   {
    "duration": 24,
    "start_time": "2024-12-05T03:33:08.605Z"
   },
   {
    "duration": 27,
    "start_time": "2024-12-05T03:33:08.632Z"
   },
   {
    "duration": 16,
    "start_time": "2024-12-05T03:33:08.693Z"
   },
   {
    "duration": 16584,
    "start_time": "2024-12-05T03:33:08.711Z"
   },
   {
    "duration": 104174,
    "start_time": "2024-12-05T03:33:25.297Z"
   },
   {
    "duration": 1337,
    "start_time": "2024-12-05T03:35:09.473Z"
   },
   {
    "duration": 14,
    "start_time": "2024-12-05T03:35:10.812Z"
   },
   {
    "duration": 4,
    "start_time": "2024-12-05T03:35:10.827Z"
   },
   {
    "duration": 5,
    "start_time": "2024-12-05T03:35:10.833Z"
   },
   {
    "duration": 3,
    "start_time": "2024-12-05T03:35:10.839Z"
   },
   {
    "duration": 128,
    "start_time": "2024-12-05T03:35:10.844Z"
   },
   {
    "duration": 19,
    "start_time": "2024-12-05T03:35:10.974Z"
   },
   {
    "duration": 10,
    "start_time": "2024-12-05T03:35:10.994Z"
   },
   {
    "duration": 52803,
    "start_time": "2024-12-05T03:35:11.005Z"
   },
   {
    "duration": 55,
    "start_time": "2024-12-05T03:36:03.810Z"
   },
   {
    "duration": 25,
    "start_time": "2024-12-05T03:36:03.868Z"
   },
   {
    "duration": 4,
    "start_time": "2024-12-05T03:36:03.895Z"
   },
   {
    "duration": 4,
    "start_time": "2024-12-05T03:36:03.901Z"
   },
   {
    "duration": 189,
    "start_time": "2024-12-05T03:36:03.907Z"
   },
   {
    "duration": 34,
    "start_time": "2024-12-05T03:36:04.098Z"
   },
   {
    "duration": 40,
    "start_time": "2024-12-05T03:36:49.952Z"
   },
   {
    "duration": 144834,
    "start_time": "2024-12-05T03:37:06.567Z"
   },
   {
    "duration": 1838,
    "start_time": "2024-12-05T03:40:05.075Z"
   },
   {
    "duration": 1826,
    "start_time": "2024-12-05T03:40:28.565Z"
   },
   {
    "duration": 4,
    "start_time": "2024-12-05T03:45:18.863Z"
   },
   {
    "duration": 14,
    "start_time": "2024-12-05T03:45:18.956Z"
   },
   {
    "duration": 12,
    "start_time": "2024-12-05T03:45:18.973Z"
   },
   {
    "duration": 13,
    "start_time": "2024-12-05T03:45:18.987Z"
   },
   {
    "duration": 7,
    "start_time": "2024-12-05T03:45:19.002Z"
   },
   {
    "duration": 9,
    "start_time": "2024-12-05T03:45:19.011Z"
   },
   {
    "duration": 15,
    "start_time": "2024-12-05T03:45:19.022Z"
   },
   {
    "duration": 47,
    "start_time": "2024-12-05T03:45:19.040Z"
   },
   {
    "duration": 8,
    "start_time": "2024-12-05T03:45:19.090Z"
   },
   {
    "duration": 10,
    "start_time": "2024-12-05T03:45:19.100Z"
   },
   {
    "duration": 9,
    "start_time": "2024-12-05T03:45:19.112Z"
   },
   {
    "duration": 21,
    "start_time": "2024-12-05T03:45:19.123Z"
   },
   {
    "duration": 6,
    "start_time": "2024-12-05T03:45:19.146Z"
   },
   {
    "duration": 168,
    "start_time": "2024-12-05T03:45:19.186Z"
   },
   {
    "duration": 160,
    "start_time": "2024-12-05T03:45:19.357Z"
   },
   {
    "duration": 3677,
    "start_time": "2024-12-05T03:45:19.519Z"
   },
   {
    "duration": 167,
    "start_time": "2024-12-05T03:45:23.198Z"
   },
   {
    "duration": 175,
    "start_time": "2024-12-05T03:45:23.367Z"
   },
   {
    "duration": 16,
    "start_time": "2024-12-05T03:45:23.544Z"
   },
   {
    "duration": 8,
    "start_time": "2024-12-05T03:45:23.561Z"
   },
   {
    "duration": 150,
    "start_time": "2024-12-05T03:45:23.570Z"
   },
   {
    "duration": 27,
    "start_time": "2024-12-05T03:45:23.721Z"
   },
   {
    "duration": 39,
    "start_time": "2024-12-05T03:45:23.751Z"
   },
   {
    "duration": 9,
    "start_time": "2024-12-05T03:45:23.792Z"
   },
   {
    "duration": 16689,
    "start_time": "2024-12-05T03:45:23.803Z"
   },
   {
    "duration": 103821,
    "start_time": "2024-12-05T03:45:40.494Z"
   },
   {
    "duration": 1380,
    "start_time": "2024-12-05T03:47:24.317Z"
   },
   {
    "duration": 14,
    "start_time": "2024-12-05T03:47:25.699Z"
   },
   {
    "duration": 4,
    "start_time": "2024-12-05T03:47:25.715Z"
   },
   {
    "duration": 4,
    "start_time": "2024-12-05T03:47:41.774Z"
   },
   {
    "duration": 119,
    "start_time": "2024-12-05T03:47:46.064Z"
   },
   {
    "duration": 13,
    "start_time": "2024-12-05T03:47:52.309Z"
   },
   {
    "duration": 9,
    "start_time": "2024-12-05T03:47:54.717Z"
   },
   {
    "duration": 54589,
    "start_time": "2024-12-05T03:47:54.980Z"
   },
   {
    "duration": 66,
    "start_time": "2024-12-05T03:48:49.571Z"
   },
   {
    "duration": 105,
    "start_time": "2024-12-05T03:50:08.989Z"
   },
   {
    "duration": 1026,
    "start_time": "2024-12-05T03:53:12.015Z"
   },
   {
    "duration": 15,
    "start_time": "2024-12-05T03:53:13.043Z"
   },
   {
    "duration": 11,
    "start_time": "2024-12-05T03:53:13.060Z"
   },
   {
    "duration": 24,
    "start_time": "2024-12-05T03:53:13.073Z"
   },
   {
    "duration": 11,
    "start_time": "2024-12-05T03:53:13.099Z"
   },
   {
    "duration": 12,
    "start_time": "2024-12-05T03:53:13.111Z"
   },
   {
    "duration": 20,
    "start_time": "2024-12-05T03:53:13.125Z"
   },
   {
    "duration": 41,
    "start_time": "2024-12-05T03:53:13.149Z"
   },
   {
    "duration": 10,
    "start_time": "2024-12-05T03:53:13.192Z"
   },
   {
    "duration": 18,
    "start_time": "2024-12-05T03:53:13.206Z"
   },
   {
    "duration": 14,
    "start_time": "2024-12-05T03:53:13.226Z"
   },
   {
    "duration": 20,
    "start_time": "2024-12-05T03:53:13.242Z"
   },
   {
    "duration": 25,
    "start_time": "2024-12-05T03:53:13.263Z"
   },
   {
    "duration": 152,
    "start_time": "2024-12-05T03:53:13.291Z"
   },
   {
    "duration": 136,
    "start_time": "2024-12-05T03:53:13.444Z"
   },
   {
    "duration": 3845,
    "start_time": "2024-12-05T03:53:13.588Z"
   },
   {
    "duration": 153,
    "start_time": "2024-12-05T03:53:17.435Z"
   },
   {
    "duration": 172,
    "start_time": "2024-12-05T03:53:17.590Z"
   },
   {
    "duration": 29,
    "start_time": "2024-12-05T03:53:17.765Z"
   },
   {
    "duration": 7,
    "start_time": "2024-12-05T03:53:17.796Z"
   },
   {
    "duration": 166,
    "start_time": "2024-12-05T03:53:17.806Z"
   },
   {
    "duration": 33,
    "start_time": "2024-12-05T03:53:17.973Z"
   },
   {
    "duration": 31,
    "start_time": "2024-12-05T03:53:18.008Z"
   },
   {
    "duration": 57,
    "start_time": "2024-12-05T03:53:18.041Z"
   },
   {
    "duration": 15934,
    "start_time": "2024-12-05T03:53:18.099Z"
   },
   {
    "duration": 102623,
    "start_time": "2024-12-05T03:53:34.035Z"
   },
   {
    "duration": 1372,
    "start_time": "2024-12-05T03:55:16.661Z"
   },
   {
    "duration": 17,
    "start_time": "2024-12-05T03:55:18.038Z"
   },
   {
    "duration": 4,
    "start_time": "2024-12-05T03:55:18.057Z"
   },
   {
    "duration": 387,
    "start_time": "2024-12-05T03:55:18.063Z"
   },
   {
    "duration": 0,
    "start_time": "2024-12-05T03:55:18.452Z"
   },
   {
    "duration": 0,
    "start_time": "2024-12-05T03:55:18.453Z"
   },
   {
    "duration": 0,
    "start_time": "2024-12-05T03:55:18.455Z"
   },
   {
    "duration": 0,
    "start_time": "2024-12-05T03:55:18.456Z"
   },
   {
    "duration": 0,
    "start_time": "2024-12-05T03:55:18.457Z"
   },
   {
    "duration": 0,
    "start_time": "2024-12-05T03:55:18.459Z"
   },
   {
    "duration": 0,
    "start_time": "2024-12-05T03:55:18.460Z"
   },
   {
    "duration": 0,
    "start_time": "2024-12-05T03:55:18.461Z"
   },
   {
    "duration": 0,
    "start_time": "2024-12-05T03:55:18.462Z"
   },
   {
    "duration": 0,
    "start_time": "2024-12-05T03:55:18.462Z"
   },
   {
    "duration": 0,
    "start_time": "2024-12-05T03:55:18.464Z"
   },
   {
    "duration": 0,
    "start_time": "2024-12-05T03:55:18.465Z"
   },
   {
    "duration": 0,
    "start_time": "2024-12-05T03:55:18.465Z"
   },
   {
    "duration": 0,
    "start_time": "2024-12-05T03:55:18.467Z"
   },
   {
    "duration": 535,
    "start_time": "2024-12-05T03:57:41.520Z"
   },
   {
    "duration": 4,
    "start_time": "2024-12-05T04:03:25.826Z"
   },
   {
    "duration": 4,
    "start_time": "2024-12-05T04:04:19.352Z"
   },
   {
    "duration": 4,
    "start_time": "2024-12-05T04:08:17.816Z"
   },
   {
    "duration": 3929,
    "start_time": "2024-12-05T04:24:01.625Z"
   },
   {
    "duration": 31,
    "start_time": "2024-12-05T04:24:05.556Z"
   },
   {
    "duration": 13,
    "start_time": "2024-12-05T04:24:05.588Z"
   },
   {
    "duration": 15,
    "start_time": "2024-12-05T04:24:05.604Z"
   },
   {
    "duration": 8,
    "start_time": "2024-12-05T04:24:05.621Z"
   },
   {
    "duration": 10,
    "start_time": "2024-12-05T04:24:05.631Z"
   },
   {
    "duration": 45,
    "start_time": "2024-12-05T04:24:05.643Z"
   },
   {
    "duration": 19,
    "start_time": "2024-12-05T04:24:05.690Z"
   },
   {
    "duration": 10,
    "start_time": "2024-12-05T04:24:05.711Z"
   },
   {
    "duration": 13,
    "start_time": "2024-12-05T04:24:05.725Z"
   },
   {
    "duration": 12,
    "start_time": "2024-12-05T04:24:05.740Z"
   },
   {
    "duration": 49,
    "start_time": "2024-12-05T04:24:05.754Z"
   },
   {
    "duration": 6,
    "start_time": "2024-12-05T04:24:05.805Z"
   },
   {
    "duration": 175,
    "start_time": "2024-12-05T04:24:05.813Z"
   },
   {
    "duration": 136,
    "start_time": "2024-12-05T04:24:05.991Z"
   },
   {
    "duration": 3803,
    "start_time": "2024-12-05T04:24:06.130Z"
   },
   {
    "duration": 154,
    "start_time": "2024-12-05T04:24:09.935Z"
   },
   {
    "duration": 171,
    "start_time": "2024-12-05T04:24:10.091Z"
   },
   {
    "duration": 24,
    "start_time": "2024-12-05T04:24:10.264Z"
   },
   {
    "duration": 6,
    "start_time": "2024-12-05T04:24:10.290Z"
   },
   {
    "duration": 142,
    "start_time": "2024-12-05T04:24:10.298Z"
   },
   {
    "duration": 29,
    "start_time": "2024-12-05T04:24:10.442Z"
   },
   {
    "duration": 47,
    "start_time": "2024-12-05T04:24:10.473Z"
   },
   {
    "duration": 9,
    "start_time": "2024-12-05T04:24:10.522Z"
   },
   {
    "duration": 16038,
    "start_time": "2024-12-05T04:24:10.533Z"
   },
   {
    "duration": 103659,
    "start_time": "2024-12-05T04:24:26.573Z"
   },
   {
    "duration": 1385,
    "start_time": "2024-12-05T04:26:10.234Z"
   },
   {
    "duration": 13,
    "start_time": "2024-12-05T04:26:11.624Z"
   },
   {
    "duration": 4,
    "start_time": "2024-12-05T04:26:11.639Z"
   },
   {
    "duration": 273,
    "start_time": "2024-12-05T04:26:11.646Z"
   },
   {
    "duration": 0,
    "start_time": "2024-12-05T04:26:11.921Z"
   },
   {
    "duration": 0,
    "start_time": "2024-12-05T04:26:11.923Z"
   },
   {
    "duration": 0,
    "start_time": "2024-12-05T04:26:11.926Z"
   },
   {
    "duration": 0,
    "start_time": "2024-12-05T04:26:11.927Z"
   },
   {
    "duration": 0,
    "start_time": "2024-12-05T04:26:11.929Z"
   },
   {
    "duration": 0,
    "start_time": "2024-12-05T04:26:11.930Z"
   },
   {
    "duration": 0,
    "start_time": "2024-12-05T04:26:11.932Z"
   },
   {
    "duration": 0,
    "start_time": "2024-12-05T04:26:11.933Z"
   },
   {
    "duration": 0,
    "start_time": "2024-12-05T04:26:11.941Z"
   },
   {
    "duration": 0,
    "start_time": "2024-12-05T04:26:11.943Z"
   },
   {
    "duration": 0,
    "start_time": "2024-12-05T04:26:11.944Z"
   },
   {
    "duration": 0,
    "start_time": "2024-12-05T04:26:11.946Z"
   },
   {
    "duration": 0,
    "start_time": "2024-12-05T04:26:11.948Z"
   },
   {
    "duration": 0,
    "start_time": "2024-12-05T04:26:11.949Z"
   },
   {
    "duration": 21,
    "start_time": "2024-12-05T04:30:04.923Z"
   },
   {
    "duration": 0,
    "start_time": "2024-12-05T04:30:04.946Z"
   },
   {
    "duration": 0,
    "start_time": "2024-12-05T04:30:04.947Z"
   },
   {
    "duration": 0,
    "start_time": "2024-12-05T04:30:04.948Z"
   },
   {
    "duration": 0,
    "start_time": "2024-12-05T04:30:04.949Z"
   },
   {
    "duration": 17,
    "start_time": "2024-12-05T04:30:04.951Z"
   },
   {
    "duration": 4,
    "start_time": "2024-12-05T04:30:04.970Z"
   },
   {
    "duration": 4,
    "start_time": "2024-12-05T04:30:04.977Z"
   },
   {
    "duration": 179,
    "start_time": "2024-12-05T04:30:04.984Z"
   },
   {
    "duration": 42,
    "start_time": "2024-12-05T04:30:05.166Z"
   },
   {
    "duration": 27,
    "start_time": "2024-12-05T04:30:05.210Z"
   },
   {
    "duration": 132349,
    "start_time": "2024-12-05T04:30:05.239Z"
   },
   {
    "duration": 0,
    "start_time": "2024-12-05T04:32:17.591Z"
   },
   {
    "duration": 0,
    "start_time": "2024-12-05T04:32:17.592Z"
   },
   {
    "duration": 0,
    "start_time": "2024-12-05T04:32:17.592Z"
   },
   {
    "duration": 0,
    "start_time": "2024-12-05T04:32:17.594Z"
   },
   {
    "duration": 0,
    "start_time": "2024-12-05T04:32:17.595Z"
   },
   {
    "duration": 0,
    "start_time": "2024-12-05T04:32:17.596Z"
   },
   {
    "duration": 2975,
    "start_time": "2024-12-05T14:47:30.211Z"
   },
   {
    "duration": 34,
    "start_time": "2024-12-05T14:47:33.189Z"
   },
   {
    "duration": 14,
    "start_time": "2024-12-05T14:47:33.225Z"
   },
   {
    "duration": 14,
    "start_time": "2024-12-05T14:47:33.241Z"
   },
   {
    "duration": 7,
    "start_time": "2024-12-05T14:47:33.258Z"
   },
   {
    "duration": 11,
    "start_time": "2024-12-05T14:47:33.267Z"
   },
   {
    "duration": 16,
    "start_time": "2024-12-05T14:47:33.280Z"
   },
   {
    "duration": 51,
    "start_time": "2024-12-05T14:47:33.298Z"
   },
   {
    "duration": 9,
    "start_time": "2024-12-05T14:47:33.353Z"
   },
   {
    "duration": 10,
    "start_time": "2024-12-05T14:47:33.364Z"
   },
   {
    "duration": 11,
    "start_time": "2024-12-05T14:47:33.376Z"
   },
   {
    "duration": 48,
    "start_time": "2024-12-05T14:47:33.389Z"
   },
   {
    "duration": 4,
    "start_time": "2024-12-05T14:47:33.439Z"
   },
   {
    "duration": 198,
    "start_time": "2024-12-05T14:47:33.447Z"
   },
   {
    "duration": 180,
    "start_time": "2024-12-05T14:47:33.647Z"
   },
   {
    "duration": 3985,
    "start_time": "2024-12-05T14:47:33.832Z"
   },
   {
    "duration": 153,
    "start_time": "2024-12-05T14:47:37.819Z"
   },
   {
    "duration": 182,
    "start_time": "2024-12-05T14:47:37.974Z"
   },
   {
    "duration": 14,
    "start_time": "2024-12-05T14:47:38.157Z"
   },
   {
    "duration": 5,
    "start_time": "2024-12-05T14:47:38.173Z"
   },
   {
    "duration": 136,
    "start_time": "2024-12-05T14:47:38.181Z"
   },
   {
    "duration": 28,
    "start_time": "2024-12-05T14:47:38.319Z"
   },
   {
    "duration": 22,
    "start_time": "2024-12-05T14:47:38.349Z"
   },
   {
    "duration": 9,
    "start_time": "2024-12-05T14:47:38.372Z"
   },
   {
    "duration": 15690,
    "start_time": "2024-12-05T14:47:38.434Z"
   },
   {
    "duration": 99437,
    "start_time": "2024-12-05T14:47:54.133Z"
   },
   {
    "duration": 1335,
    "start_time": "2024-12-05T14:49:33.571Z"
   },
   {
    "duration": 14,
    "start_time": "2024-12-05T14:49:34.908Z"
   },
   {
    "duration": 4,
    "start_time": "2024-12-05T14:49:34.930Z"
   },
   {
    "duration": 236,
    "start_time": "2024-12-05T14:49:34.936Z"
   },
   {
    "duration": 0,
    "start_time": "2024-12-05T14:49:35.174Z"
   },
   {
    "duration": 0,
    "start_time": "2024-12-05T14:49:35.176Z"
   },
   {
    "duration": 0,
    "start_time": "2024-12-05T14:49:35.177Z"
   },
   {
    "duration": 0,
    "start_time": "2024-12-05T14:49:35.178Z"
   },
   {
    "duration": 0,
    "start_time": "2024-12-05T14:49:35.179Z"
   },
   {
    "duration": 0,
    "start_time": "2024-12-05T14:49:35.180Z"
   },
   {
    "duration": 0,
    "start_time": "2024-12-05T14:49:35.181Z"
   },
   {
    "duration": 0,
    "start_time": "2024-12-05T14:49:35.182Z"
   },
   {
    "duration": 0,
    "start_time": "2024-12-05T14:49:35.183Z"
   },
   {
    "duration": 0,
    "start_time": "2024-12-05T14:49:35.184Z"
   },
   {
    "duration": 0,
    "start_time": "2024-12-05T14:49:35.185Z"
   },
   {
    "duration": 0,
    "start_time": "2024-12-05T14:49:35.186Z"
   },
   {
    "duration": 0,
    "start_time": "2024-12-05T14:49:35.187Z"
   },
   {
    "duration": 0,
    "start_time": "2024-12-05T14:49:35.188Z"
   },
   {
    "duration": 4,
    "start_time": "2024-12-05T14:50:48.835Z"
   },
   {
    "duration": 135,
    "start_time": "2024-12-05T14:50:56.154Z"
   },
   {
    "duration": 15,
    "start_time": "2024-12-05T14:50:56.291Z"
   },
   {
    "duration": 26,
    "start_time": "2024-12-05T14:50:56.307Z"
   },
   {
    "duration": 74230,
    "start_time": "2024-12-05T14:50:56.335Z"
   },
   {
    "duration": 73,
    "start_time": "2024-12-05T14:52:10.567Z"
   },
   {
    "duration": 12,
    "start_time": "2024-12-05T14:52:10.642Z"
   },
   {
    "duration": 4,
    "start_time": "2024-12-05T14:52:10.655Z"
   },
   {
    "duration": 4,
    "start_time": "2024-12-05T14:52:10.661Z"
   },
   {
    "duration": 178,
    "start_time": "2024-12-05T14:52:10.666Z"
   },
   {
    "duration": 34,
    "start_time": "2024-12-05T14:52:10.847Z"
   },
   {
    "duration": 27,
    "start_time": "2024-12-05T14:52:10.883Z"
   },
   {
    "duration": 139703,
    "start_time": "2024-12-05T14:52:10.911Z"
   },
   {
    "duration": 1779,
    "start_time": "2024-12-05T14:54:30.616Z"
   },
   {
    "duration": 493,
    "start_time": "2024-12-05T14:54:32.398Z"
   },
   {
    "duration": 14,
    "start_time": "2024-12-05T14:59:07.532Z"
   },
   {
    "duration": 37040,
    "start_time": "2024-12-05T15:00:01.618Z"
   },
   {
    "duration": 37841,
    "start_time": "2024-12-05T15:06:08.892Z"
   },
   {
    "duration": 148739,
    "start_time": "2024-12-05T15:07:45.650Z"
   },
   {
    "duration": 1213,
    "start_time": "2024-12-05T15:15:11.662Z"
   },
   {
    "duration": 13,
    "start_time": "2024-12-05T15:17:04.607Z"
   },
   {
    "duration": 4,
    "start_time": "2024-12-05T15:17:09.082Z"
   },
   {
    "duration": 4,
    "start_time": "2024-12-05T15:17:13.123Z"
   },
   {
    "duration": 166,
    "start_time": "2024-12-05T15:17:17.992Z"
   },
   {
    "duration": 34,
    "start_time": "2024-12-05T15:17:25.450Z"
   },
   {
    "duration": 30,
    "start_time": "2024-12-05T15:17:51.682Z"
   },
   {
    "duration": 278486,
    "start_time": "2024-12-05T15:18:54.619Z"
   },
   {
    "duration": 186,
    "start_time": "2024-12-05T15:23:59.176Z"
   },
   {
    "duration": 59,
    "start_time": "2024-12-05T15:24:43.827Z"
   },
   {
    "duration": 598,
    "start_time": "2024-12-05T15:30:44.683Z"
   },
   {
    "duration": 2677,
    "start_time": "2024-12-05T17:10:34.009Z"
   },
   {
    "duration": 28,
    "start_time": "2024-12-05T17:10:36.688Z"
   },
   {
    "duration": 10,
    "start_time": "2024-12-05T17:10:36.718Z"
   },
   {
    "duration": 12,
    "start_time": "2024-12-05T17:10:36.730Z"
   },
   {
    "duration": 6,
    "start_time": "2024-12-05T17:10:36.744Z"
   },
   {
    "duration": 10,
    "start_time": "2024-12-05T17:10:36.751Z"
   },
   {
    "duration": 11,
    "start_time": "2024-12-05T17:10:36.762Z"
   },
   {
    "duration": 19,
    "start_time": "2024-12-05T17:10:36.806Z"
   },
   {
    "duration": 8,
    "start_time": "2024-12-05T17:10:36.828Z"
   },
   {
    "duration": 9,
    "start_time": "2024-12-05T17:10:36.840Z"
   },
   {
    "duration": 8,
    "start_time": "2024-12-05T17:10:36.851Z"
   },
   {
    "duration": 44,
    "start_time": "2024-12-05T17:10:36.861Z"
   },
   {
    "duration": 4,
    "start_time": "2024-12-05T17:10:36.906Z"
   },
   {
    "duration": 150,
    "start_time": "2024-12-05T17:10:36.912Z"
   },
   {
    "duration": 128,
    "start_time": "2024-12-05T17:10:37.063Z"
   },
   {
    "duration": 3648,
    "start_time": "2024-12-05T17:10:37.193Z"
   },
   {
    "duration": 151,
    "start_time": "2024-12-05T17:10:40.843Z"
   },
   {
    "duration": 160,
    "start_time": "2024-12-05T17:10:40.996Z"
   },
   {
    "duration": 13,
    "start_time": "2024-12-05T17:10:41.159Z"
   },
   {
    "duration": 5,
    "start_time": "2024-12-05T17:10:41.173Z"
   },
   {
    "duration": 146,
    "start_time": "2024-12-05T17:10:41.180Z"
   },
   {
    "duration": 22,
    "start_time": "2024-12-05T17:10:41.328Z"
   },
   {
    "duration": 21,
    "start_time": "2024-12-05T17:10:41.352Z"
   },
   {
    "duration": 36,
    "start_time": "2024-12-05T17:10:41.375Z"
   },
   {
    "duration": 15585,
    "start_time": "2024-12-05T17:10:41.412Z"
   },
   {
    "duration": 98706,
    "start_time": "2024-12-05T17:10:56.999Z"
   },
   {
    "duration": 1329,
    "start_time": "2024-12-05T17:12:35.707Z"
   },
   {
    "duration": 13,
    "start_time": "2024-12-05T17:12:37.040Z"
   },
   {
    "duration": 6,
    "start_time": "2024-12-05T17:12:37.054Z"
   },
   {
    "duration": 4,
    "start_time": "2024-12-05T17:12:37.061Z"
   },
   {
    "duration": 161,
    "start_time": "2024-12-05T17:12:37.066Z"
   },
   {
    "duration": 14,
    "start_time": "2024-12-05T17:12:37.229Z"
   },
   {
    "duration": 8,
    "start_time": "2024-12-05T17:12:37.245Z"
   },
   {
    "duration": 148695,
    "start_time": "2024-12-05T17:12:37.255Z"
   },
   {
    "duration": 1223,
    "start_time": "2024-12-05T17:15:05.952Z"
   },
   {
    "duration": 13,
    "start_time": "2024-12-05T17:15:07.176Z"
   },
   {
    "duration": 14,
    "start_time": "2024-12-05T17:15:07.191Z"
   },
   {
    "duration": 3,
    "start_time": "2024-12-05T17:15:07.207Z"
   },
   {
    "duration": 179,
    "start_time": "2024-12-05T17:15:07.211Z"
   },
   {
    "duration": 37,
    "start_time": "2024-12-05T17:15:07.392Z"
   },
   {
    "duration": 26,
    "start_time": "2024-12-05T17:15:07.431Z"
   },
   {
    "duration": 278742,
    "start_time": "2024-12-05T17:15:07.459Z"
   },
   {
    "duration": 195,
    "start_time": "2024-12-05T17:19:46.203Z"
   },
   {
    "duration": 601,
    "start_time": "2024-12-05T17:19:46.400Z"
   },
   {
    "duration": 6,
    "start_time": "2024-12-05T17:22:39.516Z"
   },
   {
    "duration": 5,
    "start_time": "2024-12-05T17:22:48.927Z"
   },
   {
    "duration": 496273,
    "start_time": "2024-12-05T17:23:46.064Z"
   },
   {
    "duration": 1324,
    "start_time": "2024-12-05T17:32:48.749Z"
   },
   {
    "duration": 13,
    "start_time": "2024-12-05T17:33:43.265Z"
   },
   {
    "duration": 4,
    "start_time": "2024-12-05T17:33:49.333Z"
   },
   {
    "duration": 4,
    "start_time": "2024-12-05T17:33:54.353Z"
   },
   {
    "duration": 134,
    "start_time": "2024-12-05T17:34:08.594Z"
   },
   {
    "duration": 368759,
    "start_time": "2024-12-05T17:35:04.916Z"
   },
   {
    "duration": 3,
    "start_time": "2024-12-05T17:41:13.678Z"
   },
   {
    "duration": 1204,
    "start_time": "2024-12-05T17:41:27.423Z"
   },
   {
    "duration": 14,
    "start_time": "2024-12-05T17:42:48.823Z"
   },
   {
    "duration": 4,
    "start_time": "2024-12-05T17:42:52.183Z"
   },
   {
    "duration": 5,
    "start_time": "2024-12-05T17:42:57.638Z"
   },
   {
    "duration": 158,
    "start_time": "2024-12-05T17:43:05.542Z"
   },
   {
    "duration": 34,
    "start_time": "2024-12-05T17:43:11.304Z"
   },
   {
    "duration": 27,
    "start_time": "2024-12-05T17:43:19.426Z"
   },
   {
    "duration": 697422,
    "start_time": "2024-12-05T17:44:28.593Z"
   },
   {
    "duration": 456,
    "start_time": "2024-12-05T17:56:52.819Z"
   },
   {
    "duration": 132,
    "start_time": "2024-12-05T17:57:42.746Z"
   },
   {
    "duration": 605,
    "start_time": "2024-12-05T18:00:54.341Z"
   },
   {
    "duration": 23,
    "start_time": "2024-12-05T18:02:26.172Z"
   },
   {
    "duration": 3018,
    "start_time": "2024-12-05T18:03:18.593Z"
   },
   {
    "duration": 4,
    "start_time": "2024-12-05T18:05:18.722Z"
   },
   {
    "duration": 18,
    "start_time": "2024-12-05T18:05:34.518Z"
   },
   {
    "duration": 135,
    "start_time": "2024-12-05T18:07:53.278Z"
   },
   {
    "duration": 8895,
    "start_time": "2024-12-05T18:16:11.236Z"
   },
   {
    "duration": 8828,
    "start_time": "2024-12-05T18:17:44.939Z"
   },
   {
    "duration": 956,
    "start_time": "2024-12-05T18:18:58.262Z"
   },
   {
    "duration": 20,
    "start_time": "2024-12-05T18:18:59.220Z"
   },
   {
    "duration": 10,
    "start_time": "2024-12-05T18:18:59.241Z"
   },
   {
    "duration": 11,
    "start_time": "2024-12-05T18:18:59.254Z"
   },
   {
    "duration": 6,
    "start_time": "2024-12-05T18:18:59.266Z"
   },
   {
    "duration": 33,
    "start_time": "2024-12-05T18:18:59.274Z"
   },
   {
    "duration": 11,
    "start_time": "2024-12-05T18:18:59.308Z"
   },
   {
    "duration": 17,
    "start_time": "2024-12-05T18:18:59.321Z"
   },
   {
    "duration": 10,
    "start_time": "2024-12-05T18:18:59.340Z"
   },
   {
    "duration": 9,
    "start_time": "2024-12-05T18:18:59.355Z"
   },
   {
    "duration": 44,
    "start_time": "2024-12-05T18:18:59.365Z"
   },
   {
    "duration": 20,
    "start_time": "2024-12-05T18:18:59.410Z"
   },
   {
    "duration": 4,
    "start_time": "2024-12-05T18:18:59.431Z"
   },
   {
    "duration": 159,
    "start_time": "2024-12-05T18:18:59.437Z"
   },
   {
    "duration": 132,
    "start_time": "2024-12-05T18:18:59.597Z"
   },
   {
    "duration": 3643,
    "start_time": "2024-12-05T18:18:59.731Z"
   },
   {
    "duration": 148,
    "start_time": "2024-12-05T18:19:03.376Z"
   },
   {
    "duration": 181,
    "start_time": "2024-12-05T18:19:03.525Z"
   },
   {
    "duration": 23,
    "start_time": "2024-12-05T18:19:03.708Z"
   },
   {
    "duration": 5,
    "start_time": "2024-12-05T18:19:03.732Z"
   },
   {
    "duration": 138,
    "start_time": "2024-12-05T18:19:03.739Z"
   },
   {
    "duration": 32,
    "start_time": "2024-12-05T18:19:03.878Z"
   },
   {
    "duration": 26,
    "start_time": "2024-12-05T18:19:03.912Z"
   },
   {
    "duration": 67,
    "start_time": "2024-12-05T18:19:03.939Z"
   },
   {
    "duration": 15584,
    "start_time": "2024-12-05T18:19:04.008Z"
   },
   {
    "duration": 496935,
    "start_time": "2024-12-05T18:19:19.594Z"
   },
   {
    "duration": 1323,
    "start_time": "2024-12-05T18:27:36.531Z"
   },
   {
    "duration": 18,
    "start_time": "2024-12-05T18:27:37.859Z"
   },
   {
    "duration": 4,
    "start_time": "2024-12-05T18:27:37.879Z"
   },
   {
    "duration": 20,
    "start_time": "2024-12-05T18:27:37.885Z"
   },
   {
    "duration": 9149,
    "start_time": "2024-12-05T18:27:37.907Z"
   },
   {
    "duration": 0,
    "start_time": "2024-12-05T18:27:47.058Z"
   },
   {
    "duration": 0,
    "start_time": "2024-12-05T18:27:47.059Z"
   },
   {
    "duration": 1,
    "start_time": "2024-12-05T18:27:47.060Z"
   },
   {
    "duration": 0,
    "start_time": "2024-12-05T18:27:47.062Z"
   },
   {
    "duration": 0,
    "start_time": "2024-12-05T18:27:47.064Z"
   },
   {
    "duration": 0,
    "start_time": "2024-12-05T18:27:47.065Z"
   },
   {
    "duration": 0,
    "start_time": "2024-12-05T18:27:47.067Z"
   },
   {
    "duration": 0,
    "start_time": "2024-12-05T18:27:47.069Z"
   },
   {
    "duration": 0,
    "start_time": "2024-12-05T18:27:47.070Z"
   },
   {
    "duration": 0,
    "start_time": "2024-12-05T18:27:47.071Z"
   },
   {
    "duration": 0,
    "start_time": "2024-12-05T18:27:47.073Z"
   },
   {
    "duration": 0,
    "start_time": "2024-12-05T18:27:47.074Z"
   },
   {
    "duration": 0,
    "start_time": "2024-12-05T18:27:47.076Z"
   },
   {
    "duration": 18,
    "start_time": "2024-12-05T18:30:15.518Z"
   },
   {
    "duration": 9,
    "start_time": "2024-12-05T18:30:15.538Z"
   },
   {
    "duration": 140798,
    "start_time": "2024-12-05T18:30:15.549Z"
   },
   {
    "duration": 0,
    "start_time": "2024-12-05T18:32:36.350Z"
   },
   {
    "duration": 0,
    "start_time": "2024-12-05T18:32:36.352Z"
   },
   {
    "duration": 0,
    "start_time": "2024-12-05T18:32:36.353Z"
   },
   {
    "duration": 0,
    "start_time": "2024-12-05T18:32:36.354Z"
   },
   {
    "duration": 0,
    "start_time": "2024-12-05T18:32:36.355Z"
   },
   {
    "duration": 0,
    "start_time": "2024-12-05T18:32:36.356Z"
   },
   {
    "duration": 0,
    "start_time": "2024-12-05T18:32:36.357Z"
   },
   {
    "duration": 0,
    "start_time": "2024-12-05T18:32:36.358Z"
   },
   {
    "duration": 0,
    "start_time": "2024-12-05T18:32:36.359Z"
   },
   {
    "duration": 0,
    "start_time": "2024-12-05T18:32:36.360Z"
   },
   {
    "duration": 997,
    "start_time": "2024-12-05T18:33:03.186Z"
   },
   {
    "duration": 20,
    "start_time": "2024-12-05T18:33:04.185Z"
   },
   {
    "duration": 10,
    "start_time": "2024-12-05T18:33:04.207Z"
   },
   {
    "duration": 12,
    "start_time": "2024-12-05T18:33:04.219Z"
   },
   {
    "duration": 5,
    "start_time": "2024-12-05T18:33:04.232Z"
   },
   {
    "duration": 9,
    "start_time": "2024-12-05T18:33:04.239Z"
   },
   {
    "duration": 11,
    "start_time": "2024-12-05T18:33:04.250Z"
   },
   {
    "duration": 51,
    "start_time": "2024-12-05T18:33:04.262Z"
   },
   {
    "duration": 8,
    "start_time": "2024-12-05T18:33:04.314Z"
   },
   {
    "duration": 9,
    "start_time": "2024-12-05T18:33:04.325Z"
   },
   {
    "duration": 12,
    "start_time": "2024-12-05T18:33:04.336Z"
   },
   {
    "duration": 19,
    "start_time": "2024-12-05T18:33:04.349Z"
   },
   {
    "duration": 37,
    "start_time": "2024-12-05T18:33:04.370Z"
   },
   {
    "duration": 150,
    "start_time": "2024-12-05T18:33:04.409Z"
   },
   {
    "duration": 132,
    "start_time": "2024-12-05T18:33:04.560Z"
   },
   {
    "duration": 3606,
    "start_time": "2024-12-05T18:33:04.693Z"
   },
   {
    "duration": 148,
    "start_time": "2024-12-05T18:33:08.301Z"
   },
   {
    "duration": 160,
    "start_time": "2024-12-05T18:33:08.451Z"
   },
   {
    "duration": 26,
    "start_time": "2024-12-05T18:33:08.612Z"
   },
   {
    "duration": 5,
    "start_time": "2024-12-05T18:33:08.640Z"
   },
   {
    "duration": 148,
    "start_time": "2024-12-05T18:33:08.646Z"
   },
   {
    "duration": 30,
    "start_time": "2024-12-05T18:33:08.796Z"
   },
   {
    "duration": 21,
    "start_time": "2024-12-05T18:33:08.828Z"
   },
   {
    "duration": 56,
    "start_time": "2024-12-05T18:33:08.850Z"
   },
   {
    "duration": 15607,
    "start_time": "2024-12-05T18:33:08.908Z"
   },
   {
    "duration": 495923,
    "start_time": "2024-12-05T18:33:24.517Z"
   },
   {
    "duration": 1332,
    "start_time": "2024-12-05T18:41:40.442Z"
   },
   {
    "duration": 13,
    "start_time": "2024-12-05T18:41:41.778Z"
   },
   {
    "duration": 14,
    "start_time": "2024-12-05T18:41:41.793Z"
   },
   {
    "duration": 4,
    "start_time": "2024-12-05T18:41:41.809Z"
   },
   {
    "duration": 8879,
    "start_time": "2024-12-05T18:41:41.814Z"
   },
   {
    "duration": 22,
    "start_time": "2024-12-05T18:41:50.695Z"
   },
   {
    "duration": 9,
    "start_time": "2024-12-05T18:41:50.718Z"
   },
   {
    "duration": 368839,
    "start_time": "2024-12-05T18:41:50.728Z"
   },
   {
    "duration": 1236,
    "start_time": "2024-12-05T18:47:59.569Z"
   },
   {
    "duration": 14,
    "start_time": "2024-12-05T18:48:00.807Z"
   },
   {
    "duration": 4,
    "start_time": "2024-12-05T18:48:00.822Z"
   },
   {
    "duration": 4,
    "start_time": "2024-12-05T18:48:00.828Z"
   },
   {
    "duration": 181,
    "start_time": "2024-12-05T18:48:00.834Z"
   },
   {
    "duration": 36,
    "start_time": "2024-12-05T18:48:01.018Z"
   },
   {
    "duration": 26,
    "start_time": "2024-12-05T18:48:01.056Z"
   },
   {
    "duration": 662109,
    "start_time": "2024-12-05T18:48:01.084Z"
   },
   {
    "duration": 0,
    "start_time": "2024-12-05T18:59:03.195Z"
   },
   {
    "duration": 0,
    "start_time": "2024-12-05T18:59:03.196Z"
   },
   {
    "duration": 700090,
    "start_time": "2024-12-05T18:59:06.468Z"
   },
   {
    "duration": 703159,
    "start_time": "2024-12-05T19:10:53.111Z"
   },
   {
    "duration": 463,
    "start_time": "2024-12-05T19:22:36.272Z"
   },
   {
    "duration": 613,
    "start_time": "2024-12-05T19:22:36.737Z"
   },
   {
    "duration": 2762,
    "start_time": "2024-12-06T01:24:05.450Z"
   },
   {
    "duration": 21,
    "start_time": "2024-12-06T01:24:08.215Z"
   },
   {
    "duration": 10,
    "start_time": "2024-12-06T01:24:08.238Z"
   },
   {
    "duration": 12,
    "start_time": "2024-12-06T01:24:08.250Z"
   },
   {
    "duration": 23,
    "start_time": "2024-12-06T01:24:08.264Z"
   },
   {
    "duration": 10,
    "start_time": "2024-12-06T01:24:08.289Z"
   },
   {
    "duration": 11,
    "start_time": "2024-12-06T01:24:08.301Z"
   },
   {
    "duration": 15,
    "start_time": "2024-12-06T01:24:08.314Z"
   },
   {
    "duration": 8,
    "start_time": "2024-12-06T01:24:08.331Z"
   },
   {
    "duration": 43,
    "start_time": "2024-12-06T01:24:08.343Z"
   },
   {
    "duration": 9,
    "start_time": "2024-12-06T01:24:08.388Z"
   },
   {
    "duration": 17,
    "start_time": "2024-12-06T01:24:08.399Z"
   },
   {
    "duration": 3,
    "start_time": "2024-12-06T01:24:08.418Z"
   },
   {
    "duration": 175,
    "start_time": "2024-12-06T01:24:08.423Z"
   },
   {
    "duration": 187,
    "start_time": "2024-12-06T01:24:08.601Z"
   },
   {
    "duration": 3610,
    "start_time": "2024-12-06T01:24:08.790Z"
   },
   {
    "duration": 154,
    "start_time": "2024-12-06T01:24:12.402Z"
   },
   {
    "duration": 173,
    "start_time": "2024-12-06T01:24:12.558Z"
   },
   {
    "duration": 25,
    "start_time": "2024-12-06T01:24:12.733Z"
   },
   {
    "duration": 5,
    "start_time": "2024-12-06T01:24:12.761Z"
   },
   {
    "duration": 130,
    "start_time": "2024-12-06T01:24:12.787Z"
   },
   {
    "duration": 23,
    "start_time": "2024-12-06T01:24:12.919Z"
   },
   {
    "duration": 43,
    "start_time": "2024-12-06T01:24:12.944Z"
   },
   {
    "duration": 7,
    "start_time": "2024-12-06T01:24:12.989Z"
   },
   {
    "duration": 15794,
    "start_time": "2024-12-06T01:24:12.999Z"
   },
   {
    "duration": 499841,
    "start_time": "2024-12-06T01:24:28.795Z"
   },
   {
    "duration": 1338,
    "start_time": "2024-12-06T01:32:48.638Z"
   },
   {
    "duration": 13,
    "start_time": "2024-12-06T01:32:49.987Z"
   },
   {
    "duration": 3,
    "start_time": "2024-12-06T01:32:50.002Z"
   },
   {
    "duration": 3,
    "start_time": "2024-12-06T01:32:50.009Z"
   },
   {
    "duration": 8826,
    "start_time": "2024-12-06T01:32:50.014Z"
   },
   {
    "duration": 14,
    "start_time": "2024-12-06T01:32:58.842Z"
   },
   {
    "duration": 8,
    "start_time": "2024-12-06T01:32:58.858Z"
   },
   {
    "duration": 370212,
    "start_time": "2024-12-06T01:32:58.886Z"
   },
   {
    "duration": 1233,
    "start_time": "2024-12-06T01:39:09.100Z"
   },
   {
    "duration": 13,
    "start_time": "2024-12-06T01:39:10.335Z"
   },
   {
    "duration": 4,
    "start_time": "2024-12-06T01:39:10.349Z"
   },
   {
    "duration": 4,
    "start_time": "2024-12-06T01:39:10.354Z"
   },
   {
    "duration": 192,
    "start_time": "2024-12-06T01:39:10.360Z"
   },
   {
    "duration": 39,
    "start_time": "2024-12-06T01:39:10.555Z"
   },
   {
    "duration": 26,
    "start_time": "2024-12-06T01:39:10.596Z"
   },
   {
    "duration": 710695,
    "start_time": "2024-12-06T01:39:10.624Z"
   },
   {
    "duration": 466,
    "start_time": "2024-12-06T01:51:01.321Z"
   },
   {
    "duration": 609,
    "start_time": "2024-12-06T01:51:01.790Z"
   }
  ],
  "kernelspec": {
   "display_name": "Python 3 (ipykernel)",
   "language": "python",
   "name": "python3"
  },
  "language_info": {
   "codemirror_mode": {
    "name": "ipython",
    "version": 3
   },
   "file_extension": ".py",
   "mimetype": "text/x-python",
   "name": "python",
   "nbconvert_exporter": "python",
   "pygments_lexer": "ipython3",
   "version": "3.9.19"
  },
  "toc": {
   "base_numbering": 1,
   "nav_menu": {},
   "number_sections": true,
   "sideBar": true,
   "skip_h1_title": true,
   "title_cell": "Table of Contents",
   "title_sidebar": "Contents",
   "toc_cell": false,
   "toc_position": {
    "height": "calc(100% - 180px)",
    "left": "10px",
    "top": "150px",
    "width": "234.933px"
   },
   "toc_section_display": true,
   "toc_window_display": true
  }
 },
 "nbformat": 4,
 "nbformat_minor": 2
}
